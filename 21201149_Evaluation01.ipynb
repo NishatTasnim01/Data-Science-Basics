{
  "nbformat": 4,
  "nbformat_minor": 0,
  "metadata": {
    "colab": {
      "provenance": [],
      "include_colab_link": true
    },
    "kernelspec": {
      "name": "python3",
      "display_name": "Python 3"
    },
    "language_info": {
      "name": "python"
    }
  },
  "cells": [
    {
      "cell_type": "markdown",
      "metadata": {
        "id": "view-in-github",
        "colab_type": "text"
      },
      "source": [
        "<a href=\"https://colab.research.google.com/github/NishatTasnim01/Data-Science-Basics/blob/main/21201149_Evaluation01.ipynb\" target=\"_parent\"><img src=\"https://colab.research.google.com/assets/colab-badge.svg\" alt=\"Open In Colab\"/></a>"
      ]
    },
    {
      "cell_type": "markdown",
      "source": [
        "# ***Evaluation 01***"
      ],
      "metadata": {
        "id": "nDP-4ZbEdx3-"
      }
    },
    {
      "cell_type": "markdown",
      "source": [
        "# **Question 01:**"
      ],
      "metadata": {
        "id": "KBb_de9Ab4RG"
      }
    },
    {
      "cell_type": "markdown",
      "source": [
        "1. Create a 6×4 matrix allMarks to contain marks for all courses."
      ],
      "metadata": {
        "id": "gfyEoBX7bXov"
      }
    },
    {
      "cell_type": "code",
      "source": [
        "import numpy as np\n",
        "\n",
        "allMarks = np.random.randint(15, 100, size=(6, 4))\n",
        "print(allMarks)"
      ],
      "metadata": {
        "colab": {
          "base_uri": "https://localhost:8080/"
        },
        "id": "WZx75miyWXjp",
        "outputId": "6007d1b4-a77b-4d1b-837d-09c903ce07e4"
      },
      "execution_count": null,
      "outputs": [
        {
          "output_type": "stream",
          "name": "stdout",
          "text": [
            "[[59 72 41 22]\n",
            " [69 69 97 19]\n",
            " [79 33 74 82]\n",
            " [15 23 90 37]\n",
            " [55 96 39 26]\n",
            " [16 39 21 21]]\n"
          ]
        }
      ]
    },
    {
      "cell_type": "markdown",
      "source": [
        "2. Scale down all the marks in 20."
      ],
      "metadata": {
        "id": "s93TY0xEbpkK"
      }
    },
    {
      "cell_type": "code",
      "source": [
        "scaled_marks = allMarks * 20 / 100\n",
        "print(scaled_marks)"
      ],
      "metadata": {
        "colab": {
          "base_uri": "https://localhost:8080/"
        },
        "id": "Qzq00EQsYN6n",
        "outputId": "77992521-1680-4897-d106-656c83a4da10"
      },
      "execution_count": null,
      "outputs": [
        {
          "output_type": "stream",
          "name": "stdout",
          "text": [
            "[[11.8 14.4  8.2  4.4]\n",
            " [13.8 13.8 19.4  3.8]\n",
            " [15.8  6.6 14.8 16.4]\n",
            " [ 3.   4.6 18.   7.4]\n",
            " [11.  19.2  7.8  5.2]\n",
            " [ 3.2  7.8  4.2  4.2]]\n"
          ]
        }
      ]
    },
    {
      "cell_type": "markdown",
      "source": [
        "3. Extract Chetan’s mark and show his total marks."
      ],
      "metadata": {
        "id": "R78xG7aTbr4y"
      }
    },
    {
      "cell_type": "code",
      "source": [
        "chetan_marks = allMarks[2]\n",
        "print(chetan_marks)\n",
        "\n",
        "chetan_total_marks = chetan_marks.sum()\n",
        "print(chetan_total_marks)"
      ],
      "metadata": {
        "colab": {
          "base_uri": "https://localhost:8080/"
        },
        "id": "R9iqp9YAZcHu",
        "outputId": "9e85dcc0-5266-4619-db48-48df3459082c"
      },
      "execution_count": null,
      "outputs": [
        {
          "output_type": "stream",
          "name": "stdout",
          "text": [
            "[79 33 74 82]\n",
            "268\n"
          ]
        }
      ]
    },
    {
      "cell_type": "markdown",
      "source": [
        "4. Show average marks of ‘Thermodynamics’ and ‘mechanics’ courses."
      ],
      "metadata": {
        "id": "a4Uhe8-vbz2x"
      }
    },
    {
      "cell_type": "code",
      "source": [
        "T = allMarks[:, 2]\n",
        "M = allMarks[:, 3]\n",
        "print(T)\n",
        "print(M)\n",
        "\n",
        "average_T = T.mean()\n",
        "average_M = M.mean()\n",
        "print(average_T)\n",
        "print(average_M)"
      ],
      "metadata": {
        "colab": {
          "base_uri": "https://localhost:8080/"
        },
        "id": "YUeZbDYiYX_Y",
        "outputId": "ed698173-53b2-4467-b7a3-126a337a36c3"
      },
      "execution_count": null,
      "outputs": [
        {
          "output_type": "stream",
          "name": "stdout",
          "text": [
            "[41 97 74 90 39 21]\n",
            "[22 19 82 37 26 21]\n",
            "60.333333333333336\n",
            "34.5\n"
          ]
        }
      ]
    },
    {
      "cell_type": "code",
      "source": [
        "T = allMarks[:, 2]\n",
        "M = allMarks[:, 3]\n",
        "print(T)\n",
        "print(M)\n",
        "\n",
        "average_T = T.mean().round(2)\n",
        "average_M = M.mean().round(2)\n",
        "print(average_T)\n",
        "print(average_M)"
      ],
      "metadata": {
        "colab": {
          "base_uri": "https://localhost:8080/"
        },
        "id": "3Szf4TKPberW",
        "outputId": "6c505e7e-32b4-4c51-a003-226933796b18"
      },
      "execution_count": null,
      "outputs": [
        {
          "output_type": "stream",
          "name": "stdout",
          "text": [
            "[41 97 74 90 39 21]\n",
            "[22 19 82 37 26 21]\n",
            "60.33\n",
            "34.5\n"
          ]
        }
      ]
    },
    {
      "cell_type": "markdown",
      "source": [
        "# **Question 02 :**"
      ],
      "metadata": {
        "id": "VsZMse2Sb-8-"
      }
    },
    {
      "cell_type": "code",
      "source": [
        "import numpy as np\n",
        "import matplotlib.pyplot as plt"
      ],
      "metadata": {
        "id": "CUGxIodGcJW3"
      },
      "execution_count": null,
      "outputs": []
    },
    {
      "cell_type": "code",
      "source": [
        "def f(x):\n",
        "  return 4 * np.sin(2*x)"
      ],
      "metadata": {
        "id": "1KjvtMLmjO4H"
      },
      "execution_count": null,
      "outputs": []
    },
    {
      "cell_type": "code",
      "source": [
        "f(3)"
      ],
      "metadata": {
        "colab": {
          "base_uri": "https://localhost:8080/"
        },
        "id": "y-alJ2aImAkX",
        "outputId": "81d0afd3-8edc-4fe1-fec8-b00c41ad0d29"
      },
      "execution_count": null,
      "outputs": [
        {
          "output_type": "execute_result",
          "data": {
            "text/plain": [
              "-1.1176619927957034"
            ]
          },
          "metadata": {},
          "execution_count": 89
        }
      ]
    },
    {
      "cell_type": "code",
      "source": [
        "def ff(x):\n",
        "  return 8 * np.cos(2*x)"
      ],
      "metadata": {
        "id": "U0e34uKBoQJG"
      },
      "execution_count": null,
      "outputs": []
    },
    {
      "cell_type": "code",
      "source": [
        "ff(3)   #True_Value"
      ],
      "metadata": {
        "colab": {
          "base_uri": "https://localhost:8080/"
        },
        "id": "h6sRGx-toaOt",
        "outputId": "547728e5-b2da-4cc7-ed03-044b4105e0bf"
      },
      "execution_count": null,
      "outputs": [
        {
          "output_type": "execute_result",
          "data": {
            "text/plain": [
              "7.681362293202928"
            ]
          },
          "metadata": {},
          "execution_count": 91
        }
      ]
    },
    {
      "cell_type": "code",
      "source": [
        "def der(f, x, h):\n",
        "  return (4*np.sin(2*(x+h)) - 4*np.sin(2*(x))) / (h)"
      ],
      "metadata": {
        "id": "BPoAx6OWllAP"
      },
      "execution_count": null,
      "outputs": []
    },
    {
      "cell_type": "code",
      "source": [
        "h = [0.3, 0.15, 0.1, 0.05, 0.01, 0.001]\n",
        "x = 3\n",
        "for i in h:\n",
        "    print(\"H = \", i, \"; Approximate = \", der(f, x, i))   #Approximate_Value"
      ],
      "metadata": {
        "colab": {
          "base_uri": "https://localhost:8080/"
        },
        "id": "-1-6aMtblyrD",
        "outputId": "47916ba2-6342-4428-cec2-8deb1c896462"
      },
      "execution_count": null,
      "outputs": [
        {
          "output_type": "stream",
          "name": "stdout",
          "text": [
            "H =  0.3 ; Approximate =  7.8794248228307175\n",
            "H =  0.15 ; Approximate =  7.899450631554016\n",
            "H =  0.1 ; Approximate =  7.853043815257179\n",
            "H =  0.05 ; Approximate =  7.780239514146398\n",
            "H =  0.01 ; Approximate =  7.703202707382784\n",
            "H =  0.001 ; Approximate =  7.683592495535407\n"
          ]
        }
      ]
    },
    {
      "cell_type": "markdown",
      "source": [
        "# **True Error**"
      ],
      "metadata": {
        "id": "TSp4FBU3nvnc"
      }
    },
    {
      "cell_type": "code",
      "source": [
        "true_value = 7.681362293202928\n",
        "h = [0.3, 0.15, 0.1, 0.05, 0.01, 0.001]\n",
        "x = 3\n",
        "for i in h:\n",
        "    approx_value = der(f, x, i)\n",
        "    print(\"H = \", i, \"; Approximate = \", approx_value, \"; True Error = \", abs(true_value - approx_value))"
      ],
      "metadata": {
        "colab": {
          "base_uri": "https://localhost:8080/"
        },
        "id": "GDgLIVKFnuxM",
        "outputId": "9b4ba33a-f9b7-495c-9d82-e661c55fc67f"
      },
      "execution_count": null,
      "outputs": [
        {
          "output_type": "stream",
          "name": "stdout",
          "text": [
            "H =  0.3 ; Approximate =  7.8794248228307175 ; True Error =  0.1980625296277898\n",
            "H =  0.15 ; Approximate =  7.899450631554016 ; True Error =  0.21808833835108832\n",
            "H =  0.1 ; Approximate =  7.853043815257179 ; True Error =  0.1716815220542509\n",
            "H =  0.05 ; Approximate =  7.780239514146398 ; True Error =  0.09887722094347051\n",
            "H =  0.01 ; Approximate =  7.703202707382784 ; True Error =  0.021840414179855827\n",
            "H =  0.001 ; Approximate =  7.683592495535407 ; True Error =  0.002230202332479614\n"
          ]
        }
      ]
    },
    {
      "cell_type": "markdown",
      "source": [
        "# **TE Plot**"
      ],
      "metadata": {
        "id": "_mfxY8-HvKhz"
      }
    },
    {
      "cell_type": "code",
      "source": [
        "true_value = 7.681362293202928\n",
        "\n",
        "h = [0.15, 0.1, 0.05, 0.01, 0.001, 0.0001]\n",
        "x = 3\n",
        "errors = []\n",
        "\n",
        "for i in h:\n",
        "    approx_value = der(f, x, i)\n",
        "    TE = abs(true_value - approx_value)\n",
        "    errors.append(TE)\n",
        "\n",
        "print(\"H Values: \", h)\n",
        "print(\"Errors: \", errors)\n",
        "\n",
        "plt.figure(figsize=(10, 5))\n",
        "plt.plot(h, errors, marker = 'x', color = 'purple', linewidth = 3, markersize = 10)\n",
        "plt.xlabel(\"h\", fontdict={'fontsize': 15})\n",
        "plt.ylabel(\"True Error\", fontdict={'fontsize': 15})\n",
        "plt.title(\"True Error vs Step Size\", fontdict={'fontsize': 20})\n",
        "plt.show()"
      ],
      "metadata": {
        "colab": {
          "base_uri": "https://localhost:8080/",
          "height": 536
        },
        "id": "Ip1qKP2RtQHv",
        "outputId": "c5c9d6d7-be3b-43e8-fe13-082ddb46ffeb"
      },
      "execution_count": null,
      "outputs": [
        {
          "output_type": "stream",
          "name": "stdout",
          "text": [
            "H Values:  [0.15, 0.1, 0.05, 0.01, 0.001, 0.0001]\n",
            "Errors:  [0.21808833835108832, 0.1716815220542509, 0.09887722094347051, 0.021840414179855827, 0.002230202332479614, 0.00022348120543380645]\n"
          ]
        },
        {
          "output_type": "display_data",
          "data": {
            "text/plain": [
              "<Figure size 1000x500 with 1 Axes>"
            ],
            "image/png": "[encoded data removed]"
          },
          "metadata": {}
        }
      ]
    },
    {
      "cell_type": "markdown",
      "source": [
        "# **Approximate Error**"
      ],
      "metadata": {
        "id": "JriOYH20pSIU"
      }
    },
    {
      "cell_type": "code",
      "source": [
        "prev_approx = der(f, x=3, h=0.3)\n",
        "print(\"First Approximation: \", prev_approx)\n",
        "print()\n",
        "\n",
        "h = [0.15, 0.1, 0.05, 0.01, 0.001, 0.0001]\n",
        "for i in h:\n",
        "    present_approx = der(f, x=3, h=i)\n",
        "\n",
        "    print(\"Previous approximation for h = \", i, \" is: \", prev_approx)\n",
        "    print(\"Present approximation for h = \", i, \" is: \", present_approx)\n",
        "\n",
        "    AE = abs(present_approx - prev_approx)\n",
        "\n",
        "    print(\"AE: \", AE)\n",
        "    print()\n",
        "    prev_approx = present_approx"
      ],
      "metadata": {
        "colab": {
          "base_uri": "https://localhost:8080/"
        },
        "id": "YIprabnrpko9",
        "outputId": "88ad14aa-7115-4a7a-c098-e1926550dd36"
      },
      "execution_count": null,
      "outputs": [
        {
          "output_type": "stream",
          "name": "stdout",
          "text": [
            "First Approximation:  7.8794248228307175\n",
            "\n",
            "Previous approximation for h =  0.15  is:  7.8794248228307175\n",
            "Present approximation for h =  0.15  is:  7.899450631554016\n",
            "AE:  0.02002580872329851\n",
            "\n",
            "Previous approximation for h =  0.1  is:  7.899450631554016\n",
            "Present approximation for h =  0.1  is:  7.853043815257179\n",
            "AE:  0.046406816296837405\n",
            "\n",
            "Previous approximation for h =  0.05  is:  7.853043815257179\n",
            "Present approximation for h =  0.05  is:  7.780239514146398\n",
            "AE:  0.0728043011107804\n",
            "\n",
            "Previous approximation for h =  0.01  is:  7.780239514146398\n",
            "Present approximation for h =  0.01  is:  7.703202707382784\n",
            "AE:  0.07703680676361468\n",
            "\n",
            "Previous approximation for h =  0.001  is:  7.703202707382784\n",
            "Present approximation for h =  0.001  is:  7.683592495535407\n",
            "AE:  0.019610211847376213\n",
            "\n",
            "Previous approximation for h =  0.0001  is:  7.683592495535407\n",
            "Present approximation for h =  0.0001  is:  7.6815857744083615\n",
            "AE:  0.0020067211270458074\n",
            "\n"
          ]
        }
      ]
    },
    {
      "cell_type": "markdown",
      "source": [
        "# **AE Plot**"
      ],
      "metadata": {
        "id": "WQDM-BZCqGCe"
      }
    },
    {
      "cell_type": "code",
      "source": [
        "prev_approx = der(f, x=3, h=0.3)\n",
        "\n",
        "h = [0.15, 0.1, 0.05, 0.01, 0.001, 0.0001]\n",
        "errors = []\n",
        "\n",
        "for i in h:\n",
        "    present_approx = der(f, x=3, h=i)\n",
        "    AE = abs(present_approx - prev_approx)\n",
        "    errors.append(AE)\n",
        "    prev_approx = present_approx\n",
        "\n",
        "print(\"H Values: \", h)\n",
        "print(\"Errors: \", errors)\n",
        "\n",
        "plt.figure(figsize=(10, 5))\n",
        "plt.plot(h, errors, marker = 'x', color = 'purple', linewidth = 3, markersize = 10)\n",
        "plt.xlabel(\"h\", fontdict={'fontsize': 15})\n",
        "plt.ylabel(\"AE\", fontdict={'fontsize': 15})\n",
        "plt.title(\"Approximate Error vs Step Size\", fontdict={'fontsize': 20})\n",
        "plt.show()"
      ],
      "metadata": {
        "colab": {
          "base_uri": "https://localhost:8080/",
          "height": 536
        },
        "id": "BPvAroEHqK5U",
        "outputId": "feb443eb-d8ea-435d-a652-e6299671ebd8"
      },
      "execution_count": null,
      "outputs": [
        {
          "output_type": "stream",
          "name": "stdout",
          "text": [
            "H Values:  [0.15, 0.1, 0.05, 0.01, 0.001, 0.0001]\n",
            "Errors:  [0.02002580872329851, 0.046406816296837405, 0.0728043011107804, 0.07703680676361468, 0.019610211847376213, 0.0020067211270458074]\n"
          ]
        },
        {
          "output_type": "display_data",
          "data": {
            "text/plain": [
              "<Figure size 1000x500 with 1 Axes>"
            ],
            "image/png": "[encoded data removed]"
          },
          "metadata": {}
        }
      ]
    },
    {
      "cell_type": "markdown",
      "source": [
        "# **Relative Approximate Error**"
      ],
      "metadata": {
        "id": "fflBB1Clrr0d"
      }
    },
    {
      "cell_type": "code",
      "source": [
        "prev_approx = der(f, x=3, h=0.3)\n",
        "print(\"First Approximation: \", prev_approx)\n",
        "print()\n",
        "\n",
        "h = [0.15, 0.1, 0.05, 0.01, 0.001, 0.0001]\n",
        "for i in h:\n",
        "    present_approx = der(f, x=3, h=i)\n",
        "    print(\"Previous approximation for h = \", i, \" is: \", prev_approx)\n",
        "    print(\"Present approximation for h = \", i, \" is: \", present_approx)\n",
        "\n",
        "    RAE = abs(present_approx - prev_approx) * 100 / present_approx\n",
        "\n",
        "    print(\"RAE: \", RAE, \"%\")\n",
        "    print()\n",
        "    prev_approx = present_approx"
      ],
      "metadata": {
        "colab": {
          "base_uri": "https://localhost:8080/"
        },
        "id": "rklhkirSrrFq",
        "outputId": "8a0f81d1-ffa2-43cf-ca6c-a040ce1a2f44"
      },
      "execution_count": null,
      "outputs": [
        {
          "output_type": "stream",
          "name": "stdout",
          "text": [
            "First Approximation:  7.8794248228307175\n",
            "\n",
            "Previous approximation for h =  0.15  is:  7.8794248228307175\n",
            "Present approximation for h =  0.15  is:  7.899450631554016\n",
            "RAE:  0.25350887874792555 %\n",
            "\n",
            "Previous approximation for h =  0.1  is:  7.899450631554016\n",
            "Present approximation for h =  0.1  is:  7.853043815257179\n",
            "RAE:  0.5909404988506056 %\n",
            "\n",
            "Previous approximation for h =  0.05  is:  7.853043815257179\n",
            "Present approximation for h =  0.05  is:  7.780239514146398\n",
            "RAE:  0.9357591238470768 %\n",
            "\n",
            "Previous approximation for h =  0.01  is:  7.780239514146398\n",
            "Present approximation for h =  0.01  is:  7.703202707382784\n",
            "RAE:  1.0000620480853017 %\n",
            "\n",
            "Previous approximation for h =  0.001  is:  7.703202707382784\n",
            "Present approximation for h =  0.001  is:  7.683592495535407\n",
            "RAE:  0.25522191421227547 %\n",
            "\n",
            "Previous approximation for h =  0.0001  is:  7.683592495535407\n",
            "Present approximation for h =  0.0001  is:  7.6815857744083615\n",
            "RAE:  0.026123787274905042 %\n",
            "\n"
          ]
        }
      ]
    },
    {
      "cell_type": "markdown",
      "source": [
        "# **RAE Plot**"
      ],
      "metadata": {
        "id": "tqLG9IAbsHwT"
      }
    },
    {
      "cell_type": "code",
      "source": [
        "prev_approx = der(f, x=3, h=0.3)\n",
        "\n",
        "h = [0.15, 0.1, 0.05, 0.01, 0.001, 0.0001]\n",
        "errors = []\n",
        "for i in h:\n",
        "    present_approx = der(f, x=3, h=i)\n",
        "    RAE = abs(present_approx - prev_approx)*100/present_approx\n",
        "    errors.append(RAE)\n",
        "    prev_approx = present_approx\n",
        "\n",
        "print(\"H values: \", h)\n",
        "print(\"Errors: \", errors)\n",
        "\n",
        "plt.figure(figsize=(10, 5))\n",
        "plt.plot(h, errors, marker = 'x', color = 'violet', linewidth = 3, markersize = 10)\n",
        "plt.xlabel(\"h\", fontdict={'fontsize': 15})\n",
        "plt.ylabel(\"RAE\", fontdict={'fontsize': 15})\n",
        "plt.title(\"Relative Approximate Error vs Step Size\", fontdict={'fontsize': 20})\n",
        "plt.show()"
      ],
      "metadata": {
        "colab": {
          "base_uri": "https://localhost:8080/",
          "height": 536
        },
        "id": "u0rhepGUsK2c",
        "outputId": "b2c31071-339c-4390-b510-0f9391fd960a"
      },
      "execution_count": null,
      "outputs": [
        {
          "output_type": "stream",
          "name": "stdout",
          "text": [
            "H values:  [0.15, 0.1, 0.05, 0.01, 0.001, 0.0001]\n",
            "Errors:  [0.25350887874792555, 0.5909404988506056, 0.9357591238470768, 1.0000620480853017, 0.25522191421227547, 0.026123787274905042]\n"
          ]
        },
        {
          "output_type": "display_data",
          "data": {
            "text/plain": [
              "<Figure size 1000x500 with 1 Axes>"
            ],
            "image/png": "[encoded data removed]"
          },
          "metadata": {}
        }
      ]
    },
    {
      "cell_type": "markdown",
      "source": [
        "***The End***"
      ],
      "metadata": {
        "id": "7xLX8z9RstlF"
      }
    }
  ]
}