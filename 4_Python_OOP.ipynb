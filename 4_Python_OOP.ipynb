{
  "nbformat": 4,
  "nbformat_minor": 0,
  "metadata": {
    "colab": {
      "provenance": [],
      "include_colab_link": true
    },
    "kernelspec": {
      "name": "python3",
      "display_name": "Python 3"
    },
    "language_info": {
      "name": "python"
    }
  },
  "cells": [
    {
      "cell_type": "markdown",
      "metadata": {
        "id": "view-in-github",
        "colab_type": "text"
      },
      "source": [
        "<a href=\"https://colab.research.google.com/github/NishatTasnim01/Data-Science-Basics/blob/main/4_Python_OOP.ipynb\" target=\"_parent\"><img src=\"https://colab.research.google.com/assets/colab-badge.svg\" alt=\"Open In Colab\"/></a>"
      ]
    },
    {
      "cell_type": "code",
      "execution_count": null,
      "metadata": {
        "id": "tH92pt6A53iS"
      },
      "outputs": [],
      "source": [
        "class ContentCreator:\n",
        "  def __init__(self, name, followers, content_pieces):\n",
        "    self.name = name\n",
        "    self.followers = followers\n",
        "    self.content_pieces = content_pieces\n",
        "    print(\"content creator poyda hoilo\")\n",
        "\n",
        "  def show_details(self):\n",
        "    print(f\" omuk er naam: {self.name}, or followers :{self.followers} ta\")\n",
        "\n",
        "  def calculate_revenue(self):\n",
        "    return self.followers * self.content_pieces * 0.01\n"
      ]
    },
    {
      "cell_type": "code",
      "source": [
        "cc1 = ContentCreator(\"rafsan the tax fraud\", 420000, 70)"
      ],
      "metadata": {
        "colab": {
          "base_uri": "https://localhost:8080/"
        },
        "id": "9Xz8CJq-KNYS",
        "outputId": "9d5b7240-c6af-4460-c3cf-72046ea523ad"
      },
      "execution_count": null,
      "outputs": [
        {
          "output_type": "stream",
          "name": "stdout",
          "text": [
            "content creator poyda hoilo\n"
          ]
        }
      ]
    },
    {
      "cell_type": "code",
      "source": [
        "cc1.show_details()"
      ],
      "metadata": {
        "colab": {
          "base_uri": "https://localhost:8080/"
        },
        "id": "q8X1vzKsLo4a",
        "outputId": "c897b71b-1824-4dce-a370-ca2da3ed19d4"
      },
      "execution_count": null,
      "outputs": [
        {
          "output_type": "stream",
          "name": "stdout",
          "text": [
            " omuk er naam: rafsan the tax fraud, or followers :420000 ta\n"
          ]
        }
      ]
    },
    {
      "cell_type": "code",
      "source": [
        "print(cc1.calculate_revenue())"
      ],
      "metadata": {
        "colab": {
          "base_uri": "https://localhost:8080/"
        },
        "id": "fGwyqr2LKsSp",
        "outputId": "aef4a29a-1b75-4e5a-e8d5-b0b97c7baea9"
      },
      "execution_count": null,
      "outputs": [
        {
          "output_type": "stream",
          "name": "stdout",
          "text": [
            "294000.0\n"
          ]
        }
      ]
    },
    {
      "cell_type": "markdown",
      "source": [
        "## inheritence"
      ],
      "metadata": {
        "id": "FND7kGs5L3Ly"
      }
    },
    {
      "cell_type": "code",
      "source": [
        "class Youtuber(ContentCreator):\n",
        "  def __init__(self, name, subscribers, videos, shorts, awards):\n",
        "    # super().__init__(self, name, subscribers, videos+shorts) this is wrong\n",
        "    super().__init__(name, subscribers, videos+shorts)\n",
        "    self.awards = awards\n",
        "\n",
        "  def calculate_revenue(self):\n",
        "    return super().calculate_revenue() * self.awards\n",
        "\n"
      ],
      "metadata": {
        "id": "mtng1G_NL2fx"
      },
      "execution_count": null,
      "outputs": []
    },
    {
      "cell_type": "code",
      "source": [
        "ytber1 = Youtuber(\"MrBeast\", 100000000, 200, 150, 5)"
      ],
      "metadata": {
        "colab": {
          "base_uri": "https://localhost:8080/"
        },
        "id": "28ME7cevQt6U",
        "outputId": "d08eaeb0-0caa-4f57-a2fe-4562e2997d98"
      },
      "execution_count": null,
      "outputs": [
        {
          "output_type": "stream",
          "name": "stdout",
          "text": [
            "content creator poyda hoilo\n"
          ]
        }
      ]
    },
    {
      "cell_type": "code",
      "source": [
        "ytber1.show_details()"
      ],
      "metadata": {
        "colab": {
          "base_uri": "https://localhost:8080/"
        },
        "id": "ET1f53MLQ83j",
        "outputId": "5fb75b29-298c-4cdd-f58b-bd75d1406f2b"
      },
      "execution_count": null,
      "outputs": [
        {
          "output_type": "stream",
          "name": "stdout",
          "text": [
            " omuk er naam: MrBeast, or followers :100000000 ta\n"
          ]
        }
      ]
    },
    {
      "cell_type": "code",
      "source": [
        "ytber1.calculate_revenue()"
      ],
      "metadata": {
        "colab": {
          "base_uri": "https://localhost:8080/"
        },
        "id": "M0Ugyd5IR2X2",
        "outputId": "a05e415d-9a0c-45bb-c889-dddf18ef9bb8"
      },
      "execution_count": null,
      "outputs": [
        {
          "output_type": "execute_result",
          "data": {
            "text/plain": [
              "1750000000.0"
            ]
          },
          "metadata": {},
          "execution_count": 20
        }
      ]
    },
    {
      "cell_type": "code",
      "source": [],
      "metadata": {
        "id": "hVbyBUhWSCmC"
      },
      "execution_count": null,
      "outputs": []
    }
  ]
}