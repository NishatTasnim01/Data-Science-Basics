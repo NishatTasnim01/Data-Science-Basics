{
  "nbformat": 4,
  "nbformat_minor": 0,
  "metadata": {
    "colab": {
      "provenance": [],
      "authorship_tag": "ABX9TyNJ2yM8dNmWuC+pKLbb903X",
      "include_colab_link": true
    },
    "kernelspec": {
      "name": "python3",
      "display_name": "Python 3"
    },
    "language_info": {
      "name": "python"
    }
  },
  "cells": [
    {
      "cell_type": "markdown",
      "metadata": {
        "id": "view-in-github",
        "colab_type": "text"
      },
      "source": [
        "<a href=\"https://colab.research.google.com/github/NishatTasnim01/Data-Science-Basics/blob/main/2_Python_Basic.ipynb\" target=\"_parent\"><img src=\"https://colab.research.google.com/assets/colab-badge.svg\" alt=\"Open In Colab\"/></a>"
      ]
    },
    {
      "cell_type": "markdown",
      "source": [
        "# **Data Structure X Python**\n",
        "\n",
        "### **Lists**\n",
        "Lists are ordered, mutable collections that allow duplicate elements. They are defined using square brackets (`[]`).\n",
        "\n",
        "```python\n",
        "my_list = [1, 2, 3, 4]\n",
        "print(\"List:\", my_list)\n",
        "```\n",
        "\n",
        "### **Tuples**\n",
        "Tuples are ordered, immutable collections that allow duplicate elements. They are defined using parentheses (`()`).\n",
        "\n",
        "```python\n",
        "my_tuple = (1, 2, 3, 4)\n",
        "print(\"Tuple:\", my_tuple)\n",
        "```\n",
        "\n",
        "### **Sets**\n",
        "Sets are unordered collections of unique elements. They are defined using curly braces (`{}`) or the `set()` function.\n",
        "\n",
        "```python\n",
        "my_set = {1, 2, 3, 4}\n",
        "print(\"Set:\", my_set)\n",
        "```\n",
        "\n",
        "### **Dictionaries**\n",
        "Dictionaries are unordered collections of key-value pairs. Keys must be unique, and values can be any type. They are defined using curly braces (`{}`).\n",
        "\n",
        "```python\n",
        "my_dict = {\"name\": \"Alice\", \"age\": 25}\n",
        "print(\"Dictionary:\", my_dict)\n",
        "```"
      ],
      "metadata": {
        "id": "0preT5Jb8Ef-"
      }
    },
    {
      "cell_type": "markdown",
      "source": [
        "### **Key Operations and Methods**\n",
        "\n",
        "#### Lists\n",
        "- `append()`: Adds an element to the end of the list.\n",
        "- `remove()`: Removes the first occurrence of a specified value.\n",
        "- `pop()`: Removes and returns an element at a specified position.\n",
        "- `extend()`: Extends the list by appending elements from an iterable.\n",
        "- `insert()`: Inserts an element at a specified position.\n",
        "\n",
        "#### Tuples\n",
        "- **Indexing**: Access elements by position (e.g., `my_tuple[0]`).\n",
        "- **Slicing**: Retrieve a subset of elements (e.g., `my_tuple[1:3]`).\n",
        "- **Note**: No modification methods since tuples are immutable.\n",
        "\n",
        "#### Dictionaries\n",
        "- `keys()`: Returns a view object that displays a list of all the keys.\n",
        "- `values()`: Returns a view object that displays a list of all the values.\n",
        "- `items()`: Returns a view object that displays a list of all the key-value pairs.\n",
        "- `get()`: Returns the value for a specified key. Returns `None` if the key does not exist.\n",
        "- `update()`: Updates the dictionary with elements from another dictionary or iterable of key-value pairs.\n",
        "- `pop()`: Removes the item with the specified key and returns its value.\n",
        "\n",
        "#### Sets\n",
        "- `add()`: Adds an element to the set.\n",
        "- `remove()`: Removes a specified element from the set. Raises an error if the element is not found.\n",
        "- `discard()`: Removes a specified element from the set. Does not raise an error if the element is not found.\n",
        "- `union()`: Returns a new set with elements from the set and all others.\n",
        "- `intersection()`: Returns a new set with elements common to the set and others.\n",
        "- `difference()`: Returns a new set with elements in the set that are not in the others."
      ],
      "metadata": {
        "id": "-dNPVxVu-AGZ"
      }
    },
    {
      "cell_type": "markdown",
      "source": [
        "# **🔶 Lists 🔷**"
      ],
      "metadata": {
        "id": "UI8MUaNLwp0t"
      }
    },
    {
      "cell_type": "code",
      "execution_count": null,
      "metadata": {
        "colab": {
          "base_uri": "https://localhost:8080/"
        },
        "id": "zBJ6Z5WAwkjA",
        "outputId": "125b63d7-2ee7-409d-81e9-270d83ab1fab"
      },
      "outputs": [
        {
          "output_type": "stream",
          "name": "stdout",
          "text": [
            "['apple', 'banana', 'cherry']\n"
          ]
        }
      ],
      "source": [
        "mylist = [\"apple\", \"banana\", \"cherry\"]\n",
        "print(mylist)"
      ]
    },
    {
      "cell_type": "code",
      "source": [
        "mylist = [\"apple\", \"banana\", \"cherry\"]\n",
        "print(len(mylist))"
      ],
      "metadata": {
        "colab": {
          "base_uri": "https://localhost:8080/"
        },
        "id": "D7YS9qOBxIdt",
        "outputId": "57ee5d16-0f44-4b0d-a987-37528cd2574b"
      },
      "execution_count": null,
      "outputs": [
        {
          "output_type": "stream",
          "name": "stdout",
          "text": [
            "3\n"
          ]
        }
      ]
    },
    {
      "cell_type": "code",
      "source": [
        "list1 = [\"apple\", \"banana\", \"cherry\"]\n",
        "list2 = [1, 5, 7, 9, 3]\n",
        "list3 = [True, False, False]\n",
        "\n",
        "print(list1)\n",
        "print(list2)\n",
        "print(list3)"
      ],
      "metadata": {
        "colab": {
          "base_uri": "https://localhost:8080/"
        },
        "id": "WNS7bVK2xSrm",
        "outputId": "0bd28641-6de6-4f25-91ab-614d599ff020"
      },
      "execution_count": null,
      "outputs": [
        {
          "output_type": "stream",
          "name": "stdout",
          "text": [
            "['apple', 'banana', 'cherry']\n",
            "[1, 5, 7, 9, 3]\n",
            "[True, False, False]\n"
          ]
        }
      ]
    },
    {
      "cell_type": "code",
      "source": [
        "mylist = [\"apple\", \"banana\", \"cherry\"]\n",
        "print(type(mylist))"
      ],
      "metadata": {
        "colab": {
          "base_uri": "https://localhost:8080/"
        },
        "id": "4uXghpUExbSx",
        "outputId": "d74a9913-e14e-40a0-8ad0-95943fcd8779"
      },
      "execution_count": null,
      "outputs": [
        {
          "output_type": "stream",
          "name": "stdout",
          "text": [
            "<class 'list'>\n"
          ]
        }
      ]
    },
    {
      "cell_type": "code",
      "source": [
        "list1 = [\"abc\", 34, True, 40, \"male\"]\n",
        "\n",
        "print(list1)\n",
        "print(type(list1))"
      ],
      "metadata": {
        "colab": {
          "base_uri": "https://localhost:8080/"
        },
        "id": "Oeosm1j0xYJG",
        "outputId": "73d74fe8-86ff-402b-8f5a-3905dfbdc2e6"
      },
      "execution_count": null,
      "outputs": [
        {
          "output_type": "stream",
          "name": "stdout",
          "text": [
            "['abc', 34, True, 40, 'male']\n",
            "<class 'list'>\n"
          ]
        }
      ]
    },
    {
      "cell_type": "code",
      "source": [
        "newlist = list((\"apple\", \"banana\", \"cherry\"))\n",
        "print(newlist)"
      ],
      "metadata": {
        "colab": {
          "base_uri": "https://localhost:8080/"
        },
        "id": "UFGirUB6xfu3",
        "outputId": "24c78df1-ab3c-4a75-e966-10060fe0d857"
      },
      "execution_count": null,
      "outputs": [
        {
          "output_type": "stream",
          "name": "stdout",
          "text": [
            "['apple', 'banana', 'cherry']\n"
          ]
        }
      ]
    },
    {
      "cell_type": "markdown",
      "source": [
        "## **Access List Items**"
      ],
      "metadata": {
        "id": "0i-5Lr81xyLq"
      }
    },
    {
      "cell_type": "code",
      "source": [
        "list1 = [\"apple\", \"banana\", \"cherry\", \"watermelon\"]\n",
        "print(list1[1])"
      ],
      "metadata": {
        "colab": {
          "base_uri": "https://localhost:8080/"
        },
        "id": "75pP0EczxvSv",
        "outputId": "94c3bc36-12b9-4faf-db4b-9b4c28015888"
      },
      "execution_count": null,
      "outputs": [
        {
          "output_type": "stream",
          "name": "stdout",
          "text": [
            "banana\n"
          ]
        }
      ]
    },
    {
      "cell_type": "code",
      "source": [
        "list1 = [\"apple\", \"banana\", \"cherry\", \"watermelon\"]\n",
        "print(list1[-1])"
      ],
      "metadata": {
        "colab": {
          "base_uri": "https://localhost:8080/"
        },
        "id": "2eckHi1yx9Ir",
        "outputId": "2ba4bcb7-949e-442a-f24c-8f2b31005a47"
      },
      "execution_count": null,
      "outputs": [
        {
          "output_type": "stream",
          "name": "stdout",
          "text": [
            "watermelon\n"
          ]
        }
      ]
    },
    {
      "cell_type": "code",
      "source": [
        "list2 = [\"apple\", \"banana\", \"cherry\", \"orange\", \"kiwi\", \"melon\", \"mango\"]\n",
        "print(list2[2:5])\n",
        "print(list2[:4])\n",
        "print(list2[2:])\n",
        "print(list2[-4:-1])"
      ],
      "metadata": {
        "colab": {
          "base_uri": "https://localhost:8080/"
        },
        "id": "rRJFD5FFyBBW",
        "outputId": "3f45a7c9-e749-48f6-d2e5-d2df2e07dfa1"
      },
      "execution_count": null,
      "outputs": [
        {
          "output_type": "stream",
          "name": "stdout",
          "text": [
            "['cherry', 'orange', 'kiwi']\n",
            "['apple', 'banana', 'cherry', 'orange']\n",
            "['cherry', 'orange', 'kiwi', 'melon', 'mango']\n",
            "['orange', 'kiwi', 'melon']\n"
          ]
        }
      ]
    },
    {
      "cell_type": "code",
      "source": [
        "list3 = [\"apple\", \"avocado\", \"banana\", \"cherry\"]\n",
        "if \"avocado\" in list3:\n",
        "  print(\"Yes, Avocado 🥑 is in the fruits list, you wanna eat?\")"
      ],
      "metadata": {
        "colab": {
          "base_uri": "https://localhost:8080/"
        },
        "id": "82bcFYVlyILM",
        "outputId": "6930a946-7fee-4245-ad74-a6f9906317eb"
      },
      "execution_count": null,
      "outputs": [
        {
          "output_type": "stream",
          "name": "stdout",
          "text": [
            "Yes, Avocado 🥑 is in the fruits list, you wanna eat?\n"
          ]
        }
      ]
    },
    {
      "cell_type": "markdown",
      "source": [
        "## **Change List Items**"
      ],
      "metadata": {
        "id": "mVrs4K6KyrEK"
      }
    },
    {
      "cell_type": "code",
      "source": [
        "list1 = [\"apple\", \"banana\", \"cherry\"]\n",
        "list1[1] = \"durian\"\n",
        "print(list1)"
      ],
      "metadata": {
        "colab": {
          "base_uri": "https://localhost:8080/"
        },
        "id": "BIF7u9CJymj1",
        "outputId": "4c3ead2b-0be2-4c20-c5d5-509363b7965c"
      },
      "execution_count": null,
      "outputs": [
        {
          "output_type": "stream",
          "name": "stdout",
          "text": [
            "['apple', 'durian', 'cherry']\n"
          ]
        }
      ]
    },
    {
      "cell_type": "code",
      "source": [
        "list2 = [\"apple\", \"banana\", \"cherry\", \"orange\", \"kiwi\", \"mango\"]\n",
        "list2[1:3] = [\"pawpaw\", \"noni\"]\n",
        "print(list2)"
      ],
      "metadata": {
        "colab": {
          "base_uri": "https://localhost:8080/"
        },
        "id": "qhLPSG7ly_Zz",
        "outputId": "afbb4c4b-ab91-4446-f15d-e92f30293f5a"
      },
      "execution_count": null,
      "outputs": [
        {
          "output_type": "stream",
          "name": "stdout",
          "text": [
            "['apple', 'pawpaw', 'noni', 'orange', 'kiwi', 'mango']\n"
          ]
        }
      ]
    },
    {
      "cell_type": "code",
      "source": [
        "list3 = [\"kuwini mango\", \"banana\", \"black apple\"]\n",
        "list3[1:2] = [\"coco de mer\", \"snakefruit\"]\n",
        "print(list3)"
      ],
      "metadata": {
        "colab": {
          "base_uri": "https://localhost:8080/"
        },
        "id": "Jc0Mx1duza1q",
        "outputId": "65721e83-e659-4b7b-8135-2bf06117666f"
      },
      "execution_count": null,
      "outputs": [
        {
          "output_type": "stream",
          "name": "stdout",
          "text": [
            "['kuwini mango', 'coco de mer', 'snakefruit', 'black apple']\n"
          ]
        }
      ]
    },
    {
      "cell_type": "code",
      "source": [
        "list4 = [\"kuwini mango\", \"blue java banana\", \"black apple\"]\n",
        "list4[1:3] = [\"chocolate pudding fruit\"]\n",
        "print(list4)"
      ],
      "metadata": {
        "colab": {
          "base_uri": "https://localhost:8080/"
        },
        "id": "eWewziIr0OHs",
        "outputId": "f5aa8bca-b54c-4bc1-92a0-fa2537448037"
      },
      "execution_count": null,
      "outputs": [
        {
          "output_type": "stream",
          "name": "stdout",
          "text": [
            "['kuwini mango', 'chocolate pudding fruit']\n"
          ]
        }
      ]
    },
    {
      "cell_type": "code",
      "source": [
        "list5 = [\"kuwini mango\", \"blue java banana\", \"black apple\"]\n",
        "list5.insert(2, \"finger lime\")\n",
        "print(list5)"
      ],
      "metadata": {
        "colab": {
          "base_uri": "https://localhost:8080/"
        },
        "id": "TYnwEd0s0eA7",
        "outputId": "f37f5838-0403-4baf-f4cb-3958a3f97f66"
      },
      "execution_count": null,
      "outputs": [
        {
          "output_type": "stream",
          "name": "stdout",
          "text": [
            "['kuwini mango', 'blue java banana', 'finger lime', 'black apple']\n"
          ]
        }
      ]
    },
    {
      "cell_type": "markdown",
      "source": [
        "## **Add List Items**"
      ],
      "metadata": {
        "id": "4yVw1TvV0_ja"
      }
    },
    {
      "cell_type": "markdown",
      "source": [
        "#### **Append Items**"
      ],
      "metadata": {
        "id": "LrdIeBtX1DHx"
      }
    },
    {
      "cell_type": "code",
      "source": [
        "list1 = [\"apple\", \"banana\", \"cherry\"]\n",
        "list1.append(\"orange\")\n",
        "print(list1)"
      ],
      "metadata": {
        "colab": {
          "base_uri": "https://localhost:8080/"
        },
        "id": "xLv-AO1j1BMg",
        "outputId": "35198d34-8c7a-4bd3-ea28-482ec71316f3"
      },
      "execution_count": null,
      "outputs": [
        {
          "output_type": "stream",
          "name": "stdout",
          "text": [
            "['apple', 'banana', 'cherry', 'orange']\n"
          ]
        }
      ]
    },
    {
      "cell_type": "markdown",
      "source": [
        "#### **Insert Items**"
      ],
      "metadata": {
        "id": "93h-stfn1Kz1"
      }
    },
    {
      "cell_type": "code",
      "source": [
        "list1 = [\"apple\", \"banana\", \"cherry\"]\n",
        "list1.insert(1, \"orange\")\n",
        "print(list1)"
      ],
      "metadata": {
        "colab": {
          "base_uri": "https://localhost:8080/"
        },
        "id": "t5dvmx2x1JZi",
        "outputId": "6919d7cd-26b8-45b0-ae2c-91adeacbaa12"
      },
      "execution_count": null,
      "outputs": [
        {
          "output_type": "stream",
          "name": "stdout",
          "text": [
            "['apple', 'orange', 'banana', 'cherry']\n"
          ]
        }
      ]
    },
    {
      "cell_type": "markdown",
      "source": [
        "#### **Extend List**"
      ],
      "metadata": {
        "id": "GY7IqNR_1Pnu"
      }
    },
    {
      "cell_type": "code",
      "source": [
        "list1 = [\"apple\", \"banana\", \"cherry\"]\n",
        "tropical = [\"mango\", \"pineapple\", \"papaya\"]\n",
        "list1.extend(tropical)\n",
        "print(list1)"
      ],
      "metadata": {
        "colab": {
          "base_uri": "https://localhost:8080/"
        },
        "id": "8usIj-8a1Sag",
        "outputId": "8047afc8-9abd-4ea9-cb4e-ab0e65a09624"
      },
      "execution_count": null,
      "outputs": [
        {
          "output_type": "stream",
          "name": "stdout",
          "text": [
            "['apple', 'banana', 'cherry', 'mango', 'pineapple', 'papaya']\n"
          ]
        }
      ]
    },
    {
      "cell_type": "markdown",
      "source": [
        "#### **Add Any Iterable**"
      ],
      "metadata": {
        "id": "Bkg-11Aj1Yy8"
      }
    },
    {
      "cell_type": "code",
      "source": [
        "list1 = [\"apple\", \"banana\", \"cherry\"]\n",
        "thistuple = (\"kiwi\", \"orange\")\n",
        "list1.extend(thistuple)\n",
        "print(list1)"
      ],
      "metadata": {
        "colab": {
          "base_uri": "https://localhost:8080/"
        },
        "id": "joFN4odT1adi",
        "outputId": "e789fd62-9f77-4fef-f179-0f2eed5db8de"
      },
      "execution_count": null,
      "outputs": [
        {
          "output_type": "stream",
          "name": "stdout",
          "text": [
            "['apple', 'banana', 'cherry', 'kiwi', 'orange']\n"
          ]
        }
      ]
    },
    {
      "cell_type": "markdown",
      "source": [
        "## **Remove List Items**"
      ],
      "metadata": {
        "id": "vaWptHFz1w0G"
      }
    },
    {
      "cell_type": "code",
      "source": [
        "list2 = [\"apple\", \"banana\", \"cherry\", \"orange\", \"kiwi\", \"mango\"]\n",
        "list2.remove(\"banana\")\n",
        "print(list2)"
      ],
      "metadata": {
        "colab": {
          "base_uri": "https://localhost:8080/"
        },
        "id": "GrzNvk0M157A",
        "outputId": "43dad537-ffda-4ae7-8a70-8fd33045846f"
      },
      "execution_count": null,
      "outputs": [
        {
          "output_type": "stream",
          "name": "stdout",
          "text": [
            "['apple', 'cherry', 'orange', 'kiwi', 'mango']\n"
          ]
        }
      ]
    },
    {
      "cell_type": "code",
      "source": [
        "list2 = [\"apple\", \"banana\", \"cherry\", \"orange\", \"banana\", \"kiwi\", \"mango\"]\n",
        "list2.remove(\"banana\")   #Remove the first occurrence of \"banana\"\n",
        "print(list2)"
      ],
      "metadata": {
        "colab": {
          "base_uri": "https://localhost:8080/"
        },
        "id": "rhHyEMHF3k2l",
        "outputId": "313843db-911e-42d9-d5c7-d96c105227f0"
      },
      "execution_count": null,
      "outputs": [
        {
          "output_type": "stream",
          "name": "stdout",
          "text": [
            "['apple', 'cherry', 'orange', 'banana', 'kiwi', 'mango']\n"
          ]
        }
      ]
    },
    {
      "cell_type": "code",
      "source": [
        "list2 = [\"apple\", \"banana\", \"cherry\", \"orange\", \"kiwi\", \"mango\"]\n",
        "list2.pop(1)             #pop() method removes the specified index\n",
        "print(list2)"
      ],
      "metadata": {
        "colab": {
          "base_uri": "https://localhost:8080/"
        },
        "id": "lTINcBf_3nCU",
        "outputId": "af7af636-967b-44f1-b31c-2448b2fc30eb"
      },
      "execution_count": null,
      "outputs": [
        {
          "output_type": "stream",
          "name": "stdout",
          "text": [
            "['apple', 'cherry', 'orange', 'kiwi', 'mango']\n"
          ]
        }
      ]
    },
    {
      "cell_type": "code",
      "source": [
        "list2 = [\"apple\", \"banana\", \"cherry\", \"orange\", \"kiwi\", \"mango\"]\n",
        "list2.pop()              #index not specified, the pop() method removes the last item\n",
        "print(list2)"
      ],
      "metadata": {
        "colab": {
          "base_uri": "https://localhost:8080/"
        },
        "id": "-SAFGTLs3pCU",
        "outputId": "b5bf7080-368a-4202-8d66-e3517d5b2334"
      },
      "execution_count": null,
      "outputs": [
        {
          "output_type": "stream",
          "name": "stdout",
          "text": [
            "['apple', 'banana', 'cherry', 'orange', 'kiwi']\n"
          ]
        }
      ]
    },
    {
      "cell_type": "code",
      "source": [
        "list2 = [\"apple\", \"banana\", \"cherry\", \"orange\", \"kiwi\", \"mango\"]\n",
        "del list2[0]             #del keyword removes the specified index\n",
        "print(list2)"
      ],
      "metadata": {
        "colab": {
          "base_uri": "https://localhost:8080/"
        },
        "id": "WAIQeK0-3rTh",
        "outputId": "ae45d579-a16b-4fe7-bb92-ff766a60c503"
      },
      "execution_count": null,
      "outputs": [
        {
          "output_type": "stream",
          "name": "stdout",
          "text": [
            "['banana', 'cherry', 'orange', 'kiwi', 'mango']\n"
          ]
        }
      ]
    },
    {
      "cell_type": "code",
      "source": [
        "list2 = [\"apple\", \"banana\", \"cherry\", \"orange\", \"kiwi\", \"mango\"]\n",
        "del list2                #del keyword can also delete the list completely\n",
        "#can not print since there is no list"
      ],
      "metadata": {
        "id": "YsbxoOgD3ttQ"
      },
      "execution_count": null,
      "outputs": []
    },
    {
      "cell_type": "code",
      "source": [
        "list2 = [\"apple\", \"banana\", \"cherry\", \"orange\", \"kiwi\", \"mango\"]\n",
        "list2.clear()            #clear() method empties the list\n",
        "print(list2)"
      ],
      "metadata": {
        "colab": {
          "base_uri": "https://localhost:8080/"
        },
        "id": "wOg3CeZH3wDh",
        "outputId": "aacfc59c-062b-4310-c11b-a8fdf39ca41e"
      },
      "execution_count": null,
      "outputs": [
        {
          "output_type": "stream",
          "name": "stdout",
          "text": [
            "[]\n"
          ]
        }
      ]
    },
    {
      "cell_type": "markdown",
      "source": [
        "## **Loop Lists**"
      ],
      "metadata": {
        "id": "HwiHp2Hm39mK"
      }
    },
    {
      "cell_type": "markdown",
      "source": [
        "#### **Loop Through a List**"
      ],
      "metadata": {
        "id": "B5gC45CP4c17"
      }
    },
    {
      "cell_type": "code",
      "source": [
        "list3 = [\"apple\", \"banana\", \"cherry\"]\n",
        "for x in list3:\n",
        "  print(x)"
      ],
      "metadata": {
        "colab": {
          "base_uri": "https://localhost:8080/"
        },
        "id": "wsSFED9E4EGS",
        "outputId": "ca941a4b-66cb-4942-d2d5-9906d46839f1"
      },
      "execution_count": null,
      "outputs": [
        {
          "output_type": "stream",
          "name": "stdout",
          "text": [
            "apple\n",
            "banana\n",
            "cherry\n"
          ]
        }
      ]
    },
    {
      "cell_type": "markdown",
      "source": [
        "#### **Loop Through the Index Numbers**"
      ],
      "metadata": {
        "id": "ucS6bjuU4how"
      }
    },
    {
      "cell_type": "code",
      "source": [
        "list3 = [\"apple\", \"banana\", \"cherry\"]\n",
        "for i in range(len(list3)):\n",
        "  print(list3[i])"
      ],
      "metadata": {
        "colab": {
          "base_uri": "https://localhost:8080/"
        },
        "id": "R3WstpTR4V30",
        "outputId": "b814fd5f-3482-4105-9f02-6ea2bdbf6b43"
      },
      "execution_count": null,
      "outputs": [
        {
          "output_type": "stream",
          "name": "stdout",
          "text": [
            "apple\n",
            "banana\n",
            "cherry\n"
          ]
        }
      ]
    },
    {
      "cell_type": "markdown",
      "source": [
        "#### **Using a While Loop**"
      ],
      "metadata": {
        "id": "z6xWavqB4ljt"
      }
    },
    {
      "cell_type": "code",
      "source": [
        "list3 = [\"apple\", \"banana\", \"cherry\"]\n",
        "i = 0\n",
        "while i < len(list3):\n",
        "  print(list3[i])\n",
        "  i = i + 1"
      ],
      "metadata": {
        "colab": {
          "base_uri": "https://localhost:8080/"
        },
        "id": "khgL2tj54XtA",
        "outputId": "5adc9a8e-1ad6-433f-9ff6-77622a1fed8a"
      },
      "execution_count": null,
      "outputs": [
        {
          "output_type": "stream",
          "name": "stdout",
          "text": [
            "apple\n",
            "banana\n",
            "cherry\n"
          ]
        }
      ]
    },
    {
      "cell_type": "markdown",
      "source": [
        "#### **Looping Using List Comprehension**"
      ],
      "metadata": {
        "id": "nonlXc6D4pV8"
      }
    },
    {
      "cell_type": "code",
      "source": [
        "list3 = [\"apple\", \"banana\", \"cherry\"]\n",
        "[print(x) for x in list3]"
      ],
      "metadata": {
        "colab": {
          "base_uri": "https://localhost:8080/"
        },
        "id": "9vEuLn0e4aSm",
        "outputId": "d6f8879f-869d-4541-c08e-b64d169cb4f1"
      },
      "execution_count": null,
      "outputs": [
        {
          "output_type": "stream",
          "name": "stdout",
          "text": [
            "apple\n",
            "banana\n",
            "cherry\n"
          ]
        },
        {
          "output_type": "execute_result",
          "data": {
            "text/plain": [
              "[None, None, None]"
            ]
          },
          "metadata": {},
          "execution_count": 54
        }
      ]
    },
    {
      "cell_type": "markdown",
      "source": [
        "## **List Comprehension**"
      ],
      "metadata": {
        "id": "HsViGd2o4vrn"
      }
    },
    {
      "cell_type": "code",
      "source": [
        "fruits = [\"apple\", \"banana\", \"cherry\", \"kiwi\", \"mango\"]\n",
        "newlist = []\n",
        "\n",
        "for x in fruits:\n",
        "  if \"a\" in x:\n",
        "    newlist.append(x)\n",
        "\n",
        "print(newlist)"
      ],
      "metadata": {
        "colab": {
          "base_uri": "https://localhost:8080/"
        },
        "id": "Pa6wq-zq4yip",
        "outputId": "93c1efd8-16e4-44e6-b967-734d74c27324"
      },
      "execution_count": null,
      "outputs": [
        {
          "output_type": "stream",
          "name": "stdout",
          "text": [
            "['apple', 'banana', 'mango']\n"
          ]
        }
      ]
    },
    {
      "cell_type": "code",
      "source": [
        "fruits = [\"apple\", \"banana\", \"cherry\", \"kiwi\", \"mango\"]\n",
        "\n",
        "newlist = [x for x in fruits if \"a\" in x]\n",
        "print(newlist)"
      ],
      "metadata": {
        "colab": {
          "base_uri": "https://localhost:8080/"
        },
        "id": "ADWPqjNo44w1",
        "outputId": "9dfd2768-fb6a-4e74-cffe-9983841d4de6"
      },
      "execution_count": null,
      "outputs": [
        {
          "output_type": "stream",
          "name": "stdout",
          "text": [
            "['apple', 'banana', 'mango']\n"
          ]
        }
      ]
    },
    {
      "cell_type": "markdown",
      "source": [
        "##### **Practice:**"
      ],
      "metadata": {
        "id": "dC1MCPnQ55iY"
      }
    },
    {
      "cell_type": "code",
      "source": [
        "# Initial list of fruits\n",
        "fruits = [\"apple\", \"banana\", \"cherry\", \"apple\", \"orange\", \"banana\", \"grape\"]\n",
        "\n",
        "# Example 1: Filter out \"apple\"\n",
        "newlist = [x for x in fruits if x != \"apple\"]\n",
        "print(\"Without 'apple':\", newlist)\n",
        "\n",
        "# Example 2: Without condition (no filtering, just copy the list)\n",
        "newlist = [x for x in fruits]\n",
        "print(\"All fruits:\", newlist)\n",
        "\n",
        "# Example 3: Create a list using range()\n",
        "newlist = [x for x in range(10)]\n",
        "print(\"Range list:\", newlist)\n",
        "\n",
        "# Example 4: Accept only numbers less than 5 from range()\n",
        "newlist = [x for x in range(10) if x < 5]\n",
        "print(\"Numbers less than 5:\", newlist)\n",
        "\n",
        "# Example 5: Set all fruit names to uppercase\n",
        "newlist = [x.upper() for x in fruits]\n",
        "print(\"Uppercase fruits:\", newlist)\n",
        "\n",
        "# Example 6: Set all values to 'cucamelon'\n",
        "newlist = ['cucamelon' for x in fruits]\n",
        "print(\"All 'cucamelon':\", newlist)\n",
        "\n",
        "# Example 7: Replace \"banana\" with \"orange\"\n",
        "newlist = [x if x != \"banana\" else \"orange\" for x in fruits]\n",
        "print(\"Bananas replaced with oranges:\", newlist)"
      ],
      "metadata": {
        "colab": {
          "base_uri": "https://localhost:8080/"
        },
        "id": "jnbfeAw95JIz",
        "outputId": "87bc528c-eccf-45d8-cd33-858dc58de3a9"
      },
      "execution_count": null,
      "outputs": [
        {
          "output_type": "stream",
          "name": "stdout",
          "text": [
            "Without 'apple': ['banana', 'cherry', 'orange', 'banana', 'grape']\n",
            "All fruits: ['apple', 'banana', 'cherry', 'apple', 'orange', 'banana', 'grape']\n",
            "Range list: [0, 1, 2, 3, 4, 5, 6, 7, 8, 9]\n",
            "Numbers less than 5: [0, 1, 2, 3, 4]\n",
            "Uppercase fruits: ['APPLE', 'BANANA', 'CHERRY', 'APPLE', 'ORANGE', 'BANANA', 'GRAPE']\n",
            "All 'cucamelon': ['cucamelon', 'cucamelon', 'cucamelon', 'cucamelon', 'cucamelon', 'cucamelon', 'cucamelon']\n",
            "Bananas replaced with oranges: ['apple', 'orange', 'cherry', 'apple', 'orange', 'orange', 'grape']\n"
          ]
        }
      ]
    },
    {
      "cell_type": "markdown",
      "source": [
        "## **Sort Lists**"
      ],
      "metadata": {
        "id": "LXSiF55z6A2-"
      }
    },
    {
      "cell_type": "code",
      "source": [
        "list1 = [\"orange\", \"mango\", \"kiwi\", \"pineapple\", \"banana\"]\n",
        "list1.sort()\n",
        "print(list1)"
      ],
      "metadata": {
        "id": "eS6dlj596CLS",
        "colab": {
          "base_uri": "https://localhost:8080/"
        },
        "outputId": "5287e1d3-2d1a-4416-bfa1-87b9b9718c24"
      },
      "execution_count": null,
      "outputs": [
        {
          "output_type": "stream",
          "name": "stdout",
          "text": [
            "['banana', 'kiwi', 'mango', 'orange', 'pineapple']\n"
          ]
        }
      ]
    },
    {
      "cell_type": "code",
      "source": [
        "list2 = [100, 50, 65, 82, 23]\n",
        "list2.sort()\n",
        "print(list2)"
      ],
      "metadata": {
        "colab": {
          "base_uri": "https://localhost:8080/"
        },
        "id": "N56J53WTuFnm",
        "outputId": "b3e3f91b-68ab-4eea-e735-e2ff33338406"
      },
      "execution_count": null,
      "outputs": [
        {
          "output_type": "stream",
          "name": "stdout",
          "text": [
            "[23, 50, 65, 82, 100]\n"
          ]
        }
      ]
    },
    {
      "cell_type": "code",
      "source": [
        "list3 = [\"orange\", \"mango\", \"kiwi\", \"pineapple\", \"banana\"]\n",
        "list3.sort(reverse = True)\n",
        "print(list3)"
      ],
      "metadata": {
        "colab": {
          "base_uri": "https://localhost:8080/"
        },
        "id": "aR39diKsuQLt",
        "outputId": "4ea853c1-dd6d-4b50-ef3c-7a31852d53c1"
      },
      "execution_count": null,
      "outputs": [
        {
          "output_type": "stream",
          "name": "stdout",
          "text": [
            "['pineapple', 'orange', 'mango', 'kiwi', 'banana']\n"
          ]
        }
      ]
    },
    {
      "cell_type": "code",
      "source": [
        "list4 = [100, 50, 65, 82, 23]\n",
        "list4.sort(reverse = True)\n",
        "print(list4)"
      ],
      "metadata": {
        "colab": {
          "base_uri": "https://localhost:8080/"
        },
        "id": "dhFRRl2sueZV",
        "outputId": "2017b243-0c2c-487e-a366-9082465dd8ad"
      },
      "execution_count": null,
      "outputs": [
        {
          "output_type": "stream",
          "name": "stdout",
          "text": [
            "[100, 82, 65, 50, 23]\n"
          ]
        }
      ]
    },
    {
      "cell_type": "code",
      "source": [
        "def myfunc(n):\n",
        "  return abs(n - 50)\n",
        "\n",
        "list5 = [100, 50, 65, 82, 23]\n",
        "list5.sort(key = myfunc)\n",
        "print(list5)"
      ],
      "metadata": {
        "colab": {
          "base_uri": "https://localhost:8080/"
        },
        "id": "bgcvkfM9uk2Q",
        "outputId": "bffb22ab-463d-4b82-a63f-1aabd3c1dc38"
      },
      "execution_count": null,
      "outputs": [
        {
          "output_type": "stream",
          "name": "stdout",
          "text": [
            "[50, 65, 23, 82, 100]\n"
          ]
        }
      ]
    },
    {
      "cell_type": "code",
      "source": [
        "list6 = [\"banana\", \"Orange\", \"Kiwi\", \"cherry\"]\n",
        "list6.sort()       #sort() method is case sensitive, resulting in all capital letters being sorted before lower case letters\n",
        "print(list6)"
      ],
      "metadata": {
        "colab": {
          "base_uri": "https://localhost:8080/"
        },
        "id": "i4wlU_2Zuqm9",
        "outputId": "04da58cf-630d-48f4-bacf-f5dfca762880"
      },
      "execution_count": null,
      "outputs": [
        {
          "output_type": "stream",
          "name": "stdout",
          "text": [
            "['Kiwi', 'Orange', 'banana', 'cherry']\n"
          ]
        }
      ]
    },
    {
      "cell_type": "code",
      "source": [
        "list7 = [\"banana\", \"Orange\", \"Kiwi\", \"cherry\"]\n",
        "list7.sort(key = str.lower)\n",
        "print(list7)"
      ],
      "metadata": {
        "colab": {
          "base_uri": "https://localhost:8080/"
        },
        "id": "bvxu1Ug_u1xe",
        "outputId": "2d23f3a2-af92-42f1-e88f-f6666961feb7"
      },
      "execution_count": null,
      "outputs": [
        {
          "output_type": "stream",
          "name": "stdout",
          "text": [
            "['banana', 'cherry', 'Kiwi', 'Orange']\n"
          ]
        }
      ]
    },
    {
      "cell_type": "code",
      "source": [
        "list8 = [\"banana\", \"Orange\", \"Kiwi\", \"cherry\"]\n",
        "list8.reverse()\n",
        "print(list8)"
      ],
      "metadata": {
        "colab": {
          "base_uri": "https://localhost:8080/"
        },
        "id": "XSN5YCa6u9JM",
        "outputId": "08f7e372-ceb5-4fad-d9a9-532faea0de3f"
      },
      "execution_count": null,
      "outputs": [
        {
          "output_type": "stream",
          "name": "stdout",
          "text": [
            "['cherry', 'Kiwi', 'Orange', 'banana']\n"
          ]
        }
      ]
    },
    {
      "cell_type": "markdown",
      "source": [
        "## **Copy Lists**"
      ],
      "metadata": {
        "id": "VR5OixWuvQRI"
      }
    },
    {
      "cell_type": "code",
      "source": [
        "list1 = [\"apple\", \"banana\", \"cherry\"]\n",
        "mylist = list1.copy()       #built-in List method copy() to copy a list\n",
        "print(mylist)"
      ],
      "metadata": {
        "colab": {
          "base_uri": "https://localhost:8080/"
        },
        "id": "A7U34g_jvUoQ",
        "outputId": "0b57aad1-5b8c-442c-f9ad-e16933ed7675"
      },
      "execution_count": null,
      "outputs": [
        {
          "output_type": "stream",
          "name": "stdout",
          "text": [
            "['apple', 'banana', 'cherry']\n"
          ]
        }
      ]
    },
    {
      "cell_type": "code",
      "source": [
        "list2 = [\"apple\", \"banana\", \"cherry\"]\n",
        "mylist = list(list2)      #built-in method list() to copy a list\n",
        "print(mylist)"
      ],
      "metadata": {
        "colab": {
          "base_uri": "https://localhost:8080/"
        },
        "id": "JxosumG4vq7W",
        "outputId": "3bd9fbcc-0c0a-416c-9e68-afae0b683994"
      },
      "execution_count": null,
      "outputs": [
        {
          "output_type": "stream",
          "name": "stdout",
          "text": [
            "['apple', 'banana', 'cherry']\n"
          ]
        }
      ]
    },
    {
      "cell_type": "code",
      "source": [
        "list3 = [\"apple\", \"banana\", \"cherry\"]\n",
        "mylist = list3[:]        #also copy of a list by using the : (slice) operator\n",
        "print(list3)"
      ],
      "metadata": {
        "colab": {
          "base_uri": "https://localhost:8080/"
        },
        "id": "YsNI9un8vuFO",
        "outputId": "25afbfb0-fb9c-4b3b-b8f4-c68368be4a91"
      },
      "execution_count": null,
      "outputs": [
        {
          "output_type": "stream",
          "name": "stdout",
          "text": [
            "['apple', 'banana', 'cherry']\n"
          ]
        }
      ]
    },
    {
      "cell_type": "markdown",
      "source": [
        "## **Join Lists**"
      ],
      "metadata": {
        "id": "CPJ_6Ml-wDds"
      }
    },
    {
      "cell_type": "code",
      "source": [
        "list1 = [\"a\", \"b\", \"c\"]\n",
        "list2 = [1, 2, 3]\n",
        "\n",
        "list3 = list1 + list2      #Join two lists by using the + operator\n",
        "print(list3)"
      ],
      "metadata": {
        "colab": {
          "base_uri": "https://localhost:8080/"
        },
        "id": "vooGRekXwIYq",
        "outputId": "d9cbab58-1874-4ec5-b9ad-b7a3c7a4913c"
      },
      "execution_count": null,
      "outputs": [
        {
          "output_type": "stream",
          "name": "stdout",
          "text": [
            "['a', 'b', 'c', 1, 2, 3]\n"
          ]
        }
      ]
    },
    {
      "cell_type": "code",
      "source": [
        "list1 = [\"a\", \"b\" , \"c\"]\n",
        "list2 = [1, 2, 3]\n",
        "\n",
        "for x in list2:\n",
        "  list1.append(x)         #Use a for loop to append elements from list2 to list1\n",
        "\n",
        "print(list1)"
      ],
      "metadata": {
        "colab": {
          "base_uri": "https://localhost:8080/"
        },
        "id": "7pWPRJpdwQPf",
        "outputId": "4b46232a-b80d-43f4-8371-8cc24c5f1e25"
      },
      "execution_count": null,
      "outputs": [
        {
          "output_type": "stream",
          "name": "stdout",
          "text": [
            "['a', 'b', 'c', 1, 2, 3]\n"
          ]
        }
      ]
    },
    {
      "cell_type": "code",
      "source": [
        "list1 = [\"a\", \"b\" , \"c\"]\n",
        "list2 = [1, 2, 3]\n",
        "\n",
        "list1.extend(list2)      #extend() method to add list2 at the end of list1\n",
        "print(list1)"
      ],
      "metadata": {
        "colab": {
          "base_uri": "https://localhost:8080/"
        },
        "id": "Xac1P4BjwTDc",
        "outputId": "3cde098d-a0f4-4307-af18-ed758d68f500"
      },
      "execution_count": null,
      "outputs": [
        {
          "output_type": "stream",
          "name": "stdout",
          "text": [
            "['a', 'b', 'c', 1, 2, 3]\n"
          ]
        }
      ]
    },
    {
      "cell_type": "markdown",
      "source": [
        "##### **Practice of the List Methods**"
      ],
      "metadata": {
        "id": "U-t7cQb4w19F"
      }
    },
    {
      "cell_type": "code",
      "source": [
        "my_list = [3, 1, 4, 1, 5, 9]\n",
        "\n",
        "# append() - Adds an element at the end of the list\n",
        "my_list.append(6)\n",
        "print(\"After append:\", my_list)\n",
        "\n",
        "# clear() - Removes all the elements from the list\n",
        "my_list.clear()\n",
        "print(\"After clear:\", my_list)\n",
        "\n",
        "# copy() - Returns a copy of the list\n",
        "my_list = [3, 1, 4, 1, 5, 9]\n",
        "copied_list = my_list.copy()\n",
        "print(\"Original list:\", my_list)\n",
        "print(\"Copied list:\", copied_list)\n",
        "\n",
        "# count() - Returns the number of elements with the specified value\n",
        "count_of_1 = my_list.count(1)\n",
        "print(\"Count of 1:\", count_of_1)\n",
        "\n",
        "# extend() - Adds the elements of a list (or any iterable), to the end of the current list\n",
        "my_list.extend([7, 8])\n",
        "print(\"After extend:\", my_list)\n",
        "\n",
        "# index() - Returns the index of the first element with the specified value\n",
        "index_of_4 = my_list.index(4)\n",
        "print(\"Index of 4:\", index_of_4)\n",
        "\n",
        "# insert() - Adds an element at the specified position\n",
        "my_list.insert(2, 99)\n",
        "print(\"After insert:\", my_list)\n",
        "\n",
        "# pop() - Removes the element at the specified position\n",
        "popped_element = my_list.pop(3)\n",
        "print(\"Popped element:\", popped_element)\n",
        "print(\"After pop:\", my_list)\n",
        "\n",
        "# remove() - Removes the item with the specified value\n",
        "my_list.remove(99)\n",
        "print(\"After remove:\", my_list)\n",
        "\n",
        "# reverse() - Reverses the order of the list\n",
        "my_list.reverse()\n",
        "print(\"After reverse:\", my_list)\n",
        "\n",
        "# sort() - Sorts the list\n",
        "my_list.sort()\n",
        "print(\"After sort:\", my_list)"
      ],
      "metadata": {
        "colab": {
          "base_uri": "https://localhost:8080/"
        },
        "id": "_Ugr-boiw1VT",
        "outputId": "7d897f34-a0aa-4f8f-bd10-2c07938ac120"
      },
      "execution_count": null,
      "outputs": [
        {
          "output_type": "stream",
          "name": "stdout",
          "text": [
            "After append: [3, 1, 4, 1, 5, 9, 6]\n",
            "After clear: []\n",
            "Original list: [3, 1, 4, 1, 5, 9]\n",
            "Copied list: [3, 1, 4, 1, 5, 9]\n",
            "Count of 1: 2\n",
            "After extend: [3, 1, 4, 1, 5, 9, 7, 8]\n",
            "Index of 4: 2\n",
            "After insert: [3, 1, 99, 4, 1, 5, 9, 7, 8]\n",
            "Popped element: 4\n",
            "After pop: [3, 1, 99, 1, 5, 9, 7, 8]\n",
            "After remove: [3, 1, 1, 5, 9, 7, 8]\n",
            "After reverse: [8, 7, 9, 5, 1, 1, 3]\n",
            "After sort: [1, 1, 3, 5, 7, 8, 9]\n"
          ]
        }
      ]
    },
    {
      "cell_type": "markdown",
      "source": [
        "# **🔶 Tuples 🔷**"
      ],
      "metadata": {
        "id": "XSGTerqkxWm9"
      }
    },
    {
      "cell_type": "code",
      "source": [
        "mytuple = (\"apple\", \"banana\", \"cherry\")\n",
        "print(mytuple)"
      ],
      "metadata": {
        "colab": {
          "base_uri": "https://localhost:8080/"
        },
        "id": "UbfN4hcRx9zV",
        "outputId": "08429344-0762-40e8-bb28-ab0049b2076a"
      },
      "execution_count": null,
      "outputs": [
        {
          "output_type": "stream",
          "name": "stdout",
          "text": [
            "('apple', 'banana', 'cherry')\n"
          ]
        }
      ]
    },
    {
      "cell_type": "code",
      "source": [
        "tuple1 = (\"apple\", \"banana\", \"cherry\", \"apple\", \"cherry\")\n",
        "print(tuple1)"
      ],
      "metadata": {
        "colab": {
          "base_uri": "https://localhost:8080/"
        },
        "id": "gAP6tqDyyFJA",
        "outputId": "2ead7122-7ec1-47b5-8d18-f9184018a1c0"
      },
      "execution_count": null,
      "outputs": [
        {
          "output_type": "stream",
          "name": "stdout",
          "text": [
            "('apple', 'banana', 'cherry', 'apple', 'cherry')\n"
          ]
        }
      ]
    },
    {
      "cell_type": "code",
      "source": [
        "tuple2 = (\"apple\", \"banana\", \"cherry\")\n",
        "print(len(tuple2))"
      ],
      "metadata": {
        "colab": {
          "base_uri": "https://localhost:8080/"
        },
        "id": "xS9VDq9syJDA",
        "outputId": "3b357caa-192e-4f8c-b699-ff560776d72a"
      },
      "execution_count": null,
      "outputs": [
        {
          "output_type": "stream",
          "name": "stdout",
          "text": [
            "3\n"
          ]
        }
      ]
    },
    {
      "cell_type": "code",
      "source": [
        "tuple3 = (\"apple\",)\n",
        "print(type(tuple3))\n",
        "\n",
        "#NOT a tuple\n",
        "tuple4 = (\"apple\")\n",
        "print(type(tuple4))"
      ],
      "metadata": {
        "colab": {
          "base_uri": "https://localhost:8080/"
        },
        "id": "S7XxZ1uzyPrX",
        "outputId": "7653a15f-afe3-4b4d-ac5d-8cdc43f312b7"
      },
      "execution_count": null,
      "outputs": [
        {
          "output_type": "stream",
          "name": "stdout",
          "text": [
            "<class 'tuple'>\n",
            "<class 'str'>\n"
          ]
        }
      ]
    },
    {
      "cell_type": "code",
      "source": [
        "tuple5 = (\"apple\", \"banana\", \"cherry\")\n",
        "tuple6 = (1, 5, 7, 9, 3)\n",
        "tuple7 = (True, False, False)\n",
        "\n",
        "print(tuple5)\n",
        "print(tuple6)\n",
        "print(tuple7)"
      ],
      "metadata": {
        "colab": {
          "base_uri": "https://localhost:8080/"
        },
        "id": "fsqfoXLXyhz4",
        "outputId": "6b74d583-858f-4b17-a7c0-60175a3b97e2"
      },
      "execution_count": null,
      "outputs": [
        {
          "output_type": "stream",
          "name": "stdout",
          "text": [
            "('apple', 'banana', 'cherry')\n",
            "(1, 5, 7, 9, 3)\n",
            "(True, False, False)\n"
          ]
        }
      ]
    },
    {
      "cell_type": "code",
      "source": [
        "tuple8 = (\"abc\", 34, True, 40, \"male\")\n",
        "print(tuple8)"
      ],
      "metadata": {
        "colab": {
          "base_uri": "https://localhost:8080/"
        },
        "id": "HJ14ZQnnyqi-",
        "outputId": "685ad378-2ac2-4920-adba-3378ab2ebafa"
      },
      "execution_count": null,
      "outputs": [
        {
          "output_type": "stream",
          "name": "stdout",
          "text": [
            "('abc', 34, True, 40, 'male')\n"
          ]
        }
      ]
    },
    {
      "cell_type": "code",
      "source": [
        "tuple9 = (\"apple\", \"banana\", \"cherry\")\n",
        "print(type(tuple9))"
      ],
      "metadata": {
        "colab": {
          "base_uri": "https://localhost:8080/"
        },
        "id": "afQjRatLywE3",
        "outputId": "12c3bdb2-9f70-4366-b4c6-dffa976349c4"
      },
      "execution_count": null,
      "outputs": [
        {
          "output_type": "stream",
          "name": "stdout",
          "text": [
            "<class 'tuple'>\n"
          ]
        }
      ]
    },
    {
      "cell_type": "code",
      "source": [
        "tuple10 = tuple((\"apple\", \"banana\", \"cherry\"))  # tuple() constructor to make a tuple\n",
        "print(tuple10)"
      ],
      "metadata": {
        "colab": {
          "base_uri": "https://localhost:8080/"
        },
        "id": "S9q5DptJy3EB",
        "outputId": "6647dd81-96f4-4151-b8f7-cc090573f2ea"
      },
      "execution_count": null,
      "outputs": [
        {
          "output_type": "stream",
          "name": "stdout",
          "text": [
            "('apple', 'banana', 'cherry')\n"
          ]
        }
      ]
    },
    {
      "cell_type": "markdown",
      "source": [
        "## **Access Tuple Items**"
      ],
      "metadata": {
        "id": "yg7kHJWuzbaq"
      }
    },
    {
      "cell_type": "code",
      "source": [
        "tuple1 = (\"apple\", \"banana\", \"cherry\")\n",
        "print(tuple1[1])          #access tuple items by referring to the index number"
      ],
      "metadata": {
        "colab": {
          "base_uri": "https://localhost:8080/"
        },
        "id": "gaF7h-jBzdfo",
        "outputId": "fbcaa639-b724-4752-db4c-4b37a9f021ad"
      },
      "execution_count": null,
      "outputs": [
        {
          "output_type": "stream",
          "name": "stdout",
          "text": [
            "banana\n"
          ]
        }
      ]
    },
    {
      "cell_type": "code",
      "source": [
        "tuple2 = (\"apple\", \"banana\", \"cherry\")\n",
        "print(tuple2[-1])         #-1 refers to the last item, -2 refers to the second last item"
      ],
      "metadata": {
        "colab": {
          "base_uri": "https://localhost:8080/"
        },
        "id": "VhOBXQbk0DJN",
        "outputId": "fb81ac5f-0e9e-4047-d147-05ff737a0400"
      },
      "execution_count": null,
      "outputs": [
        {
          "output_type": "stream",
          "name": "stdout",
          "text": [
            "cherry\n"
          ]
        }
      ]
    },
    {
      "cell_type": "code",
      "source": [
        "tuple3 = (\"apple\", \"banana\", \"cherry\", \"orange\", \"kiwi\", \"melon\", \"mango\")\n",
        "print(tuple3[2:5])        #return the third, fourth, and fifth item"
      ],
      "metadata": {
        "colab": {
          "base_uri": "https://localhost:8080/"
        },
        "id": "fRGMP3E00Fdt",
        "outputId": "207a9b27-2478-438e-9cf5-2137d37de485"
      },
      "execution_count": null,
      "outputs": [
        {
          "output_type": "stream",
          "name": "stdout",
          "text": [
            "('cherry', 'orange', 'kiwi')\n"
          ]
        }
      ]
    },
    {
      "cell_type": "code",
      "source": [
        "tuple4 = (\"apple\", \"banana\", \"cherry\", \"orange\", \"kiwi\", \"melon\", \"mango\")\n",
        "print(tuple4[:4])         #returns the items from the beginning to, but NOT including, \"kiwi\""
      ],
      "metadata": {
        "colab": {
          "base_uri": "https://localhost:8080/"
        },
        "id": "iF7k2kTj0HcS",
        "outputId": "25da54fa-e97b-4149-ae43-7efbd6186626"
      },
      "execution_count": null,
      "outputs": [
        {
          "output_type": "stream",
          "name": "stdout",
          "text": [
            "('apple', 'banana', 'cherry', 'orange')\n"
          ]
        }
      ]
    },
    {
      "cell_type": "code",
      "source": [
        "tuple5 = (\"apple\", \"banana\", \"cherry\", \"orange\", \"kiwi\", \"melon\", \"mango\")\n",
        "print(tuple5[2:])         #returns the items from \"cherry\" and to the end"
      ],
      "metadata": {
        "colab": {
          "base_uri": "https://localhost:8080/"
        },
        "id": "nIVRqwDV0KMg",
        "outputId": "b41d67cc-f4a2-4aa2-aa20-c588f55c4564"
      },
      "execution_count": null,
      "outputs": [
        {
          "output_type": "stream",
          "name": "stdout",
          "text": [
            "('cherry', 'orange', 'kiwi', 'melon', 'mango')\n"
          ]
        }
      ]
    },
    {
      "cell_type": "code",
      "source": [
        "tuple6 = (\"apple\", \"banana\", \"cherry\", \"orange\", \"kiwi\", \"melon\", \"mango\")\n",
        "print(tuple6[-4:-1])      #negative indexing will start the search from the end of the tuple"
      ],
      "metadata": {
        "colab": {
          "base_uri": "https://localhost:8080/"
        },
        "id": "oneG2iBY0N1N",
        "outputId": "dbd3f565-0afe-4910-94a4-d746113de08d"
      },
      "execution_count": null,
      "outputs": [
        {
          "output_type": "stream",
          "name": "stdout",
          "text": [
            "('orange', 'kiwi', 'melon')\n"
          ]
        }
      ]
    },
    {
      "cell_type": "code",
      "source": [
        "tuple7 = (\"apple\", \"banana\", \"cherry\")\n",
        "if \"apple\" in tuple7:                               #check if \"apple\" is present in a tuple\n",
        "  print(\"Yes, 'apple' is in the fruits tuple\")"
      ],
      "metadata": {
        "colab": {
          "base_uri": "https://localhost:8080/"
        },
        "id": "iox3OF9w0Qk-",
        "outputId": "813df594-ac6e-4869-e3b2-9a31a9c858ae"
      },
      "execution_count": null,
      "outputs": [
        {
          "output_type": "stream",
          "name": "stdout",
          "text": [
            "Yes, 'apple' is in the fruits tuple\n"
          ]
        }
      ]
    },
    {
      "cell_type": "markdown",
      "source": [
        "## **Update Tuples**"
      ],
      "metadata": {
        "id": "U89WlulB1Avn"
      }
    },
    {
      "cell_type": "code",
      "source": [
        "x = (\"apple\", \"banana\", \"cherry\")\n",
        "y = list(x)                #convert the tuple into a list\n",
        "y[1] = \"kiwi\"\n",
        "x = tuple(y)               #convert the list back into a tuple\n",
        "\n",
        "print(x)"
      ],
      "metadata": {
        "colab": {
          "base_uri": "https://localhost:8080/"
        },
        "id": "YZyNSo9d1DMJ",
        "outputId": "48dcbbda-f090-4fd5-8454-c315ae5ae1f5"
      },
      "execution_count": null,
      "outputs": [
        {
          "output_type": "stream",
          "name": "stdout",
          "text": [
            "('apple', 'kiwi', 'cherry')\n"
          ]
        }
      ]
    },
    {
      "cell_type": "code",
      "source": [
        "thistuple = (\"apple\", \"banana\", \"cherry\")\n",
        "y = list(thistuple)        #convert the tuple into a list, add \"orange\", and convert it back into a tuple\n",
        "y.append(\"orange\")\n",
        "thistuple = tuple(y)\n",
        "\n",
        "print(thistuple)"
      ],
      "metadata": {
        "colab": {
          "base_uri": "https://localhost:8080/"
        },
        "id": "hMs3m-WK3RxA",
        "outputId": "5e891cf9-c3f6-4a8c-e4e1-82734c314f20"
      },
      "execution_count": null,
      "outputs": [
        {
          "output_type": "stream",
          "name": "stdout",
          "text": [
            "('apple', 'banana', 'cherry', 'orange')\n"
          ]
        }
      ]
    },
    {
      "cell_type": "code",
      "source": [
        "thistuple = (\"apple\", \"banana\", \"cherry\")\n",
        "y = (\"orange\",)\n",
        "thistuple += y              #Add tuple to a tuple\n",
        "\n",
        "print(thistuple)"
      ],
      "metadata": {
        "colab": {
          "base_uri": "https://localhost:8080/"
        },
        "id": "5Jh-i88l3WOc",
        "outputId": "e33845fe-37b1-42d8-d768-d7dd138fbfe0"
      },
      "execution_count": null,
      "outputs": [
        {
          "output_type": "stream",
          "name": "stdout",
          "text": [
            "('apple', 'banana', 'cherry', 'orange')\n"
          ]
        }
      ]
    },
    {
      "cell_type": "code",
      "source": [
        "thistuple = (\"apple\", \"banana\", \"cherry\")\n",
        "y = list(thistuple)         #Convert the tuple into a list, remove \"apple\", and convert it back into a tuple\n",
        "y.remove(\"apple\")\n",
        "thistuple = tuple(y)\n",
        "print(thistuple)"
      ],
      "metadata": {
        "colab": {
          "base_uri": "https://localhost:8080/"
        },
        "id": "wk-gKYZz3akA",
        "outputId": "f699d4e3-d20b-422c-ed72-ae39d5235247"
      },
      "execution_count": null,
      "outputs": [
        {
          "output_type": "stream",
          "name": "stdout",
          "text": [
            "('banana', 'cherry')\n"
          ]
        }
      ]
    },
    {
      "cell_type": "code",
      "source": [
        "thistuple = (\"apple\", \"banana\", \"cherry\")\n",
        "del thistuple\n",
        "#print(thistuple)          #this will raise an error because the tuple no longer exists"
      ],
      "metadata": {
        "id": "NXsyjfYx3eAH"
      },
      "execution_count": null,
      "outputs": []
    },
    {
      "cell_type": "markdown",
      "source": [
        "## **Unpack Tuples**"
      ],
      "metadata": {
        "id": "TdoBb-kw3seG"
      }
    },
    {
      "cell_type": "code",
      "source": [
        "fruits = (\"apple\", \"banana\", \"cherry\")      #Packing a tuple\n",
        "print(fruits)"
      ],
      "metadata": {
        "colab": {
          "base_uri": "https://localhost:8080/"
        },
        "id": "DkrY6LCN5Q40",
        "outputId": "db7e604d-9bcc-4834-bba7-9596912d0244"
      },
      "execution_count": null,
      "outputs": [
        {
          "output_type": "stream",
          "name": "stdout",
          "text": [
            "('apple', 'banana', 'cherry')\n"
          ]
        }
      ]
    },
    {
      "cell_type": "code",
      "source": [
        "fruits = (\"apple\", \"banana\", \"cherry\")     #Unpacking a tuple\n",
        "\n",
        "(green, yellow, red) = fruits\n",
        "\n",
        "print(green)\n",
        "print(yellow)\n",
        "print(red)"
      ],
      "metadata": {
        "colab": {
          "base_uri": "https://localhost:8080/"
        },
        "id": "GtyN779Z4-1X",
        "outputId": "6475b7b8-55a8-419f-be61-9501241925da"
      },
      "execution_count": null,
      "outputs": [
        {
          "output_type": "stream",
          "name": "stdout",
          "text": [
            "apple\n",
            "banana\n",
            "cherry\n"
          ]
        }
      ]
    },
    {
      "cell_type": "code",
      "source": [
        "fruits = (\"apple\", \"banana\", \"cherry\", \"strawberry\", \"raspberry\")\n",
        "\n",
        "(green, yellow, *red) = fruits            #Assign the rest of the values as a list called \"red\"\n",
        "\n",
        "print(green)\n",
        "print(yellow)\n",
        "print(red)"
      ],
      "metadata": {
        "colab": {
          "base_uri": "https://localhost:8080/"
        },
        "id": "45jULPwv5Z2x",
        "outputId": "c9073c85-1fc0-448f-ab35-6fb921b46202"
      },
      "execution_count": null,
      "outputs": [
        {
          "output_type": "stream",
          "name": "stdout",
          "text": [
            "apple\n",
            "banana\n",
            "['cherry', 'strawberry', 'raspberry']\n"
          ]
        }
      ]
    },
    {
      "cell_type": "code",
      "source": [
        "fruits = (\"apple\", \"mango\", \"papaya\", \"pineapple\", \"cherry\")\n",
        "\n",
        "(green, *tropic, red) = fruits\n",
        "\n",
        "print(green)\n",
        "print(tropic)\n",
        "print(red)"
      ],
      "metadata": {
        "colab": {
          "base_uri": "https://localhost:8080/"
        },
        "id": "p4n_8lMJ5hHO",
        "outputId": "0f2c61ce-ec47-4295-d239-7e24a2cc6c07"
      },
      "execution_count": null,
      "outputs": [
        {
          "output_type": "stream",
          "name": "stdout",
          "text": [
            "apple\n",
            "['mango', 'papaya', 'pineapple']\n",
            "cherry\n"
          ]
        }
      ]
    },
    {
      "cell_type": "markdown",
      "source": [
        "## **Loop Tuples**"
      ],
      "metadata": {
        "id": "O2EzWeAr59Vs"
      }
    },
    {
      "cell_type": "code",
      "source": [
        "tuple1 = (\"mangosteen\", \"miracle fruit\", \"cherimoya\")\n",
        "\n",
        "for x in tuple1:\n",
        "    print(x)"
      ],
      "metadata": {
        "colab": {
          "base_uri": "https://localhost:8080/"
        },
        "id": "BK10AANI6CNH",
        "outputId": "1e8c2ec9-0dc9-4ced-f70a-5b65a636cd8e"
      },
      "execution_count": null,
      "outputs": [
        {
          "output_type": "stream",
          "name": "stdout",
          "text": [
            "mangosteen\n",
            "miracle fruit\n",
            "cherimoya\n"
          ]
        }
      ]
    },
    {
      "cell_type": "code",
      "source": [
        "tuple2 = (\"durian\", \"rambutan\", \"jabuticaba\")\n",
        "\n",
        "for i in range(len(tuple2)):\n",
        "    print(tuple2[i])"
      ],
      "metadata": {
        "colab": {
          "base_uri": "https://localhost:8080/"
        },
        "id": "eaobXCno6P6V",
        "outputId": "80fcee8c-0ac0-4860-aa58-7ad170db7d9a"
      },
      "execution_count": null,
      "outputs": [
        {
          "output_type": "stream",
          "name": "stdout",
          "text": [
            "durian\n",
            "rambutan\n",
            "jabuticaba\n"
          ]
        }
      ]
    },
    {
      "cell_type": "code",
      "source": [
        "tuple3 = (\"longan\", \"salak\", \"ackee\")\n",
        "\n",
        "i = 0\n",
        "while i < len(tuple3):\n",
        "    print(tuple3[i])\n",
        "    i += 1"
      ],
      "metadata": {
        "colab": {
          "base_uri": "https://localhost:8080/"
        },
        "id": "DAYQI_Sh6SY8",
        "outputId": "2bcb31b6-6483-4281-9056-0a5f01cc8e37"
      },
      "execution_count": null,
      "outputs": [
        {
          "output_type": "stream",
          "name": "stdout",
          "text": [
            "longan\n",
            "salak\n",
            "ackee\n"
          ]
        }
      ]
    },
    {
      "cell_type": "markdown",
      "source": [
        "## **Join Tuples**"
      ],
      "metadata": {
        "id": "5yW5h-GA6yn9"
      }
    },
    {
      "cell_type": "code",
      "source": [
        "tuple1 = (\"a\", \"b\" , \"c\")\n",
        "tuple2 = (1, 2, 3)\n",
        "\n",
        "tuple3 = tuple1 + tuple2\n",
        "print(tuple3)"
      ],
      "metadata": {
        "colab": {
          "base_uri": "https://localhost:8080/"
        },
        "id": "shKsIoEz61HJ",
        "outputId": "bd5011d2-aef2-4947-bf54-2ed50ddf5b67"
      },
      "execution_count": null,
      "outputs": [
        {
          "output_type": "stream",
          "name": "stdout",
          "text": [
            "('a', 'b', 'c', 1, 2, 3)\n"
          ]
        }
      ]
    },
    {
      "cell_type": "code",
      "source": [
        "fruits = (\"durian\", \"rambutan\", \"jabuticaba\")\n",
        "mytuple = fruits * 2\n",
        "\n",
        "print(mytuple)"
      ],
      "metadata": {
        "colab": {
          "base_uri": "https://localhost:8080/"
        },
        "id": "TPKDUzGy64_U",
        "outputId": "b8d47849-7da9-47de-b899-77d7dc7665d1"
      },
      "execution_count": null,
      "outputs": [
        {
          "output_type": "stream",
          "name": "stdout",
          "text": [
            "('durian', 'rambutan', 'jabuticaba', 'durian', 'rambutan', 'jabuticaba')\n"
          ]
        }
      ]
    },
    {
      "cell_type": "markdown",
      "source": [
        "##### **Practice of the Tuple Methods**"
      ],
      "metadata": {
        "id": "q1bupngB7HI1"
      }
    },
    {
      "cell_type": "code",
      "source": [
        "tuple1 = (\"mango\", \"jackfruit\", \"lychee\", \"jackfruit\", \"banana\", \"lychee\", \"jackfruit\")\n",
        "\n",
        "# count() - Returns the number of times a specified value occurs in the tuple\n",
        "count_jackfruit = tuple1.count(\"jackfruit\")\n",
        "print(\"Count of 'jackfruit':\", count_jackfruit)\n",
        "\n",
        "# index() - Searches for a specified value and returns the position where it was first found\n",
        "index_lychee = tuple1.index(\"lychee\")\n",
        "print(\"Index of first 'lychee':\", index_lychee)"
      ],
      "metadata": {
        "colab": {
          "base_uri": "https://localhost:8080/"
        },
        "id": "r4b0lcnm7YOU",
        "outputId": "18ed22dc-435c-449b-81d4-aedc8f7e88d2"
      },
      "execution_count": null,
      "outputs": [
        {
          "output_type": "stream",
          "name": "stdout",
          "text": [
            "Count of 'jackfruit': 3\n",
            "Index of first 'lychee': 2\n"
          ]
        }
      ]
    },
    {
      "cell_type": "markdown",
      "source": [
        "# **🔶 Sets 🔷**"
      ],
      "metadata": {
        "id": "TXSSiSJ37rmh"
      }
    },
    {
      "cell_type": "code",
      "source": [
        "set1 = {\"apple\", \"banana\", \"cherry\"}\n",
        "print(set1)"
      ],
      "metadata": {
        "colab": {
          "base_uri": "https://localhost:8080/"
        },
        "id": "w3g0evNrtp6z",
        "outputId": "0a4749b6-ee40-46bf-e010-02c7f9ebabab"
      },
      "execution_count": null,
      "outputs": [
        {
          "output_type": "stream",
          "name": "stdout",
          "text": [
            "{'banana', 'apple', 'cherry'}\n"
          ]
        }
      ]
    },
    {
      "cell_type": "code",
      "source": [
        "set2 = {\"apple\", \"banana\", \"cherry\", \"apple\"}           #Duplicates Not Allowed\n",
        "print(set2)"
      ],
      "metadata": {
        "colab": {
          "base_uri": "https://localhost:8080/"
        },
        "id": "SbS4fbSLtEA1",
        "outputId": "7bc02f66-3226-464a-b3b6-527bdb2a0454"
      },
      "execution_count": null,
      "outputs": [
        {
          "output_type": "stream",
          "name": "stdout",
          "text": [
            "{'banana', 'apple', 'cherry'}\n"
          ]
        }
      ]
    },
    {
      "cell_type": "code",
      "source": [
        "set3 = {\"apple\", \"banana\", \"cherry\", True, 1, 2}        #True and 1 is considered the same value\n",
        "print(set3)"
      ],
      "metadata": {
        "colab": {
          "base_uri": "https://localhost:8080/"
        },
        "id": "yNeWF4OFugDN",
        "outputId": "40dcfa77-d2f5-4145-c5f5-78e6a5714a2f"
      },
      "execution_count": null,
      "outputs": [
        {
          "output_type": "stream",
          "name": "stdout",
          "text": [
            "{True, 'banana', 2, 'apple', 'cherry'}\n"
          ]
        }
      ]
    },
    {
      "cell_type": "code",
      "source": [
        "set4 = {\"apple\", \"banana\", \"cherry\", False, True, 0}    #False and 0 is considered the same value\n",
        "print(set4)"
      ],
      "metadata": {
        "colab": {
          "base_uri": "https://localhost:8080/"
        },
        "id": "dxQfKfTwuyiC",
        "outputId": "7efbb504-ae8c-45bb-98c3-1763e481c4f9"
      },
      "execution_count": null,
      "outputs": [
        {
          "output_type": "stream",
          "name": "stdout",
          "text": [
            "{False, True, 'banana', 'apple', 'cherry'}\n"
          ]
        }
      ]
    },
    {
      "cell_type": "code",
      "source": [
        "set5 = {\"apple\", \"banana\", \"cherry\"}\n",
        "print(len(set5))"
      ],
      "metadata": {
        "colab": {
          "base_uri": "https://localhost:8080/"
        },
        "id": "VMhTtRYfu8Fl",
        "outputId": "55548254-66a1-48bf-b2c7-a7f01cf368d7"
      },
      "execution_count": null,
      "outputs": [
        {
          "output_type": "stream",
          "name": "stdout",
          "text": [
            "3\n"
          ]
        }
      ]
    },
    {
      "cell_type": "markdown",
      "source": [
        "##### **Data Types**"
      ],
      "metadata": {
        "id": "vvA11o6Q6YFp"
      }
    },
    {
      "cell_type": "code",
      "source": [
        "set0 = {\"abc\", 34, True, 40, \"male\"}\n",
        "print(type(set0))"
      ],
      "metadata": {
        "colab": {
          "base_uri": "https://localhost:8080/"
        },
        "id": "rt6MJD0NvGLE",
        "outputId": "33ae3006-3185-4c66-f550-c42755662ac0"
      },
      "execution_count": null,
      "outputs": [
        {
          "output_type": "stream",
          "name": "stdout",
          "text": [
            "<class 'set'>\n"
          ]
        }
      ]
    },
    {
      "cell_type": "code",
      "source": [
        "#Practice : Duplicated Not allowed, len(), type()\n",
        "\n",
        "set1 = {\"apple\", \"banana\", \"cherry\"}\n",
        "set2 = {1, 5, 7, 9, 3}\n",
        "set3 = {True, False, False}\n",
        "\n",
        "print(set1)\n",
        "print(set2)\n",
        "print(set3)\n",
        "\n",
        "print(len(set1))\n",
        "print(len(set2))\n",
        "print(len(set3))\n",
        "\n",
        "print(type(set1))\n",
        "print(type(set2))\n",
        "print(type(set3))"
      ],
      "metadata": {
        "colab": {
          "base_uri": "https://localhost:8080/"
        },
        "id": "yXtwNpxHvBMW",
        "outputId": "d3d531b7-f04c-47eb-90b0-2d98ee00af62"
      },
      "execution_count": null,
      "outputs": [
        {
          "output_type": "stream",
          "name": "stdout",
          "text": [
            "{'banana', 'apple', 'cherry'}\n",
            "{1, 3, 5, 7, 9}\n",
            "{False, True}\n",
            "3\n",
            "5\n",
            "2\n",
            "<class 'set'>\n",
            "<class 'set'>\n",
            "<class 'set'>\n"
          ]
        }
      ]
    },
    {
      "cell_type": "markdown",
      "source": [
        "**set() Constructor**"
      ],
      "metadata": {
        "id": "uwG7Z4yH67oY"
      }
    },
    {
      "cell_type": "code",
      "source": [
        "set1 = set((\"apple\", \"banana\", \"cherry\"))    #set constructor\n",
        "print(set1)"
      ],
      "metadata": {
        "colab": {
          "base_uri": "https://localhost:8080/"
        },
        "id": "7kmL9nysvR9U",
        "outputId": "1845f232-cb1d-41b7-fc61-0734ddb0bba6"
      },
      "execution_count": null,
      "outputs": [
        {
          "output_type": "stream",
          "name": "stdout",
          "text": [
            "{'banana', 'apple', 'cherry'}\n"
          ]
        }
      ]
    },
    {
      "cell_type": "markdown",
      "source": [
        "## **Access Set Items**"
      ],
      "metadata": {
        "id": "UCA5fsm40btv"
      }
    },
    {
      "cell_type": "code",
      "source": [
        "set2 = {\"apple\", \"banana\", \"cherry\"}\n",
        "for x in set2:\n",
        "  print(x)"
      ],
      "metadata": {
        "colab": {
          "base_uri": "https://localhost:8080/"
        },
        "id": "zHPKJg4MvlHj",
        "outputId": "8b3913ae-8588-4f1d-de9f-d5b70f561ba3"
      },
      "execution_count": null,
      "outputs": [
        {
          "output_type": "stream",
          "name": "stdout",
          "text": [
            "banana\n",
            "apple\n",
            "cherry\n"
          ]
        }
      ]
    },
    {
      "cell_type": "code",
      "source": [
        "set3 = {\"apple\", \"banana\", \"cherry\"}\n",
        "print(\"banana\" in set3)"
      ],
      "metadata": {
        "colab": {
          "base_uri": "https://localhost:8080/"
        },
        "id": "MqmCJzZNvrWR",
        "outputId": "f3c6fc9c-32fc-41df-c653-1eab52aa2bf8"
      },
      "execution_count": null,
      "outputs": [
        {
          "output_type": "stream",
          "name": "stdout",
          "text": [
            "True\n"
          ]
        }
      ]
    },
    {
      "cell_type": "code",
      "source": [
        "set4 = {\"apple\", \"banana\", \"cherry\"}\n",
        "print(\"banana\" not in set4)"
      ],
      "metadata": {
        "colab": {
          "base_uri": "https://localhost:8080/"
        },
        "id": "aClehQclvwye",
        "outputId": "a7945f64-1e42-4583-c842-47f0612b1441"
      },
      "execution_count": null,
      "outputs": [
        {
          "output_type": "stream",
          "name": "stdout",
          "text": [
            "False\n"
          ]
        }
      ]
    },
    {
      "cell_type": "markdown",
      "source": [
        "## **Add Set Items**"
      ],
      "metadata": {
        "id": "d0SvTRVb0Ur9"
      }
    },
    {
      "cell_type": "code",
      "source": [
        "se5 = {\"apple\", \"banana\", \"cherry\"}\n",
        "set5.add(\"orange\")\n",
        "print(set5)"
      ],
      "metadata": {
        "colab": {
          "base_uri": "https://localhost:8080/"
        },
        "id": "AVW-k5uOx5rZ",
        "outputId": "439cd2e8-ce28-49b4-b263-70f90afc5c49"
      },
      "execution_count": null,
      "outputs": [
        {
          "output_type": "stream",
          "name": "stdout",
          "text": [
            "{'banana', 'apple', 'cherry', 'orange'}\n"
          ]
        }
      ]
    },
    {
      "cell_type": "code",
      "source": [
        "thisset = {\"apple\", \"banana\", \"cherry\"}\n",
        "tropical = {\"pineapple\", \"mango\", \"papaya\"}\n",
        "\n",
        "thisset.update(tropical)\n",
        "\n",
        "print(thisset)"
      ],
      "metadata": {
        "colab": {
          "base_uri": "https://localhost:8080/"
        },
        "id": "A0cXVyDgyiS7",
        "outputId": "4886c1cc-4d44-4893-ca55-5e2faef14a04"
      },
      "execution_count": null,
      "outputs": [
        {
          "output_type": "stream",
          "name": "stdout",
          "text": [
            "{'banana', 'mango', 'pineapple', 'papaya', 'apple', 'cherry'}\n"
          ]
        }
      ]
    },
    {
      "cell_type": "code",
      "source": [
        "thisset = {\"apple\", \"banana\", \"cherry\"}\n",
        "mylist = [\"kiwi\", \"orange\"]       #Add elements of a list to at set\n",
        "\n",
        "thisset.update(mylist)\n",
        "\n",
        "print(thisset)"
      ],
      "metadata": {
        "colab": {
          "base_uri": "https://localhost:8080/"
        },
        "id": "aYg5rG7F0Bdd",
        "outputId": "6a0e3aaa-5d24-4b3d-9690-a6e2e3af4075"
      },
      "execution_count": null,
      "outputs": [
        {
          "output_type": "stream",
          "name": "stdout",
          "text": [
            "{'banana', 'orange', 'kiwi', 'apple', 'cherry'}\n"
          ]
        }
      ]
    },
    {
      "cell_type": "markdown",
      "source": [
        "## **Remove Set Items**"
      ],
      "metadata": {
        "id": "0jP9L6gg0LdR"
      }
    },
    {
      "cell_type": "code",
      "source": [
        "thisset = {\"apple\", \"banana\", \"cherry\"}\n",
        "thisset.remove(\"banana\")\n",
        "\n",
        "print(thisset)"
      ],
      "metadata": {
        "colab": {
          "base_uri": "https://localhost:8080/"
        },
        "id": "_cy_buYq0Fu7",
        "outputId": "695ef139-fb97-4446-ef0f-5cfd003f9df9"
      },
      "execution_count": null,
      "outputs": [
        {
          "output_type": "stream",
          "name": "stdout",
          "text": [
            "{'apple', 'cherry'}\n"
          ]
        }
      ]
    },
    {
      "cell_type": "code",
      "source": [
        "thisset = {\"apple\", \"banana\", \"cherry\"}\n",
        "thisset.discard(\"banana\")     #If the item to remove does not exist, discard() will NOT raise an error\n",
        "\n",
        "print(thisset)"
      ],
      "metadata": {
        "colab": {
          "base_uri": "https://localhost:8080/"
        },
        "id": "TvhO5dNv0hGh",
        "outputId": "2e7496f9-20c3-4b13-9ee0-13c8732d277c"
      },
      "execution_count": null,
      "outputs": [
        {
          "output_type": "stream",
          "name": "stdout",
          "text": [
            "{'apple', 'cherry'}\n"
          ]
        }
      ]
    },
    {
      "cell_type": "code",
      "source": [
        "thisset = {\"apple\", \"banana\", \"cherry\"}\n",
        "x = thisset.pop()           #Remove a random item by using the pop() method\n",
        "\n",
        "print(x)\n",
        "print(thisset)"
      ],
      "metadata": {
        "colab": {
          "base_uri": "https://localhost:8080/"
        },
        "id": "ar9WfJZv0jCU",
        "outputId": "4f546e74-9b8a-45a4-830a-dae068b258b5"
      },
      "execution_count": null,
      "outputs": [
        {
          "output_type": "stream",
          "name": "stdout",
          "text": [
            "banana\n",
            "{'apple', 'cherry'}\n"
          ]
        }
      ]
    },
    {
      "cell_type": "code",
      "source": [
        "thisset = {\"apple\", \"banana\", \"cherry\"}\n",
        "thisset.clear()           #The clear() method empties the set\n",
        "\n",
        "print(thisset)"
      ],
      "metadata": {
        "colab": {
          "base_uri": "https://localhost:8080/"
        },
        "id": "dBPZjPcM0oiT",
        "outputId": "be167cec-cfd3-4438-8424-d730efcd2729"
      },
      "execution_count": null,
      "outputs": [
        {
          "output_type": "stream",
          "name": "stdout",
          "text": [
            "set()\n"
          ]
        }
      ]
    },
    {
      "cell_type": "markdown",
      "source": [
        "## **Loop Sets**"
      ],
      "metadata": {
        "id": "3iH29EZ502Cy"
      }
    },
    {
      "cell_type": "code",
      "source": [
        "thisset = {\"apple\", \"banana\", \"cherry\"}\n",
        "\n",
        "for x in thisset:\n",
        "  print(x)"
      ],
      "metadata": {
        "colab": {
          "base_uri": "https://localhost:8080/"
        },
        "id": "pxSOjtur0rwr",
        "outputId": "856cc533-4292-482d-d3fc-0da8885d2f95"
      },
      "execution_count": null,
      "outputs": [
        {
          "output_type": "stream",
          "name": "stdout",
          "text": [
            "banana\n",
            "apple\n",
            "cherry\n"
          ]
        }
      ]
    },
    {
      "cell_type": "markdown",
      "source": [
        "## **Join Sets**"
      ],
      "metadata": {
        "id": "eKKd05E_1M7z"
      }
    },
    {
      "cell_type": "markdown",
      "source": [
        "### **Union**"
      ],
      "metadata": {
        "id": "FGKBw3XY1RLK"
      }
    },
    {
      "cell_type": "code",
      "source": [
        "set1 = {\"a\", \"b\", \"c\"}\n",
        "set2 = {1, 2, 3}\n",
        "\n",
        "set3 = set1.union(set2)       #union() method returns a new set with all items from both sets\n",
        "print(set3)"
      ],
      "metadata": {
        "colab": {
          "base_uri": "https://localhost:8080/"
        },
        "id": "08xOx62C1EPG",
        "outputId": "94a1eaef-f49f-4282-88e1-619fcfb2d453"
      },
      "execution_count": null,
      "outputs": [
        {
          "output_type": "stream",
          "name": "stdout",
          "text": [
            "{1, 2, 3, 'a', 'c', 'b'}\n"
          ]
        }
      ]
    },
    {
      "cell_type": "code",
      "source": [
        "set1 = {\"a\", \"b\", \"c\"}\n",
        "set2 = {1, 2, 3}\n",
        "\n",
        "set3 = set1 | set2           #use the | operator instead of the union() method, and you will get the same result\n",
        "print(set3)"
      ],
      "metadata": {
        "colab": {
          "base_uri": "https://localhost:8080/"
        },
        "id": "biEiPbn01VAi",
        "outputId": "b9e7a0e0-c882-4600-ed08-6d0291760709"
      },
      "execution_count": null,
      "outputs": [
        {
          "output_type": "stream",
          "name": "stdout",
          "text": [
            "{1, 2, 3, 'a', 'c', 'b'}\n"
          ]
        }
      ]
    },
    {
      "cell_type": "code",
      "source": [
        "set1 = {\"a\", \"b\", \"c\"}\n",
        "set2 = {1, 2, 3}\n",
        "set3 = {\"John\", \"Elena\"}\n",
        "set4 = {\"apple\", \"bananas\", \"cherry\"}\n",
        "\n",
        "myset = set1.union(set2, set3, set4)       #When using the union() method, separate the sets with a comma\n",
        "print(myset)"
      ],
      "metadata": {
        "colab": {
          "base_uri": "https://localhost:8080/"
        },
        "id": "dfZTkEhv1cbT",
        "outputId": "2ae54fb2-7cb0-40cc-9046-c4e7419d4a31"
      },
      "execution_count": null,
      "outputs": [
        {
          "output_type": "stream",
          "name": "stdout",
          "text": [
            "{1, 2, 3, 'a', 'c', 'John', 'Elena', 'apple', 'bananas', 'b', 'cherry'}\n"
          ]
        }
      ]
    },
    {
      "cell_type": "code",
      "source": [
        "set1 = {\"a\", \"b\", \"c\"}\n",
        "set2 = {1, 2, 3}\n",
        "set3 = {\"John\", \"Elena\"}\n",
        "set4 = {\"apple\", \"bananas\", \"cherry\"}\n",
        "\n",
        "myset = set1 | set2 | set3 |set4              #When using the | operator, separate the sets with more | operators\n",
        "print(myset)"
      ],
      "metadata": {
        "colab": {
          "base_uri": "https://localhost:8080/"
        },
        "id": "sQ2clPaO1d-G",
        "outputId": "baaa3c1b-3c4d-4e9f-b20d-58fb6b489158"
      },
      "execution_count": null,
      "outputs": [
        {
          "output_type": "stream",
          "name": "stdout",
          "text": [
            "{1, 2, 3, 'a', 'c', 'John', 'Elena', 'apple', 'bananas', 'b', 'cherry'}\n"
          ]
        }
      ]
    },
    {
      "cell_type": "code",
      "source": [
        "x = {\"a\", \"b\", \"c\"}   #set\n",
        "y = (1, 2, 3)         #tuple\n",
        "\n",
        "z = x.union(y)        #union() method can also be used with tuples\n",
        "print(z)"
      ],
      "metadata": {
        "colab": {
          "base_uri": "https://localhost:8080/"
        },
        "id": "DT382cnw2kai",
        "outputId": "d45be05b-cb0d-475f-c732-aea59fd18f95"
      },
      "execution_count": null,
      "outputs": [
        {
          "output_type": "stream",
          "name": "stdout",
          "text": [
            "{1, 2, 3, 'a', 'c', 'b'}\n"
          ]
        }
      ]
    },
    {
      "cell_type": "markdown",
      "source": [
        "### **Update**"
      ],
      "metadata": {
        "id": "o0u2kNXn2mJM"
      }
    },
    {
      "cell_type": "code",
      "source": [
        "set1 = {\"a\", \"b\" , \"c\"}\n",
        "set2 = {1, 2, 3}\n",
        "\n",
        "set1.update(set2)                  #update() method inserts the items in set2 into set1\n",
        "print(set1)"
      ],
      "metadata": {
        "colab": {
          "base_uri": "https://localhost:8080/"
        },
        "id": "xb8ni7JW2qt8",
        "outputId": "4bf3bd7a-bcba-427a-c5a6-b4b2e3d85a85"
      },
      "execution_count": null,
      "outputs": [
        {
          "output_type": "stream",
          "name": "stdout",
          "text": [
            "{1, 2, 3, 'a', 'c', 'b'}\n"
          ]
        }
      ]
    },
    {
      "cell_type": "markdown",
      "source": [
        "### **Intersection**"
      ],
      "metadata": {
        "id": "BMLElSvo2t6x"
      }
    },
    {
      "cell_type": "code",
      "source": [
        "set1 = {\"apple\", \"banana\", \"cherry\"}\n",
        "set2 = {\"google\", \"microsoft\", \"apple\"}\n",
        "\n",
        "set3 = set1.intersection(set2)     #intersection() method will return a new set, that only contains the items that are present in both sets\n",
        "print(set3)"
      ],
      "metadata": {
        "colab": {
          "base_uri": "https://localhost:8080/"
        },
        "id": "ZELEjm-H2vzh",
        "outputId": "9020aead-c99c-447c-876e-694808a71dfd"
      },
      "execution_count": null,
      "outputs": [
        {
          "output_type": "stream",
          "name": "stdout",
          "text": [
            "{'apple'}\n"
          ]
        }
      ]
    },
    {
      "cell_type": "code",
      "source": [
        "set1 = {\"apple\", \"banana\", \"cherry\"}\n",
        "set2 = {\"google\", \"microsoft\", \"apple\"}\n",
        "\n",
        "set3 = set1 & set2               #use the & operator instead of the intersection() method, and you will get the same result\n",
        "print(set3)"
      ],
      "metadata": {
        "colab": {
          "base_uri": "https://localhost:8080/"
        },
        "id": "752968Qa29CQ",
        "outputId": "5fd93d28-8e1f-417a-9369-ae1206977396"
      },
      "execution_count": null,
      "outputs": [
        {
          "output_type": "stream",
          "name": "stdout",
          "text": [
            "{'apple'}\n"
          ]
        }
      ]
    },
    {
      "cell_type": "code",
      "source": [
        "set1 = {\"apple\", \"banana\", \"cherry\"}\n",
        "set2 = {\"google\", \"microsoft\", \"apple\"}\n",
        "\n",
        "set1.intersection_update(set2)    #intersection_update() method will keep only the items that are present in both sets\n",
        "\n",
        "print(set1)"
      ],
      "metadata": {
        "colab": {
          "base_uri": "https://localhost:8080/"
        },
        "id": "w11E9NTl2_cM",
        "outputId": "0b800610-124e-423a-d33f-2380278c0404"
      },
      "execution_count": null,
      "outputs": [
        {
          "output_type": "stream",
          "name": "stdout",
          "text": [
            "{'apple'}\n"
          ]
        }
      ]
    },
    {
      "cell_type": "code",
      "source": [
        "set1 = {\"apple\", 1,  \"banana\", 0, \"cherry\"}\n",
        "set2 = {False, \"google\", 1, \"apple\", 2, True}\n",
        "\n",
        "set3 = set1.intersection(set2)\n",
        "\n",
        "print(set3)"
      ],
      "metadata": {
        "colab": {
          "base_uri": "https://localhost:8080/"
        },
        "id": "aYTRBvmc3D2B",
        "outputId": "d621d3f2-070f-479b-aebb-afb842493f73"
      },
      "execution_count": null,
      "outputs": [
        {
          "output_type": "stream",
          "name": "stdout",
          "text": [
            "{False, 1, 'apple'}\n"
          ]
        }
      ]
    },
    {
      "cell_type": "markdown",
      "source": [
        "### **Difference**"
      ],
      "metadata": {
        "id": "w7mGbEBO26fN"
      }
    },
    {
      "cell_type": "code",
      "source": [
        "set1 = {\"apple\", \"banana\", \"cherry\"}\n",
        "set2 = {\"google\", \"microsoft\", \"apple\"}\n",
        "\n",
        "set3 = set1.difference(set2)              #difference() method will return a new set that will contain only the items from the first set that are not present in the other set\n",
        "\n",
        "print(set3)"
      ],
      "metadata": {
        "colab": {
          "base_uri": "https://localhost:8080/"
        },
        "id": "M1jQRNHZ3VWe",
        "outputId": "78598a6c-0117-4fbc-a28d-5b15620b8091"
      },
      "execution_count": null,
      "outputs": [
        {
          "output_type": "stream",
          "name": "stdout",
          "text": [
            "{'banana', 'cherry'}\n"
          ]
        }
      ]
    },
    {
      "cell_type": "code",
      "source": [
        "set1 = {\"apple\", \"banana\", \"cherry\"}\n",
        "set2 = {\"google\", \"microsoft\", \"apple\"}\n",
        "\n",
        "set3 = set1 - set2                      #use the - operator instead of the difference() method, and you will get the same result\n",
        "print(set3)"
      ],
      "metadata": {
        "colab": {
          "base_uri": "https://localhost:8080/"
        },
        "id": "hT0G0M8_3YdA",
        "outputId": "44192ce6-2721-4010-a604-4fb8de731fe6"
      },
      "execution_count": null,
      "outputs": [
        {
          "output_type": "stream",
          "name": "stdout",
          "text": [
            "{'banana', 'cherry'}\n"
          ]
        }
      ]
    },
    {
      "cell_type": "code",
      "source": [
        "set1 = {\"apple\", \"banana\", \"cherry\"}\n",
        "set2 = {\"google\", \"microsoft\", \"apple\"}\n",
        "\n",
        "set1.difference_update(set2)           #difference_update() method to keep the items that are not present in both sets\n",
        "\n",
        "print(set1)"
      ],
      "metadata": {
        "colab": {
          "base_uri": "https://localhost:8080/"
        },
        "id": "j7zfLv5i3bL4",
        "outputId": "a62f14f9-a74b-48dc-be94-a4548bf1df3f"
      },
      "execution_count": null,
      "outputs": [
        {
          "output_type": "stream",
          "name": "stdout",
          "text": [
            "{'banana', 'cherry'}\n"
          ]
        }
      ]
    },
    {
      "cell_type": "markdown",
      "source": [
        "### **Symmetric Differences**"
      ],
      "metadata": {
        "id": "iPOwZ13S3ezk"
      }
    },
    {
      "cell_type": "code",
      "source": [
        "set1 = {\"apple\", \"banana\", \"cherry\"}\n",
        "set2 = {\"google\", \"microsoft\", \"apple\"}\n",
        "\n",
        "set3 = set1.symmetric_difference(set2)        #symmetric_difference() method will keep only the elements that are NOT present in both sets\n",
        "\n",
        "print(set3)"
      ],
      "metadata": {
        "colab": {
          "base_uri": "https://localhost:8080/"
        },
        "id": "eC5NXsIV3hn5",
        "outputId": "6f28685d-b60b-4ca5-d707-5421f50c0e92"
      },
      "execution_count": null,
      "outputs": [
        {
          "output_type": "stream",
          "name": "stdout",
          "text": [
            "{'banana', 'google', 'microsoft', 'cherry'}\n"
          ]
        }
      ]
    },
    {
      "cell_type": "code",
      "source": [
        "set1 = {\"apple\", \"banana\", \"cherry\"}\n",
        "set2 = {\"google\", \"microsoft\", \"apple\"}\n",
        "\n",
        "set3 = set1 ^ set2                          #use the ^ operator instead of the symmetric_difference() method, and you will get the same result\n",
        "print(set3)"
      ],
      "metadata": {
        "colab": {
          "base_uri": "https://localhost:8080/"
        },
        "id": "ob8U1K053kF6",
        "outputId": "676113b6-78e7-4ad3-a470-26faf8c3105c"
      },
      "execution_count": null,
      "outputs": [
        {
          "output_type": "stream",
          "name": "stdout",
          "text": [
            "{'banana', 'google', 'microsoft', 'cherry'}\n"
          ]
        }
      ]
    },
    {
      "cell_type": "code",
      "source": [
        "set1 = {\"apple\", \"banana\", \"cherry\"}\n",
        "set2 = {\"google\", \"microsoft\", \"apple\"}\n",
        "\n",
        "set1.symmetric_difference_update(set2)     #symmetric_difference_update() method to keep the items that are not present in both sets\n",
        "\n",
        "print(set1)"
      ],
      "metadata": {
        "colab": {
          "base_uri": "https://localhost:8080/"
        },
        "id": "lRwQqiQd3mfX",
        "outputId": "0acc875e-2968-45e8-f2ec-b8ef79163eb1"
      },
      "execution_count": null,
      "outputs": [
        {
          "output_type": "stream",
          "name": "stdout",
          "text": [
            "{'banana', 'google', 'microsoft', 'cherry'}\n"
          ]
        }
      ]
    },
    {
      "cell_type": "markdown",
      "source": [
        "##### **Practice of the Set Methods**"
      ],
      "metadata": {
        "id": "7f_QwlbX540q"
      }
    },
    {
      "cell_type": "code",
      "source": [
        "set1 = {\"apple\", \"banana\", \"cherry\"}\n",
        "set2 = {\"banana\", \"durian\", \"elderberry\"}\n",
        "\n",
        "# add() - Adds an element to the set\n",
        "set1.add(\"fig\")\n",
        "print(\"After add:\", set1)\n",
        "\n",
        "# clear() - Removes all the elements from the set\n",
        "set1.clear()\n",
        "print(\"After clear:\", set1)\n",
        "\n",
        "# copy() - Returns a copy of the set\n",
        "set1 = {\"apple\", \"banana\", \"cherry\"}\n",
        "set3 = set1.copy()\n",
        "print(\"Copied set:\", set3)\n",
        "\n",
        "# difference() - Returns a set containing the difference between two sets\n",
        "diff = set1.difference(set2)\n",
        "print(\"Difference:\", diff)\n",
        "\n",
        "# difference_update() - Removes the items in this set that are also included in another set\n",
        "set1.difference_update(set2)\n",
        "print(\"After difference_update:\", set1)\n",
        "\n",
        "# discard() - Remove the specified item\n",
        "set1.discard(\"banana\")\n",
        "print(\"After discard:\", set1)\n",
        "\n",
        "# intersection() - Returns a set, that is the intersection of two sets\n",
        "set1 = {\"apple\", \"banana\", \"cherry\"}\n",
        "intersection = set1.intersection(set2)\n",
        "print(\"Intersection:\", intersection)\n",
        "\n",
        "# intersection_update() - Removes the items in this set that are not present in other set(s)\n",
        "set1.intersection_update(set2)\n",
        "print(\"After intersection_update:\", set1)\n",
        "\n",
        "# isdisjoint() - Returns whether two sets have a intersection or not\n",
        "disjoint = set1.isdisjoint(set2)\n",
        "print(\"Is disjoint:\", disjoint)\n",
        "\n",
        "# issubset() - Returns whether another set contains this set or not\n",
        "subset = set1.issubset(set2)\n",
        "print(\"Is subset:\", subset)\n",
        "\n",
        "# issuperset() - Returns whether this set contains another set or not\n",
        "set1 = {\"apple\", \"banana\", \"cherry\"}\n",
        "superset = set1.issuperset(set2)\n",
        "print(\"Is superset:\", superset)\n",
        "\n",
        "# pop() - Removes an element from the set\n",
        "popped_element = set1.pop()\n",
        "print(\"Popped element:\", popped_element)\n",
        "print(\"After pop:\", set1)\n",
        "\n",
        "# remove() - Removes the specified element\n",
        "set1.remove(\"apple\")\n",
        "print(\"After remove:\", set1)\n",
        "\n",
        "# symmetric_difference() - Returns a set with the symmetric differences of two sets\n",
        "set1 = {\"apple\", \"banana\", \"cherry\"}\n",
        "sym_diff = set1.symmetric_difference(set2)\n",
        "print(\"Symmetric difference:\", sym_diff)\n",
        "\n",
        "# symmetric_difference_update() - Inserts the symmetric differences from this set and another\n",
        "set1.symmetric_difference_update(set2)\n",
        "print(\"After symmetric_difference_update:\", set1)\n",
        "\n",
        "# union() - Returns a set containing the union of sets\n",
        "set1 = {\"apple\", \"banana\", \"cherry\"}\n",
        "union_set = set1.union(set2)\n",
        "print(\"Union:\", union_set)\n",
        "\n",
        "# update() - Updates the set with the union of this set and others\n",
        "set1.update(set2)\n",
        "print(\"After update:\", set1)"
      ],
      "metadata": {
        "colab": {
          "base_uri": "https://localhost:8080/"
        },
        "id": "Y8FFR9Z759Bo",
        "outputId": "db1e2cae-7cfe-4a67-f298-a09aee2d6c15"
      },
      "execution_count": null,
      "outputs": [
        {
          "output_type": "stream",
          "name": "stdout",
          "text": [
            "After add: {'fig', 'banana', 'apple', 'cherry'}\n",
            "After clear: set()\n",
            "Copied set: {'banana', 'apple', 'cherry'}\n",
            "Difference: {'apple', 'cherry'}\n",
            "After difference_update: {'apple', 'cherry'}\n",
            "After discard: {'apple', 'cherry'}\n",
            "Intersection: {'banana'}\n",
            "After intersection_update: {'banana'}\n",
            "Is disjoint: False\n",
            "Is subset: True\n",
            "Is superset: False\n",
            "Popped element: banana\n",
            "After pop: {'apple', 'cherry'}\n",
            "After remove: {'cherry'}\n",
            "Symmetric difference: {'durian', 'elderberry', 'apple', 'cherry'}\n",
            "After symmetric_difference_update: {'cherry', 'elderberry', 'apple', 'durian'}\n",
            "Union: {'banana', 'durian', 'elderberry', 'apple', 'cherry'}\n",
            "After update: {'banana', 'durian', 'elderberry', 'apple', 'cherry'}\n"
          ]
        }
      ]
    },
    {
      "cell_type": "markdown",
      "source": [
        "# **🔶 Dictionaries 🔷**"
      ],
      "metadata": {
        "id": "5fNdER__HRIZ"
      }
    },
    {
      "cell_type": "code",
      "source": [
        "dict0 = {\n",
        "  \"brand\": \"Ford\",\n",
        "  \"model\": \"Mustang\",\n",
        "  \"year\": 1964\n",
        "}\n",
        "\n",
        "print(dict0)"
      ],
      "metadata": {
        "colab": {
          "base_uri": "https://localhost:8080/"
        },
        "id": "v_DKtDZmKWEF",
        "outputId": "7e38fb8e-f294-420c-c0b6-f7f8ecd2135b"
      },
      "execution_count": null,
      "outputs": [
        {
          "output_type": "stream",
          "name": "stdout",
          "text": [
            "{'brand': 'Ford', 'model': 'Mustang', 'year': 1964}\n"
          ]
        }
      ]
    },
    {
      "cell_type": "code",
      "source": [
        "dict1 = {\n",
        "  \"brand\": \"Ford\",\n",
        "  \"model\": \"Mustang\",\n",
        "  \"year\": 1964\n",
        "}\n",
        "\n",
        "print(dict1[\"brand\"])"
      ],
      "metadata": {
        "colab": {
          "base_uri": "https://localhost:8080/"
        },
        "id": "Yq7sV6wAL4s1",
        "outputId": "28fde78d-ae49-4ef7-c706-364ca26e99d7"
      },
      "execution_count": null,
      "outputs": [
        {
          "output_type": "stream",
          "name": "stdout",
          "text": [
            "Ford\n"
          ]
        }
      ]
    },
    {
      "cell_type": "code",
      "source": [
        "dict2 = {\n",
        "  \"brand\": \"Ford\",\n",
        "  \"model\": \"Mustang\",\n",
        "  \"year\": 1964,\n",
        "  \"year\": 2020\n",
        "}\n",
        "print(dict2)\n",
        "print(len(dict2))"
      ],
      "metadata": {
        "colab": {
          "base_uri": "https://localhost:8080/"
        },
        "id": "6ZhHppuzMx2U",
        "outputId": "27facc15-3b37-419b-dc90-d77ed68334f9"
      },
      "execution_count": null,
      "outputs": [
        {
          "output_type": "stream",
          "name": "stdout",
          "text": [
            "{'brand': 'Ford', 'model': 'Mustang', 'year': 2020}\n",
            "3\n"
          ]
        }
      ]
    },
    {
      "cell_type": "code",
      "source": [
        "dict3 = {\n",
        "    \"brand\": \"Ford\",\n",
        "    \"electric\": False,\n",
        "    \"year\": 1964,\n",
        "    \"colors\": [\"red\", \"white\", \"blue\"]\n",
        "}\n",
        "\n",
        "print(dict3)     #string, int, boolean, and list data types\n",
        "print(type(dict3))"
      ],
      "metadata": {
        "colab": {
          "base_uri": "https://localhost:8080/"
        },
        "id": "s919LW9oSCld",
        "outputId": "85eff3c6-3d97-49f6-bf3c-41db8e1993cc"
      },
      "execution_count": null,
      "outputs": [
        {
          "output_type": "stream",
          "name": "stdout",
          "text": [
            "{'brand': 'Ford', 'electric': False, 'year': 1964, 'colors': ['red', 'white', 'blue']}\n",
            "<class 'dict'>\n"
          ]
        }
      ]
    },
    {
      "cell_type": "code",
      "source": [
        "dict4 = dict(name = \"Nishat\", age = 23, country = \"Bangladesh\")\n",
        "print(dict4)\n",
        "print(type(dict4))"
      ],
      "metadata": {
        "colab": {
          "base_uri": "https://localhost:8080/"
        },
        "id": "SqZJCqLDSM_3",
        "outputId": "df0d52db-3971-4f76-f9b9-38ec75516531"
      },
      "execution_count": null,
      "outputs": [
        {
          "output_type": "stream",
          "name": "stdout",
          "text": [
            "{'name': 'Nishat', 'age': 23, 'country': 'Bangladesh'}\n",
            "<class 'dict'>\n"
          ]
        }
      ]
    },
    {
      "cell_type": "markdown",
      "source": [
        "### **Accessing Items**"
      ],
      "metadata": {
        "id": "G8y2hkbBSuj9"
      }
    },
    {
      "cell_type": "code",
      "source": [
        "dict5 = {\n",
        "  \"brand\": \"Ford\",\n",
        "  \"model\": \"Mustang\",\n",
        "  \"year\": 1964\n",
        "}\n",
        "x = dict5[\"model\"]\n",
        "print(x)"
      ],
      "metadata": {
        "colab": {
          "base_uri": "https://localhost:8080/"
        },
        "id": "Bk2BuzTPSsN-",
        "outputId": "84839ca4-238e-4ef0-d1db-5ee5d7f5af98"
      },
      "execution_count": null,
      "outputs": [
        {
          "output_type": "stream",
          "name": "stdout",
          "text": [
            "Mustang\n"
          ]
        }
      ]
    },
    {
      "cell_type": "code",
      "source": [
        "x = dict5.get(\"model\")\n",
        "print(x)"
      ],
      "metadata": {
        "colab": {
          "base_uri": "https://localhost:8080/"
        },
        "id": "Pj4P6C9HTByF",
        "outputId": "d38808d9-89ba-480f-915c-6dff0118f090"
      },
      "execution_count": null,
      "outputs": [
        {
          "output_type": "stream",
          "name": "stdout",
          "text": [
            "Mustang\n"
          ]
        }
      ]
    },
    {
      "cell_type": "code",
      "source": [
        "x = dict5.keys()\n",
        "print(x)"
      ],
      "metadata": {
        "colab": {
          "base_uri": "https://localhost:8080/"
        },
        "id": "OfwwKLnmTlE9",
        "outputId": "84c3d824-521c-497b-c308-d684f376b7f1"
      },
      "execution_count": null,
      "outputs": [
        {
          "output_type": "stream",
          "name": "stdout",
          "text": [
            "dict_keys(['brand', 'model', 'year'])\n"
          ]
        }
      ]
    },
    {
      "cell_type": "code",
      "source": [
        "car = {\n",
        "\"brand\": \"Ford\",\n",
        "\"model\": \"Mustang\",\n",
        "\"year\": 1964\n",
        "}\n",
        "\n",
        "x = car.keys()\n",
        "\n",
        "print(x) #before the change\n",
        "\n",
        "car[\"color\"] = \"white\"\n",
        "\n",
        "print(x) #after the change\n",
        "\n",
        "y = car.values()    #get a list of values\n",
        "print(y)"
      ],
      "metadata": {
        "colab": {
          "base_uri": "https://localhost:8080/"
        },
        "id": "Ux-B6n9VTxfM",
        "outputId": "6cedfc77-662b-4b2a-c1b7-2cff90c83d21"
      },
      "execution_count": null,
      "outputs": [
        {
          "output_type": "stream",
          "name": "stdout",
          "text": [
            "dict_keys(['brand', 'model', 'year'])\n",
            "dict_keys(['brand', 'model', 'year', 'color'])\n",
            "dict_values(['Ford', 'Mustang', 1964, 'white'])\n"
          ]
        }
      ]
    },
    {
      "cell_type": "code",
      "source": [
        "car = {\n",
        "\"brand\": \"Ford\",\n",
        "\"model\": \"Mustang\",\n",
        "\"year\": 1964\n",
        "}\n",
        "\n",
        "x = car.values()\n",
        "\n",
        "print(x) #before the change\n",
        "\n",
        "car[\"year\"] = 2020\n",
        "\n",
        "print(x) #after the change"
      ],
      "metadata": {
        "colab": {
          "base_uri": "https://localhost:8080/"
        },
        "id": "-tWaDhiST-tc",
        "outputId": "345a0183-e6c0-46e2-a4b1-f7a0fbec75c8"
      },
      "execution_count": null,
      "outputs": [
        {
          "output_type": "stream",
          "name": "stdout",
          "text": [
            "dict_values(['Ford', 'Mustang', 1964])\n",
            "dict_values(['Ford', 'Mustang', 2020])\n"
          ]
        }
      ]
    },
    {
      "cell_type": "code",
      "source": [
        "car = {\n",
        "\"brand\" : \"Ford\",\n",
        "\"model\" : \"Mustang\",\n",
        "\"year\" : 1964\n",
        "}\n",
        "\n",
        "x = car.values()\n",
        "\n",
        "print(x) #before the change\n",
        "\n",
        "car[\"color\"] = \"red\"\n",
        "\n",
        "print(x) #after the change\n",
        "x  = car.items()\n",
        "print(x)"
      ],
      "metadata": {
        "colab": {
          "base_uri": "https://localhost:8080/"
        },
        "id": "1M0gQX6TUUwE",
        "outputId": "dbd45267-2841-48c5-c6a7-0aa80ecff9b5"
      },
      "execution_count": null,
      "outputs": [
        {
          "output_type": "stream",
          "name": "stdout",
          "text": [
            "dict_values(['Ford', 'Mustang', 1964])\n",
            "dict_values(['Ford', 'Mustang', 1964, 'red'])\n",
            "dict_items([('brand', 'Ford'), ('model', 'Mustang'), ('year', 1964), ('color', 'red')])\n"
          ]
        }
      ]
    },
    {
      "cell_type": "code",
      "source": [],
      "metadata": {
        "id": "OfoQXrk_VeFM"
      },
      "execution_count": null,
      "outputs": []
    }
  ]
}