{
  "nbformat": 4,
  "nbformat_minor": 0,
  "metadata": {
    "colab": {
      "provenance": [],
      "authorship_tag": "ABX9TyPC1R75rzqTRtztnxI7tNej",
      "include_colab_link": true
    },
    "kernelspec": {
      "name": "python3",
      "display_name": "Python 3"
    },
    "language_info": {
      "name": "python"
    }
  },
  "cells": [
    {
      "cell_type": "markdown",
      "metadata": {
        "id": "view-in-github",
        "colab_type": "text"
      },
      "source": [
        "<a href=\"https://colab.research.google.com/github/NishatTasnim01/Data-Science-Basics/blob/main/2_Python_Basic.ipynb\" target=\"_parent\"><img src=\"https://colab.research.google.com/assets/colab-badge.svg\" alt=\"Open In Colab\"/></a>"
      ]
    },
    {
      "cell_type": "markdown",
      "source": [
        "# **Data Structure X Python**\n",
        "\n",
        "### **Lists**\n",
        "Lists are ordered, mutable collections that allow duplicate elements. They are defined using square brackets (`[]`).\n",
        "\n",
        "```python\n",
        "my_list = [1, 2, 3, 4]\n",
        "print(\"List:\", my_list)\n",
        "```\n",
        "\n",
        "### **Tuples**\n",
        "Tuples are ordered, immutable collections that allow duplicate elements. They are defined using parentheses (`()`).\n",
        "\n",
        "```python\n",
        "my_tuple = (1, 2, 3, 4)\n",
        "print(\"Tuple:\", my_tuple)\n",
        "```\n",
        "\n",
        "### **Sets**\n",
        "Sets are unordered collections of unique elements. They are defined using curly braces (`{}`) or the `set()` function.\n",
        "\n",
        "```python\n",
        "my_set = {1, 2, 3, 4}\n",
        "print(\"Set:\", my_set)\n",
        "```\n",
        "\n",
        "### **Dictionaries**\n",
        "Dictionaries are unordered collections of key-value pairs. Keys must be unique, and values can be any type. They are defined using curly braces (`{}`).\n",
        "\n",
        "```python\n",
        "my_dict = {\"name\": \"Alice\", \"age\": 25}\n",
        "print(\"Dictionary:\", my_dict)\n",
        "```"
      ],
      "metadata": {
        "id": "0preT5Jb8Ef-"
      }
    },
    {
      "cell_type": "markdown",
      "source": [
        "### **Key Operations and Methods**\n",
        "\n",
        "#### Lists\n",
        "- `append()`: Adds an element to the end of the list.\n",
        "- `remove()`: Removes the first occurrence of a specified value.\n",
        "- `pop()`: Removes and returns an element at a specified position.\n",
        "- `extend()`: Extends the list by appending elements from an iterable.\n",
        "- `insert()`: Inserts an element at a specified position.\n",
        "\n",
        "#### Tuples\n",
        "- **Indexing**: Access elements by position (e.g., `my_tuple[0]`).\n",
        "- **Slicing**: Retrieve a subset of elements (e.g., `my_tuple[1:3]`).\n",
        "- **Note**: No modification methods since tuples are immutable.\n",
        "\n",
        "#### Dictionaries\n",
        "- `keys()`: Returns a view object that displays a list of all the keys.\n",
        "- `values()`: Returns a view object that displays a list of all the values.\n",
        "- `items()`: Returns a view object that displays a list of all the key-value pairs.\n",
        "- `get()`: Returns the value for a specified key. Returns `None` if the key does not exist.\n",
        "- `update()`: Updates the dictionary with elements from another dictionary or iterable of key-value pairs.\n",
        "- `pop()`: Removes the item with the specified key and returns its value.\n",
        "\n",
        "#### Sets\n",
        "- `add()`: Adds an element to the set.\n",
        "- `remove()`: Removes a specified element from the set. Raises an error if the element is not found.\n",
        "- `discard()`: Removes a specified element from the set. Does not raise an error if the element is not found.\n",
        "- `union()`: Returns a new set with elements from the set and all others.\n",
        "- `intersection()`: Returns a new set with elements common to the set and others.\n",
        "- `difference()`: Returns a new set with elements in the set that are not in the others."
      ],
      "metadata": {
        "id": "-dNPVxVu-AGZ"
      }
    },
    {
      "cell_type": "markdown",
      "source": [
        "# **Lists**"
      ],
      "metadata": {
        "id": "UI8MUaNLwp0t"
      }
    },
    {
      "cell_type": "code",
      "execution_count": null,
      "metadata": {
        "colab": {
          "base_uri": "https://localhost:8080/"
        },
        "id": "zBJ6Z5WAwkjA",
        "outputId": "125b63d7-2ee7-409d-81e9-270d83ab1fab"
      },
      "outputs": [
        {
          "output_type": "stream",
          "name": "stdout",
          "text": [
            "['apple', 'banana', 'cherry']\n"
          ]
        }
      ],
      "source": [
        "mylist = [\"apple\", \"banana\", \"cherry\"]\n",
        "print(mylist)"
      ]
    },
    {
      "cell_type": "code",
      "source": [
        "mylist = [\"apple\", \"banana\", \"cherry\"]\n",
        "print(len(mylist))"
      ],
      "metadata": {
        "colab": {
          "base_uri": "https://localhost:8080/"
        },
        "id": "D7YS9qOBxIdt",
        "outputId": "57ee5d16-0f44-4b0d-a987-37528cd2574b"
      },
      "execution_count": null,
      "outputs": [
        {
          "output_type": "stream",
          "name": "stdout",
          "text": [
            "3\n"
          ]
        }
      ]
    },
    {
      "cell_type": "code",
      "source": [
        "list1 = [\"apple\", \"banana\", \"cherry\"]\n",
        "list2 = [1, 5, 7, 9, 3]\n",
        "list3 = [True, False, False]\n",
        "\n",
        "print(list1)\n",
        "print(list2)\n",
        "print(list3)"
      ],
      "metadata": {
        "colab": {
          "base_uri": "https://localhost:8080/"
        },
        "id": "WNS7bVK2xSrm",
        "outputId": "0bd28641-6de6-4f25-91ab-614d599ff020"
      },
      "execution_count": null,
      "outputs": [
        {
          "output_type": "stream",
          "name": "stdout",
          "text": [
            "['apple', 'banana', 'cherry']\n",
            "[1, 5, 7, 9, 3]\n",
            "[True, False, False]\n"
          ]
        }
      ]
    },
    {
      "cell_type": "code",
      "source": [
        "mylist = [\"apple\", \"banana\", \"cherry\"]\n",
        "print(type(mylist))"
      ],
      "metadata": {
        "colab": {
          "base_uri": "https://localhost:8080/"
        },
        "id": "4uXghpUExbSx",
        "outputId": "d74a9913-e14e-40a0-8ad0-95943fcd8779"
      },
      "execution_count": null,
      "outputs": [
        {
          "output_type": "stream",
          "name": "stdout",
          "text": [
            "<class 'list'>\n"
          ]
        }
      ]
    },
    {
      "cell_type": "code",
      "source": [
        "list1 = [\"abc\", 34, True, 40, \"male\"]\n",
        "\n",
        "print(list1)\n",
        "print(type(list1))"
      ],
      "metadata": {
        "colab": {
          "base_uri": "https://localhost:8080/"
        },
        "id": "Oeosm1j0xYJG",
        "outputId": "73d74fe8-86ff-402b-8f5a-3905dfbdc2e6"
      },
      "execution_count": null,
      "outputs": [
        {
          "output_type": "stream",
          "name": "stdout",
          "text": [
            "['abc', 34, True, 40, 'male']\n",
            "<class 'list'>\n"
          ]
        }
      ]
    },
    {
      "cell_type": "code",
      "source": [
        "newlist = list((\"apple\", \"banana\", \"cherry\"))\n",
        "print(newlist)"
      ],
      "metadata": {
        "colab": {
          "base_uri": "https://localhost:8080/"
        },
        "id": "UFGirUB6xfu3",
        "outputId": "24c78df1-ab3c-4a75-e966-10060fe0d857"
      },
      "execution_count": null,
      "outputs": [
        {
          "output_type": "stream",
          "name": "stdout",
          "text": [
            "['apple', 'banana', 'cherry']\n"
          ]
        }
      ]
    },
    {
      "cell_type": "markdown",
      "source": [
        "## **Access List Items**"
      ],
      "metadata": {
        "id": "0i-5Lr81xyLq"
      }
    },
    {
      "cell_type": "code",
      "source": [
        "list1 = [\"apple\", \"banana\", \"cherry\", \"watermelon\"]\n",
        "print(list1[1])"
      ],
      "metadata": {
        "colab": {
          "base_uri": "https://localhost:8080/"
        },
        "id": "75pP0EczxvSv",
        "outputId": "94c3bc36-12b9-4faf-db4b-9b4c28015888"
      },
      "execution_count": null,
      "outputs": [
        {
          "output_type": "stream",
          "name": "stdout",
          "text": [
            "banana\n"
          ]
        }
      ]
    },
    {
      "cell_type": "code",
      "source": [
        "list1 = [\"apple\", \"banana\", \"cherry\", \"watermelon\"]\n",
        "print(list1[-1])"
      ],
      "metadata": {
        "colab": {
          "base_uri": "https://localhost:8080/"
        },
        "id": "2eckHi1yx9Ir",
        "outputId": "2ba4bcb7-949e-442a-f24c-8f2b31005a47"
      },
      "execution_count": null,
      "outputs": [
        {
          "output_type": "stream",
          "name": "stdout",
          "text": [
            "watermelon\n"
          ]
        }
      ]
    },
    {
      "cell_type": "code",
      "source": [
        "list2 = [\"apple\", \"banana\", \"cherry\", \"orange\", \"kiwi\", \"melon\", \"mango\"]\n",
        "print(list2[2:5])\n",
        "print(list2[:4])\n",
        "print(list2[2:])\n",
        "print(list2[-4:-1])"
      ],
      "metadata": {
        "colab": {
          "base_uri": "https://localhost:8080/"
        },
        "id": "rRJFD5FFyBBW",
        "outputId": "3f45a7c9-e749-48f6-d2e5-d2df2e07dfa1"
      },
      "execution_count": null,
      "outputs": [
        {
          "output_type": "stream",
          "name": "stdout",
          "text": [
            "['cherry', 'orange', 'kiwi']\n",
            "['apple', 'banana', 'cherry', 'orange']\n",
            "['cherry', 'orange', 'kiwi', 'melon', 'mango']\n",
            "['orange', 'kiwi', 'melon']\n"
          ]
        }
      ]
    },
    {
      "cell_type": "code",
      "source": [
        "list3 = [\"apple\", \"avocado\", \"banana\", \"cherry\"]\n",
        "if \"avocado\" in list3:\n",
        "  print(\"Yes, Avocado 🥑 is in the fruits list, you wanna eat?\")"
      ],
      "metadata": {
        "colab": {
          "base_uri": "https://localhost:8080/"
        },
        "id": "82bcFYVlyILM",
        "outputId": "6930a946-7fee-4245-ad74-a6f9906317eb"
      },
      "execution_count": null,
      "outputs": [
        {
          "output_type": "stream",
          "name": "stdout",
          "text": [
            "Yes, Avocado 🥑 is in the fruits list, you wanna eat?\n"
          ]
        }
      ]
    },
    {
      "cell_type": "markdown",
      "source": [
        "## **Change List Items**"
      ],
      "metadata": {
        "id": "mVrs4K6KyrEK"
      }
    },
    {
      "cell_type": "code",
      "source": [
        "list1 = [\"apple\", \"banana\", \"cherry\"]\n",
        "list1[1] = \"durian\"\n",
        "print(list1)"
      ],
      "metadata": {
        "colab": {
          "base_uri": "https://localhost:8080/"
        },
        "id": "BIF7u9CJymj1",
        "outputId": "4c3ead2b-0be2-4c20-c5d5-509363b7965c"
      },
      "execution_count": null,
      "outputs": [
        {
          "output_type": "stream",
          "name": "stdout",
          "text": [
            "['apple', 'durian', 'cherry']\n"
          ]
        }
      ]
    },
    {
      "cell_type": "code",
      "source": [
        "list2 = [\"apple\", \"banana\", \"cherry\", \"orange\", \"kiwi\", \"mango\"]\n",
        "list2[1:3] = [\"pawpaw\", \"noni\"]\n",
        "print(list2)"
      ],
      "metadata": {
        "colab": {
          "base_uri": "https://localhost:8080/"
        },
        "id": "qhLPSG7ly_Zz",
        "outputId": "afbb4c4b-ab91-4446-f15d-e92f30293f5a"
      },
      "execution_count": null,
      "outputs": [
        {
          "output_type": "stream",
          "name": "stdout",
          "text": [
            "['apple', 'pawpaw', 'noni', 'orange', 'kiwi', 'mango']\n"
          ]
        }
      ]
    },
    {
      "cell_type": "code",
      "source": [
        "list3 = [\"kuwini mango\", \"banana\", \"black apple\"]\n",
        "list3[1:2] = [\"coco de mer\", \"snakefruit\"]\n",
        "print(list3)"
      ],
      "metadata": {
        "colab": {
          "base_uri": "https://localhost:8080/"
        },
        "id": "Jc0Mx1duza1q",
        "outputId": "65721e83-e659-4b7b-8135-2bf06117666f"
      },
      "execution_count": null,
      "outputs": [
        {
          "output_type": "stream",
          "name": "stdout",
          "text": [
            "['kuwini mango', 'coco de mer', 'snakefruit', 'black apple']\n"
          ]
        }
      ]
    },
    {
      "cell_type": "code",
      "source": [
        "list4 = [\"kuwini mango\", \"blue java banana\", \"black apple\"]\n",
        "list4[1:3] = [\"chocolate pudding fruit\"]\n",
        "print(list4)"
      ],
      "metadata": {
        "colab": {
          "base_uri": "https://localhost:8080/"
        },
        "id": "eWewziIr0OHs",
        "outputId": "f5aa8bca-b54c-4bc1-92a0-fa2537448037"
      },
      "execution_count": null,
      "outputs": [
        {
          "output_type": "stream",
          "name": "stdout",
          "text": [
            "['kuwini mango', 'chocolate pudding fruit']\n"
          ]
        }
      ]
    },
    {
      "cell_type": "code",
      "source": [
        "list5 = [\"kuwini mango\", \"blue java banana\", \"black apple\"]\n",
        "list5.insert(2, \"finger lime\")\n",
        "print(list5)"
      ],
      "metadata": {
        "colab": {
          "base_uri": "https://localhost:8080/"
        },
        "id": "TYnwEd0s0eA7",
        "outputId": "f37f5838-0403-4baf-f4cb-3958a3f97f66"
      },
      "execution_count": null,
      "outputs": [
        {
          "output_type": "stream",
          "name": "stdout",
          "text": [
            "['kuwini mango', 'blue java banana', 'finger lime', 'black apple']\n"
          ]
        }
      ]
    },
    {
      "cell_type": "markdown",
      "source": [
        "## **Add List Items**"
      ],
      "metadata": {
        "id": "4yVw1TvV0_ja"
      }
    },
    {
      "cell_type": "markdown",
      "source": [
        "#### **Append Items**"
      ],
      "metadata": {
        "id": "LrdIeBtX1DHx"
      }
    },
    {
      "cell_type": "code",
      "source": [
        "list1 = [\"apple\", \"banana\", \"cherry\"]\n",
        "list1.append(\"orange\")\n",
        "print(list1)"
      ],
      "metadata": {
        "colab": {
          "base_uri": "https://localhost:8080/"
        },
        "id": "xLv-AO1j1BMg",
        "outputId": "35198d34-8c7a-4bd3-ea28-482ec71316f3"
      },
      "execution_count": null,
      "outputs": [
        {
          "output_type": "stream",
          "name": "stdout",
          "text": [
            "['apple', 'banana', 'cherry', 'orange']\n"
          ]
        }
      ]
    },
    {
      "cell_type": "markdown",
      "source": [
        "#### **Insert Items**"
      ],
      "metadata": {
        "id": "93h-stfn1Kz1"
      }
    },
    {
      "cell_type": "code",
      "source": [
        "list1 = [\"apple\", \"banana\", \"cherry\"]\n",
        "list1.insert(1, \"orange\")\n",
        "print(list1)"
      ],
      "metadata": {
        "colab": {
          "base_uri": "https://localhost:8080/"
        },
        "id": "t5dvmx2x1JZi",
        "outputId": "6919d7cd-26b8-45b0-ae2c-91adeacbaa12"
      },
      "execution_count": null,
      "outputs": [
        {
          "output_type": "stream",
          "name": "stdout",
          "text": [
            "['apple', 'orange', 'banana', 'cherry']\n"
          ]
        }
      ]
    },
    {
      "cell_type": "markdown",
      "source": [
        "#### **Extend List**"
      ],
      "metadata": {
        "id": "GY7IqNR_1Pnu"
      }
    },
    {
      "cell_type": "code",
      "source": [
        "list1 = [\"apple\", \"banana\", \"cherry\"]\n",
        "tropical = [\"mango\", \"pineapple\", \"papaya\"]\n",
        "list1.extend(tropical)\n",
        "print(list1)"
      ],
      "metadata": {
        "colab": {
          "base_uri": "https://localhost:8080/"
        },
        "id": "8usIj-8a1Sag",
        "outputId": "8047afc8-9abd-4ea9-cb4e-ab0e65a09624"
      },
      "execution_count": null,
      "outputs": [
        {
          "output_type": "stream",
          "name": "stdout",
          "text": [
            "['apple', 'banana', 'cherry', 'mango', 'pineapple', 'papaya']\n"
          ]
        }
      ]
    },
    {
      "cell_type": "markdown",
      "source": [
        "#### **Add Any Iterable**"
      ],
      "metadata": {
        "id": "Bkg-11Aj1Yy8"
      }
    },
    {
      "cell_type": "code",
      "source": [
        "list1 = [\"apple\", \"banana\", \"cherry\"]\n",
        "thistuple = (\"kiwi\", \"orange\")\n",
        "list1.extend(thistuple)\n",
        "print(list1)"
      ],
      "metadata": {
        "colab": {
          "base_uri": "https://localhost:8080/"
        },
        "id": "joFN4odT1adi",
        "outputId": "e789fd62-9f77-4fef-f179-0f2eed5db8de"
      },
      "execution_count": null,
      "outputs": [
        {
          "output_type": "stream",
          "name": "stdout",
          "text": [
            "['apple', 'banana', 'cherry', 'kiwi', 'orange']\n"
          ]
        }
      ]
    },
    {
      "cell_type": "markdown",
      "source": [
        "## **Remove List Items**"
      ],
      "metadata": {
        "id": "vaWptHFz1w0G"
      }
    },
    {
      "cell_type": "code",
      "source": [
        "list2 = [\"apple\", \"banana\", \"cherry\", \"orange\", \"kiwi\", \"mango\"]\n",
        "list2.remove(\"banana\")\n",
        "print(list2)"
      ],
      "metadata": {
        "colab": {
          "base_uri": "https://localhost:8080/"
        },
        "id": "GrzNvk0M157A",
        "outputId": "43dad537-ffda-4ae7-8a70-8fd33045846f"
      },
      "execution_count": null,
      "outputs": [
        {
          "output_type": "stream",
          "name": "stdout",
          "text": [
            "['apple', 'cherry', 'orange', 'kiwi', 'mango']\n"
          ]
        }
      ]
    },
    {
      "cell_type": "code",
      "source": [
        "list2 = [\"apple\", \"banana\", \"cherry\", \"orange\", \"banana\", \"kiwi\", \"mango\"]\n",
        "list2.remove(\"banana\")   #Remove the first occurrence of \"banana\"\n",
        "print(list2)"
      ],
      "metadata": {
        "colab": {
          "base_uri": "https://localhost:8080/"
        },
        "id": "rhHyEMHF3k2l",
        "outputId": "313843db-911e-42d9-d5c7-d96c105227f0"
      },
      "execution_count": null,
      "outputs": [
        {
          "output_type": "stream",
          "name": "stdout",
          "text": [
            "['apple', 'cherry', 'orange', 'banana', 'kiwi', 'mango']\n"
          ]
        }
      ]
    },
    {
      "cell_type": "code",
      "source": [
        "list2 = [\"apple\", \"banana\", \"cherry\", \"orange\", \"kiwi\", \"mango\"]\n",
        "list2.pop(1)             #pop() method removes the specified index\n",
        "print(list2)"
      ],
      "metadata": {
        "colab": {
          "base_uri": "https://localhost:8080/"
        },
        "id": "lTINcBf_3nCU",
        "outputId": "af7af636-967b-44f1-b31c-2448b2fc30eb"
      },
      "execution_count": null,
      "outputs": [
        {
          "output_type": "stream",
          "name": "stdout",
          "text": [
            "['apple', 'cherry', 'orange', 'kiwi', 'mango']\n"
          ]
        }
      ]
    },
    {
      "cell_type": "code",
      "source": [
        "list2 = [\"apple\", \"banana\", \"cherry\", \"orange\", \"kiwi\", \"mango\"]\n",
        "list2.pop()              #index not specified, the pop() method removes the last item\n",
        "print(list2)"
      ],
      "metadata": {
        "colab": {
          "base_uri": "https://localhost:8080/"
        },
        "id": "-SAFGTLs3pCU",
        "outputId": "b5bf7080-368a-4202-8d66-e3517d5b2334"
      },
      "execution_count": null,
      "outputs": [
        {
          "output_type": "stream",
          "name": "stdout",
          "text": [
            "['apple', 'banana', 'cherry', 'orange', 'kiwi']\n"
          ]
        }
      ]
    },
    {
      "cell_type": "code",
      "source": [
        "list2 = [\"apple\", \"banana\", \"cherry\", \"orange\", \"kiwi\", \"mango\"]\n",
        "del list2[0]             #del keyword removes the specified index\n",
        "print(list2)"
      ],
      "metadata": {
        "colab": {
          "base_uri": "https://localhost:8080/"
        },
        "id": "WAIQeK0-3rTh",
        "outputId": "ae45d579-a16b-4fe7-bb92-ff766a60c503"
      },
      "execution_count": null,
      "outputs": [
        {
          "output_type": "stream",
          "name": "stdout",
          "text": [
            "['banana', 'cherry', 'orange', 'kiwi', 'mango']\n"
          ]
        }
      ]
    },
    {
      "cell_type": "code",
      "source": [
        "list2 = [\"apple\", \"banana\", \"cherry\", \"orange\", \"kiwi\", \"mango\"]\n",
        "del list2                #del keyword can also delete the list completely\n",
        "#can not print since there is no list"
      ],
      "metadata": {
        "id": "YsbxoOgD3ttQ"
      },
      "execution_count": null,
      "outputs": []
    },
    {
      "cell_type": "code",
      "source": [
        "list2 = [\"apple\", \"banana\", \"cherry\", \"orange\", \"kiwi\", \"mango\"]\n",
        "list2.clear()            #clear() method empties the list\n",
        "print(list2)"
      ],
      "metadata": {
        "colab": {
          "base_uri": "https://localhost:8080/"
        },
        "id": "wOg3CeZH3wDh",
        "outputId": "aacfc59c-062b-4310-c11b-a8fdf39ca41e"
      },
      "execution_count": null,
      "outputs": [
        {
          "output_type": "stream",
          "name": "stdout",
          "text": [
            "[]\n"
          ]
        }
      ]
    },
    {
      "cell_type": "markdown",
      "source": [
        "# **Loop Lists**"
      ],
      "metadata": {
        "id": "HwiHp2Hm39mK"
      }
    },
    {
      "cell_type": "markdown",
      "source": [
        "#### **Loop Through a List**"
      ],
      "metadata": {
        "id": "B5gC45CP4c17"
      }
    },
    {
      "cell_type": "code",
      "source": [
        "list3 = [\"apple\", \"banana\", \"cherry\"]\n",
        "for x in list3:\n",
        "  print(x)"
      ],
      "metadata": {
        "colab": {
          "base_uri": "https://localhost:8080/"
        },
        "id": "wsSFED9E4EGS",
        "outputId": "ca941a4b-66cb-4942-d2d5-9906d46839f1"
      },
      "execution_count": null,
      "outputs": [
        {
          "output_type": "stream",
          "name": "stdout",
          "text": [
            "apple\n",
            "banana\n",
            "cherry\n"
          ]
        }
      ]
    },
    {
      "cell_type": "markdown",
      "source": [
        "#### **Loop Through the Index Numbers**"
      ],
      "metadata": {
        "id": "ucS6bjuU4how"
      }
    },
    {
      "cell_type": "code",
      "source": [
        "list3 = [\"apple\", \"banana\", \"cherry\"]\n",
        "for i in range(len(list3)):\n",
        "  print(list3[i])"
      ],
      "metadata": {
        "colab": {
          "base_uri": "https://localhost:8080/"
        },
        "id": "R3WstpTR4V30",
        "outputId": "b814fd5f-3482-4105-9f02-6ea2bdbf6b43"
      },
      "execution_count": null,
      "outputs": [
        {
          "output_type": "stream",
          "name": "stdout",
          "text": [
            "apple\n",
            "banana\n",
            "cherry\n"
          ]
        }
      ]
    },
    {
      "cell_type": "markdown",
      "source": [
        "#### **Using a While Loop**"
      ],
      "metadata": {
        "id": "z6xWavqB4ljt"
      }
    },
    {
      "cell_type": "code",
      "source": [
        "list3 = [\"apple\", \"banana\", \"cherry\"]\n",
        "i = 0\n",
        "while i < len(list3):\n",
        "  print(list3[i])\n",
        "  i = i + 1"
      ],
      "metadata": {
        "colab": {
          "base_uri": "https://localhost:8080/"
        },
        "id": "khgL2tj54XtA",
        "outputId": "5adc9a8e-1ad6-433f-9ff6-77622a1fed8a"
      },
      "execution_count": null,
      "outputs": [
        {
          "output_type": "stream",
          "name": "stdout",
          "text": [
            "apple\n",
            "banana\n",
            "cherry\n"
          ]
        }
      ]
    },
    {
      "cell_type": "markdown",
      "source": [
        "#### **Looping Using List Comprehension**"
      ],
      "metadata": {
        "id": "nonlXc6D4pV8"
      }
    },
    {
      "cell_type": "code",
      "source": [
        "list3 = [\"apple\", \"banana\", \"cherry\"]\n",
        "[print(x) for x in list3]"
      ],
      "metadata": {
        "colab": {
          "base_uri": "https://localhost:8080/"
        },
        "id": "9vEuLn0e4aSm",
        "outputId": "d6f8879f-869d-4541-c08e-b64d169cb4f1"
      },
      "execution_count": null,
      "outputs": [
        {
          "output_type": "stream",
          "name": "stdout",
          "text": [
            "apple\n",
            "banana\n",
            "cherry\n"
          ]
        },
        {
          "output_type": "execute_result",
          "data": {
            "text/plain": [
              "[None, None, None]"
            ]
          },
          "metadata": {},
          "execution_count": 54
        }
      ]
    },
    {
      "cell_type": "markdown",
      "source": [
        "# **List Comprehension**"
      ],
      "metadata": {
        "id": "HsViGd2o4vrn"
      }
    },
    {
      "cell_type": "code",
      "source": [
        "fruits = [\"apple\", \"banana\", \"cherry\", \"kiwi\", \"mango\"]\n",
        "newlist = []\n",
        "\n",
        "for x in fruits:\n",
        "  if \"a\" in x:\n",
        "    newlist.append(x)\n",
        "\n",
        "print(newlist)"
      ],
      "metadata": {
        "colab": {
          "base_uri": "https://localhost:8080/"
        },
        "id": "Pa6wq-zq4yip",
        "outputId": "93c1efd8-16e4-44e6-b967-734d74c27324"
      },
      "execution_count": null,
      "outputs": [
        {
          "output_type": "stream",
          "name": "stdout",
          "text": [
            "['apple', 'banana', 'mango']\n"
          ]
        }
      ]
    },
    {
      "cell_type": "code",
      "source": [
        "fruits = [\"apple\", \"banana\", \"cherry\", \"kiwi\", \"mango\"]\n",
        "\n",
        "newlist = [x for x in fruits if \"a\" in x]\n",
        "print(newlist)"
      ],
      "metadata": {
        "colab": {
          "base_uri": "https://localhost:8080/"
        },
        "id": "ADWPqjNo44w1",
        "outputId": "9dfd2768-fb6a-4e74-cffe-9983841d4de6"
      },
      "execution_count": null,
      "outputs": [
        {
          "output_type": "stream",
          "name": "stdout",
          "text": [
            "['apple', 'banana', 'mango']\n"
          ]
        }
      ]
    },
    {
      "cell_type": "markdown",
      "source": [
        "#### **Practice:**"
      ],
      "metadata": {
        "id": "dC1MCPnQ55iY"
      }
    },
    {
      "cell_type": "code",
      "source": [
        "# Initial list of fruits\n",
        "fruits = [\"apple\", \"banana\", \"cherry\", \"apple\", \"orange\", \"banana\", \"grape\"]\n",
        "\n",
        "# Example 1: Filter out \"apple\"\n",
        "newlist = [x for x in fruits if x != \"apple\"]\n",
        "print(\"Without 'apple':\", newlist)\n",
        "\n",
        "# Example 2: Without condition (no filtering, just copy the list)\n",
        "newlist = [x for x in fruits]\n",
        "print(\"All fruits:\", newlist)\n",
        "\n",
        "# Example 3: Create a list using range()\n",
        "newlist = [x for x in range(10)]\n",
        "print(\"Range list:\", newlist)\n",
        "\n",
        "# Example 4: Accept only numbers less than 5 from range()\n",
        "newlist = [x for x in range(10) if x < 5]\n",
        "print(\"Numbers less than 5:\", newlist)\n",
        "\n",
        "# Example 5: Set all fruit names to uppercase\n",
        "newlist = [x.upper() for x in fruits]\n",
        "print(\"Uppercase fruits:\", newlist)\n",
        "\n",
        "# Example 6: Set all values to 'cucamelon'\n",
        "newlist = ['cucamelon' for x in fruits]\n",
        "print(\"All 'cucamelon':\", newlist)\n",
        "\n",
        "# Example 7: Replace \"banana\" with \"orange\"\n",
        "newlist = [x if x != \"banana\" else \"orange\" for x in fruits]\n",
        "print(\"Bananas replaced with oranges:\", newlist)"
      ],
      "metadata": {
        "colab": {
          "base_uri": "https://localhost:8080/"
        },
        "id": "jnbfeAw95JIz",
        "outputId": "87bc528c-eccf-45d8-cd33-858dc58de3a9"
      },
      "execution_count": null,
      "outputs": [
        {
          "output_type": "stream",
          "name": "stdout",
          "text": [
            "Without 'apple': ['banana', 'cherry', 'orange', 'banana', 'grape']\n",
            "All fruits: ['apple', 'banana', 'cherry', 'apple', 'orange', 'banana', 'grape']\n",
            "Range list: [0, 1, 2, 3, 4, 5, 6, 7, 8, 9]\n",
            "Numbers less than 5: [0, 1, 2, 3, 4]\n",
            "Uppercase fruits: ['APPLE', 'BANANA', 'CHERRY', 'APPLE', 'ORANGE', 'BANANA', 'GRAPE']\n",
            "All 'cucamelon': ['cucamelon', 'cucamelon', 'cucamelon', 'cucamelon', 'cucamelon', 'cucamelon', 'cucamelon']\n",
            "Bananas replaced with oranges: ['apple', 'orange', 'cherry', 'apple', 'orange', 'orange', 'grape']\n"
          ]
        }
      ]
    },
    {
      "cell_type": "markdown",
      "source": [
        "# **Sort Lists**"
      ],
      "metadata": {
        "id": "LXSiF55z6A2-"
      }
    },
    {
      "cell_type": "markdown",
      "source": [],
      "metadata": {
        "id": "ZSBpw1W47U-0"
      }
    },
    {
      "cell_type": "code",
      "source": [],
      "metadata": {
        "id": "eS6dlj596CLS"
      },
      "execution_count": null,
      "outputs": []
    }
  ]
}