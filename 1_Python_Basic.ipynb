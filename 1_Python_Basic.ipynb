{
  "nbformat": 4,
  "nbformat_minor": 0,
  "metadata": {
    "colab": {
      "provenance": [],
      "authorship_tag": "ABX9TyPSMOSkEczzq75aszkR+GmD",
      "include_colab_link": true
    },
    "kernelspec": {
      "name": "python3",
      "display_name": "Python 3"
    },
    "language_info": {
      "name": "python"
    }
  },
  "cells": [
    {
      "cell_type": "markdown",
      "metadata": {
        "id": "view-in-github",
        "colab_type": "text"
      },
      "source": [
        "<a href=\"https://colab.research.google.com/github/NishatTasnim01/Data-Science-Basics/blob/main/1_Python_Basic.ipynb\" target=\"_parent\"><img src=\"https://colab.research.google.com/assets/colab-badge.svg\" alt=\"Open In Colab\"/></a>"
      ]
    },
    {
      "cell_type": "code",
      "execution_count": null,
      "metadata": {
        "colab": {
          "base_uri": "https://localhost:8080/"
        },
        "id": "iU1AjpHowVf2",
        "outputId": "57398c0d-c7f9-42ef-9283-450503231cde"
      },
      "outputs": [
        {
          "output_type": "stream",
          "name": "stdout",
          "text": [
            "Notes of Data Science Course!\n"
          ]
        }
      ],
      "source": [
        "print(\"Notes of Data Science Course!\")"
      ]
    },
    {
      "cell_type": "markdown",
      "source": [
        "## **Comments**"
      ],
      "metadata": {
        "id": "KHu6bu1eIyof"
      }
    },
    {
      "cell_type": "code",
      "source": [
        "#This is a comment.\n",
        "print(\"Day 1 on Python Basics!\")   #So, concentrate on lecture."
      ],
      "metadata": {
        "colab": {
          "base_uri": "https://localhost:8080/"
        },
        "id": "IQSBZaYuw_MH",
        "outputId": "61b7ec07-dc06-4f61-fdd5-ffe368863c8b"
      },
      "execution_count": null,
      "outputs": [
        {
          "output_type": "stream",
          "name": "stdout",
          "text": [
            "Day 1 on Python Basics!\n"
          ]
        }
      ]
    },
    {
      "cell_type": "code",
      "source": [
        "#print(\"Cats are learning Python!\")\n",
        "print(\"Learn about the basics of Python from w3school!\")"
      ],
      "metadata": {
        "colab": {
          "base_uri": "https://localhost:8080/"
        },
        "id": "5UdCCJqExulF",
        "outputId": "2700d273-6682-4374-a6fa-4348b11b0225"
      },
      "execution_count": null,
      "outputs": [
        {
          "output_type": "stream",
          "name": "stdout",
          "text": [
            "Learn about the basics of Python from w3school!\n"
          ]
        }
      ]
    },
    {
      "cell_type": "code",
      "source": [
        "#This is a comment\n",
        "#written in\n",
        "#more than just one line\n",
        "print(\"Overview Python lecture on our own effort to learn more!\")"
      ],
      "metadata": {
        "colab": {
          "base_uri": "https://localhost:8080/"
        },
        "id": "ifeyUp3pyOwo",
        "outputId": "7156fc61-4166-464f-81e6-3b2353bbeaf6"
      },
      "execution_count": null,
      "outputs": [
        {
          "output_type": "stream",
          "name": "stdout",
          "text": [
            "Overview Python lecture on our own effort to learn more!\n"
          ]
        }
      ]
    },
    {
      "cell_type": "code",
      "source": [
        "\"\"\"\n",
        "This is a comment\n",
        "written in\n",
        "more than just one line\n",
        "\"\"\"\n",
        "print(\"Python is a major basic to learn ML and DL!\")"
      ],
      "metadata": {
        "colab": {
          "base_uri": "https://localhost:8080/"
        },
        "id": "TiDiRhfWyqUc",
        "outputId": "d0e851c0-fdc7-4908-b188-66f7c9a91d19"
      },
      "execution_count": null,
      "outputs": [
        {
          "output_type": "stream",
          "name": "stdout",
          "text": [
            "Python is a major basic to learn ML and DL!\n"
          ]
        }
      ]
    },
    {
      "cell_type": "markdown",
      "source": [
        "# **Variables**"
      ],
      "metadata": {
        "id": "VIdjBRgSJCC9"
      }
    },
    {
      "cell_type": "code",
      "source": [
        "x = 23\n",
        "y = \"Nishat\"\n",
        "print(x)\n",
        "print(y)"
      ],
      "metadata": {
        "colab": {
          "base_uri": "https://localhost:8080/"
        },
        "id": "A2Y7cMSjzfHU",
        "outputId": "02b879b2-dd1c-4470-8786-7eb28f040a22"
      },
      "execution_count": null,
      "outputs": [
        {
          "output_type": "stream",
          "name": "stdout",
          "text": [
            "23\n",
            "Nishat\n"
          ]
        }
      ]
    },
    {
      "cell_type": "code",
      "source": [
        "x = 4       # x is of type int\n",
        "x = \"Tasnim\" # x is now of type str\n",
        "print(x)"
      ],
      "metadata": {
        "colab": {
          "base_uri": "https://localhost:8080/"
        },
        "id": "fzW56NK9znfs",
        "outputId": "17d27679-3e88-404e-a04b-3271ded17429"
      },
      "execution_count": null,
      "outputs": [
        {
          "output_type": "stream",
          "name": "stdout",
          "text": [
            "Tasnim\n"
          ]
        }
      ]
    },
    {
      "cell_type": "markdown",
      "source": [
        "## **Casting**"
      ],
      "metadata": {
        "id": "4caqLf-RJLem"
      }
    },
    {
      "cell_type": "code",
      "source": [
        "x = str(3)    # x will be '3'\n",
        "y = int(3)    # y will be 3\n",
        "z = float(3)  # z will be 3.0"
      ],
      "metadata": {
        "id": "FaYASlOFzrhb"
      },
      "execution_count": null,
      "outputs": []
    },
    {
      "cell_type": "markdown",
      "source": [
        "## **Get the Type**"
      ],
      "metadata": {
        "id": "UYsi2YBIJaB8"
      }
    },
    {
      "cell_type": "code",
      "source": [
        "x = 23\n",
        "y = \"Nishat\"\n",
        "print(type(x))\n",
        "print(type(y))"
      ],
      "metadata": {
        "colab": {
          "base_uri": "https://localhost:8080/"
        },
        "id": "PMc9b3bhzyW7",
        "outputId": "fa026142-b940-446c-a0b8-8c00b0244f21"
      },
      "execution_count": null,
      "outputs": [
        {
          "output_type": "stream",
          "name": "stdout",
          "text": [
            "<class 'int'>\n",
            "<class 'str'>\n"
          ]
        }
      ]
    },
    {
      "cell_type": "markdown",
      "source": [
        "## **Single or Double Quotes?**"
      ],
      "metadata": {
        "id": "5ZprTImMJd13"
      }
    },
    {
      "cell_type": "code",
      "source": [
        "x = \"Nishat\"\n",
        "# is the same as\n",
        "y = 'Nishat'\n",
        "\n",
        "print(x)\n",
        "print(y)"
      ],
      "metadata": {
        "colab": {
          "base_uri": "https://localhost:8080/"
        },
        "id": "iN1kdPJ0z305",
        "outputId": "a322ee05-252b-4763-e7fa-5940c0673b95"
      },
      "execution_count": null,
      "outputs": [
        {
          "output_type": "stream",
          "name": "stdout",
          "text": [
            "Nishat\n",
            "Nishat\n"
          ]
        }
      ]
    },
    {
      "cell_type": "markdown",
      "source": [
        "## **Case-Sensitive**"
      ],
      "metadata": {
        "id": "Ztq5PX0uJnhA"
      }
    },
    {
      "cell_type": "code",
      "source": [
        "a = 23\n",
        "A = \"Tasnim\"\n",
        "#A will not overwrite a\n",
        "\n",
        "print(a)\n",
        "print(A)"
      ],
      "metadata": {
        "colab": {
          "base_uri": "https://localhost:8080/"
        },
        "id": "RQXJ1CWD0BFu",
        "outputId": "8fab0091-47aa-45ae-913f-a06e2637e3ad"
      },
      "execution_count": null,
      "outputs": [
        {
          "output_type": "stream",
          "name": "stdout",
          "text": [
            "23\n",
            "Tasnim\n"
          ]
        }
      ]
    },
    {
      "cell_type": "markdown",
      "source": [
        "## **Variable Names**"
      ],
      "metadata": {
        "id": "CN6jjCLoJsUY"
      }
    },
    {
      "cell_type": "code",
      "source": [
        "myvar = \"Nishat\"\n",
        "my_var = \"Nishat\"\n",
        "_my_var = \"Nishat\"\n",
        "myVar = \"Nishat\"\n",
        "MYVAR = \"Nishat\"\n",
        "myvar2 = \"Nishat\"\n",
        "\n",
        "print(myvar)\n",
        "print(my_var)\n",
        "print(_my_var)\n",
        "print(myVar)\n",
        "print(MYVAR)"
      ],
      "metadata": {
        "colab": {
          "base_uri": "https://localhost:8080/"
        },
        "id": "DtxNgPda0OHz",
        "outputId": "d8c6f7f8-5fb4-4e9c-8f27-ddcb5ea59f71"
      },
      "execution_count": null,
      "outputs": [
        {
          "output_type": "stream",
          "name": "stdout",
          "text": [
            "Nishat\n",
            "Nishat\n",
            "Nishat\n",
            "Nishat\n",
            "Nishat\n"
          ]
        }
      ]
    },
    {
      "cell_type": "code",
      "source": [
        "2myvar = \"Tasnim\"\n",
        "my-var = \"Tasnim\"\n",
        "my var = \"Tasnim\""
      ],
      "metadata": {
        "colab": {
          "base_uri": "https://localhost:8080/",
          "height": 106
        },
        "id": "RPsQ_dCA0ha7",
        "outputId": "d8b6f20e-19f5-408c-ef80-1eee679181bf"
      },
      "execution_count": null,
      "outputs": [
        {
          "output_type": "error",
          "ename": "SyntaxError",
          "evalue": "invalid decimal literal (<ipython-input-25-e4a6bc5d7989>, line 1)",
          "traceback": [
            "\u001b[0;36m  File \u001b[0;32m\"<ipython-input-25-e4a6bc5d7989>\"\u001b[0;36m, line \u001b[0;32m1\u001b[0m\n\u001b[0;31m    2myvar = \"Tasnim\"\u001b[0m\n\u001b[0m    ^\u001b[0m\n\u001b[0;31mSyntaxError\u001b[0m\u001b[0;31m:\u001b[0m invalid decimal literal\n"
          ]
        }
      ]
    },
    {
      "cell_type": "code",
      "source": [
        "myVariableName = \"Data\"       #Camel Case\n",
        "MyVariableName = \"Science\"    #Pascal Case\n",
        "my_variable_name = \"Course\"   #Snake Case\n",
        "\n",
        "print(myVariableName)\n",
        "print(MyVariableName)\n",
        "print(my_variable_name)"
      ],
      "metadata": {
        "colab": {
          "base_uri": "https://localhost:8080/"
        },
        "id": "aiawhrwL0m0g",
        "outputId": "774a81b2-a83a-4f54-e29c-92a904b8449d"
      },
      "execution_count": null,
      "outputs": [
        {
          "output_type": "stream",
          "name": "stdout",
          "text": [
            "Data\n",
            "Science\n",
            "Course\n"
          ]
        }
      ]
    },
    {
      "cell_type": "markdown",
      "source": [
        "## **Many Values to Multiple Variables**"
      ],
      "metadata": {
        "id": "4MX1KihcKB-l"
      }
    },
    {
      "cell_type": "code",
      "source": [
        "x, y, z = \"Orange\", \"Banana\", \"Cherry\"\n",
        "print(x)\n",
        "print(y)\n",
        "print(z)"
      ],
      "metadata": {
        "colab": {
          "base_uri": "https://localhost:8080/"
        },
        "id": "X_2GvY_b0wte",
        "outputId": "cbe74f08-2c81-4e72-ac42-dcdb6d144162"
      },
      "execution_count": null,
      "outputs": [
        {
          "output_type": "stream",
          "name": "stdout",
          "text": [
            "Orange\n",
            "Banana\n",
            "Cherry\n"
          ]
        }
      ]
    },
    {
      "cell_type": "markdown",
      "source": [
        "## **One Value to Multiple Variables**"
      ],
      "metadata": {
        "id": "lwF2BMfdKQPH"
      }
    },
    {
      "cell_type": "code",
      "source": [
        "x = y = z = \"Watermelon 🍉\"\n",
        "print(x)\n",
        "print(y)\n",
        "print(z)"
      ],
      "metadata": {
        "colab": {
          "base_uri": "https://localhost:8080/"
        },
        "id": "O9ENltJi01sT",
        "outputId": "2d92cce6-ffa9-4a37-eac0-08348cb19842"
      },
      "execution_count": null,
      "outputs": [
        {
          "output_type": "stream",
          "name": "stdout",
          "text": [
            "Watermelon 🍉\n",
            "Watermelon 🍉\n",
            "Watermelon 🍉\n"
          ]
        }
      ]
    },
    {
      "cell_type": "markdown",
      "source": [
        "## **Unpack a Collection**"
      ],
      "metadata": {
        "id": "dNejKNVKKTOS"
      }
    },
    {
      "cell_type": "code",
      "source": [
        "fruits = [\"Apple 🍎\", \"Banana 🍌\", \"Cherry 🍒\"]\n",
        "x, y, z = fruits\n",
        "print(x)\n",
        "print(y)\n",
        "print(z)"
      ],
      "metadata": {
        "colab": {
          "base_uri": "https://localhost:8080/"
        },
        "id": "P-l6NcnP03zY",
        "outputId": "7aec6d5a-2a32-476b-a08a-c9dcbb8267d0"
      },
      "execution_count": null,
      "outputs": [
        {
          "output_type": "stream",
          "name": "stdout",
          "text": [
            "Apple 🍎\n",
            "Banana 🍌\n",
            "Cherry 🍒\n"
          ]
        }
      ]
    },
    {
      "cell_type": "markdown",
      "source": [
        "## **Output Variables**"
      ],
      "metadata": {
        "id": "sZUy29V3KZap"
      }
    },
    {
      "cell_type": "code",
      "source": [
        "x = \"Python is awesome!\"\n",
        "print(x)"
      ],
      "metadata": {
        "colab": {
          "base_uri": "https://localhost:8080/"
        },
        "id": "CufqTjhM1EbV",
        "outputId": "54e7796f-abab-4371-faa0-9c0ad3900c78"
      },
      "execution_count": null,
      "outputs": [
        {
          "output_type": "stream",
          "name": "stdout",
          "text": [
            "Python is awesome!\n"
          ]
        }
      ]
    },
    {
      "cell_type": "code",
      "source": [
        "x = \"Python\"\n",
        "y = \"is\"\n",
        "z = \"awesome!\"\n",
        "print(x, y, z)"
      ],
      "metadata": {
        "colab": {
          "base_uri": "https://localhost:8080/"
        },
        "id": "aiBciq5c1Ynv",
        "outputId": "e02e4d82-151f-41a6-e36f-0f47f0d57704"
      },
      "execution_count": null,
      "outputs": [
        {
          "output_type": "stream",
          "name": "stdout",
          "text": [
            "Python is awesome!\n"
          ]
        }
      ]
    },
    {
      "cell_type": "code",
      "source": [
        "x = \"Python \"\n",
        "y = \"is \"\n",
        "z = \"awesome!\"\n",
        "print(x + y + z)"
      ],
      "metadata": {
        "colab": {
          "base_uri": "https://localhost:8080/"
        },
        "id": "xmGwsKm01bGw",
        "outputId": "f8749f5c-f7eb-4280-b447-4c6c4c033e5b"
      },
      "execution_count": null,
      "outputs": [
        {
          "output_type": "stream",
          "name": "stdout",
          "text": [
            "Python is awesome!\n"
          ]
        }
      ]
    },
    {
      "cell_type": "code",
      "source": [
        "x = 5\n",
        "y = 10\n",
        "print(x + y)"
      ],
      "metadata": {
        "colab": {
          "base_uri": "https://localhost:8080/"
        },
        "id": "dP9KqfhV1en2",
        "outputId": "95f72970-49b8-430d-9d67-338d389db917"
      },
      "execution_count": null,
      "outputs": [
        {
          "output_type": "stream",
          "name": "stdout",
          "text": [
            "15\n"
          ]
        }
      ]
    },
    {
      "cell_type": "code",
      "source": [
        "x = 200\n",
        "y = \"Potato\"\n",
        "print(x + y)"
      ],
      "metadata": {
        "colab": {
          "base_uri": "https://localhost:8080/",
          "height": 176
        },
        "id": "Xf6S0dAe1hT2",
        "outputId": "bfb13ebf-615a-47e6-cf05-d4fb63a84986"
      },
      "execution_count": null,
      "outputs": [
        {
          "output_type": "error",
          "ename": "TypeError",
          "evalue": "unsupported operand type(s) for +: 'int' and 'str'",
          "traceback": [
            "\u001b[0;31m---------------------------------------------------------------------------\u001b[0m",
            "\u001b[0;31mTypeError\u001b[0m                                 Traceback (most recent call last)",
            "\u001b[0;32m<ipython-input-36-2eead4db7550>\u001b[0m in \u001b[0;36m<cell line: 3>\u001b[0;34m()\u001b[0m\n\u001b[1;32m      1\u001b[0m \u001b[0mx\u001b[0m \u001b[0;34m=\u001b[0m \u001b[0;36m230\u001b[0m\u001b[0;34m\u001b[0m\u001b[0;34m\u001b[0m\u001b[0m\n\u001b[1;32m      2\u001b[0m \u001b[0my\u001b[0m \u001b[0;34m=\u001b[0m \u001b[0;34m\"Potato\"\u001b[0m\u001b[0;34m\u001b[0m\u001b[0;34m\u001b[0m\u001b[0m\n\u001b[0;32m----> 3\u001b[0;31m \u001b[0mprint\u001b[0m\u001b[0;34m(\u001b[0m\u001b[0mx\u001b[0m \u001b[0;34m+\u001b[0m \u001b[0my\u001b[0m\u001b[0;34m)\u001b[0m\u001b[0;34m\u001b[0m\u001b[0;34m\u001b[0m\u001b[0m\n\u001b[0m",
            "\u001b[0;31mTypeError\u001b[0m: unsupported operand type(s) for +: 'int' and 'str'"
          ]
        }
      ]
    },
    {
      "cell_type": "code",
      "source": [
        "x = 200\n",
        "y = \"Potato\"\n",
        "print(x, y)"
      ],
      "metadata": {
        "colab": {
          "base_uri": "https://localhost:8080/"
        },
        "id": "LDXJNX6u1jGN",
        "outputId": "2250024a-e490-4a2b-ce65-d644c7d4f696"
      },
      "execution_count": null,
      "outputs": [
        {
          "output_type": "stream",
          "name": "stdout",
          "text": [
            "200 Potato\n"
          ]
        }
      ]
    },
    {
      "cell_type": "markdown",
      "source": [
        "# **Data Types**"
      ],
      "metadata": {
        "id": "Y32gwSsyiX8p"
      }
    },
    {
      "cell_type": "markdown",
      "source": [
        "## **Getting the Data Type**"
      ],
      "metadata": {
        "id": "-7l2ANyBKu0F"
      }
    },
    {
      "cell_type": "code",
      "source": [
        "x = \"Python World\"\n",
        "print(x)\n",
        "print(type(x))\n",
        "\n",
        "x = 5\n",
        "print(x)\n",
        "print(type(x))\n",
        "\n",
        "x = 20.5\n",
        "print(x)\n",
        "print(type(x))\n",
        "\n",
        "x = [\"Apple\", \"Banana\", \"Cherry\"]\n",
        "print(x)\n",
        "print(type(x))\n",
        "\n",
        "x = (\"Apple\", \"Banana\", \"Cherry\")\n",
        "print(x)\n",
        "print(type(x))\n",
        "\n",
        "x = {\"name\" : \"Nishat\", \"age\" : 23}\n",
        "print(x)\n",
        "print(type(x))\n",
        "\n",
        "x = frozenset({\"apple\", \"banana\", \"cherry\"})\n",
        "print(x)\n",
        "print(type(x))\n",
        "\n",
        "x = True\n",
        "print(x)\n",
        "print(type(x))\n",
        "\n",
        "x = b\"Hello\"\n",
        "print(x)\n",
        "print(type(x))\n",
        "\n",
        "x = bytearray(5)\n",
        "print(x)\n",
        "print(type(x))\n",
        "\n",
        "x = memoryview(bytes(5))\n",
        "print(x)\n",
        "print(type(x))\n",
        "\n",
        "x = None\n",
        "print(x)\n",
        "print(type(x))"
      ],
      "metadata": {
        "colab": {
          "base_uri": "https://localhost:8080/"
        },
        "id": "NgzLJcsS113Q",
        "outputId": "2d67ba86-9c2c-4583-8e52-5925fdc6214c"
      },
      "execution_count": null,
      "outputs": [
        {
          "output_type": "stream",
          "name": "stdout",
          "text": [
            "Python World\n",
            "<class 'str'>\n",
            "5\n",
            "<class 'int'>\n",
            "20.5\n",
            "<class 'float'>\n",
            "['Apple', 'Banana', 'Cherry']\n",
            "<class 'list'>\n",
            "('Apple', 'Banana', 'Cherry')\n",
            "<class 'tuple'>\n",
            "{'name': 'Nishat', 'age': 23}\n",
            "<class 'dict'>\n",
            "frozenset({'cherry', 'banana', 'apple'})\n",
            "<class 'frozenset'>\n",
            "True\n",
            "<class 'bool'>\n",
            "b'Hello'\n",
            "<class 'bytes'>\n",
            "bytearray(b'\\x00\\x00\\x00\\x00\\x00')\n",
            "<class 'bytearray'>\n",
            "<memory at 0x7f09f431cd00>\n",
            "<class 'memoryview'>\n",
            "None\n",
            "<class 'NoneType'>\n"
          ]
        }
      ]
    },
    {
      "cell_type": "markdown",
      "source": [
        "## **Setting the Specific Data Type**"
      ],
      "metadata": {
        "id": "-uDeNRwdK6Xr"
      }
    },
    {
      "cell_type": "code",
      "source": [
        "x = str(\"Python World\")\n",
        "print(x)\n",
        "print(type(x))\n",
        "\n",
        "x = int(5)\n",
        "print(x)\n",
        "print(type(x))\n",
        "\n",
        "x = float(20.5)\n",
        "print(x)\n",
        "print(type(x))\n",
        "\n",
        "x = complex(1j)\n",
        "print(x)\n",
        "print(type(x))\n",
        "\n",
        "x = list((\"Apple\", \"Banana\", \"Cherry\"))\n",
        "print(x)\n",
        "print(type(x))\n",
        "\n",
        "x = tuple((\"Apple\", \"Banana\", \"Cherry\"))\n",
        "print(x)\n",
        "print(type(x))\n",
        "\n",
        "x = range(6)\n",
        "print(x)\n",
        "print(type(x))\n",
        "\n",
        "x = dict(name=\"Nishat\", age=23)\n",
        "print(x)\n",
        "print(type(x))\n",
        "\n",
        "x = set((\"Apple\", \"Banana\", \"Cherry\"))\n",
        "print(x)\n",
        "print(type(x))\n",
        "\n",
        "x = frozenset((\"Apple\", \"Banana\", \"Cherry\"))\n",
        "print(x)\n",
        "print(type(x))\n",
        "\n",
        "x = bool(5)\n",
        "print(x)\n",
        "print(type(x))\n",
        "\n",
        "x = bytes(5)\n",
        "print(x)\n",
        "print(type(x))\n",
        "\n",
        "x = bytearray(5)\n",
        "print(x)\n",
        "print(type(x))\n",
        "\n",
        "x = memoryview(bytes(5))\n",
        "print(x)\n",
        "print(type(x))"
      ],
      "metadata": {
        "colab": {
          "base_uri": "https://localhost:8080/"
        },
        "id": "YWglwJXy3kcq",
        "outputId": "6bb2fc9e-8680-449b-91e8-10dbe7dec004"
      },
      "execution_count": null,
      "outputs": [
        {
          "output_type": "stream",
          "name": "stdout",
          "text": [
            "Python World\n",
            "<class 'str'>\n",
            "5\n",
            "<class 'int'>\n",
            "20.5\n",
            "<class 'float'>\n",
            "1j\n",
            "<class 'complex'>\n",
            "['Apple', 'Banana', 'Cherry']\n",
            "<class 'list'>\n",
            "('Apple', 'Banana', 'Cherry')\n",
            "<class 'tuple'>\n",
            "range(0, 6)\n",
            "<class 'range'>\n",
            "{'name': 'Nishat', 'age': 23}\n",
            "<class 'dict'>\n",
            "{'Cherry', 'Apple', 'Banana'}\n",
            "<class 'set'>\n",
            "frozenset({'Cherry', 'Apple', 'Banana'})\n",
            "<class 'frozenset'>\n",
            "True\n",
            "<class 'bool'>\n",
            "b'\\x00\\x00\\x00\\x00\\x00'\n",
            "<class 'bytes'>\n",
            "bytearray(b'\\x00\\x00\\x00\\x00\\x00')\n",
            "<class 'bytearray'>\n",
            "<memory at 0x7f09f431d0c0>\n",
            "<class 'memoryview'>\n"
          ]
        }
      ]
    },
    {
      "cell_type": "markdown",
      "source": [
        "# **Numbers**"
      ],
      "metadata": {
        "id": "ADJVcX5_LGzp"
      }
    },
    {
      "cell_type": "code",
      "source": [
        "x = 1    # int\n",
        "y = 2.8  # float\n",
        "z = 1j   # complex\n",
        "\n",
        "print(type(x))\n",
        "print(type(y))\n",
        "print(type(z))"
      ],
      "metadata": {
        "colab": {
          "base_uri": "https://localhost:8080/"
        },
        "id": "leX_HBXm4Hdf",
        "outputId": "63b6e84a-6428-4877-f772-e8b390846622"
      },
      "execution_count": null,
      "outputs": [
        {
          "output_type": "stream",
          "name": "stdout",
          "text": [
            "<class 'int'>\n",
            "<class 'float'>\n",
            "<class 'complex'>\n"
          ]
        }
      ]
    },
    {
      "cell_type": "code",
      "source": [
        "x = 1\n",
        "y = 35656222554887711\n",
        "z = -3255522\n",
        "\n",
        "print(type(x))\n",
        "print(type(y))\n",
        "print(type(z))"
      ],
      "metadata": {
        "colab": {
          "base_uri": "https://localhost:8080/"
        },
        "id": "wbFxNqXk4QS7",
        "outputId": "92533767-eb1c-40f3-aa6f-b8900bf3a448"
      },
      "execution_count": null,
      "outputs": [
        {
          "output_type": "stream",
          "name": "stdout",
          "text": [
            "<class 'int'>\n",
            "<class 'int'>\n",
            "<class 'int'>\n"
          ]
        }
      ]
    },
    {
      "cell_type": "code",
      "source": [
        "x = 1.10\n",
        "y = 1.0\n",
        "z = -35.59\n",
        "\n",
        "print(type(x))\n",
        "print(type(y))\n",
        "print(type(z))"
      ],
      "metadata": {
        "colab": {
          "base_uri": "https://localhost:8080/"
        },
        "id": "ud02fZY84TIv",
        "outputId": "cb15a89c-0124-4f37-fc7b-002c572a626d"
      },
      "execution_count": null,
      "outputs": [
        {
          "output_type": "stream",
          "name": "stdout",
          "text": [
            "<class 'float'>\n",
            "<class 'float'>\n",
            "<class 'float'>\n"
          ]
        }
      ]
    },
    {
      "cell_type": "code",
      "source": [
        "x = 35e3\n",
        "y = 12E4\n",
        "z = -87.7e100\n",
        "\n",
        "print(type(x))\n",
        "print(type(y))\n",
        "print(type(z))"
      ],
      "metadata": {
        "colab": {
          "base_uri": "https://localhost:8080/"
        },
        "id": "yG_s1K1h4Udg",
        "outputId": "6abd0647-b8fb-47b2-a310-eaf3ae438a2d"
      },
      "execution_count": null,
      "outputs": [
        {
          "output_type": "stream",
          "name": "stdout",
          "text": [
            "<class 'float'>\n",
            "<class 'float'>\n",
            "<class 'float'>\n"
          ]
        }
      ]
    },
    {
      "cell_type": "code",
      "source": [
        "x = 3+5j\n",
        "y = 5j\n",
        "z = -5j\n",
        "\n",
        "print(type(x))\n",
        "print(type(y))\n",
        "print(type(z))"
      ],
      "metadata": {
        "colab": {
          "base_uri": "https://localhost:8080/"
        },
        "id": "Qy7iKgkX4Zkd",
        "outputId": "648bf8f1-afa1-4a7a-d9cb-621e4cf40493"
      },
      "execution_count": null,
      "outputs": [
        {
          "output_type": "stream",
          "name": "stdout",
          "text": [
            "<class 'complex'>\n",
            "<class 'complex'>\n",
            "<class 'complex'>\n"
          ]
        }
      ]
    },
    {
      "cell_type": "code",
      "source": [
        "x = 1    # int\n",
        "y = 2.8  # float\n",
        "z = 1j   # complex\n",
        "\n",
        "#convert from int to float:\n",
        "a = float(x)\n",
        "\n",
        "#convert from float to int:\n",
        "b = int(y)\n",
        "\n",
        "#convert from int to complex:\n",
        "c = complex(x)\n",
        "\n",
        "print(a)\n",
        "print(b)\n",
        "print(c)\n",
        "\n",
        "print(type(a))\n",
        "print(type(b))\n",
        "print(type(c))"
      ],
      "metadata": {
        "colab": {
          "base_uri": "https://localhost:8080/"
        },
        "id": "Dl3dqdAB4dU9",
        "outputId": "8769bfcd-a371-4ba8-c4a8-3131fa65d9f7"
      },
      "execution_count": null,
      "outputs": [
        {
          "output_type": "stream",
          "name": "stdout",
          "text": [
            "1.0\n",
            "2\n",
            "(1+0j)\n",
            "<class 'float'>\n",
            "<class 'int'>\n",
            "<class 'complex'>\n"
          ]
        }
      ]
    },
    {
      "cell_type": "markdown",
      "source": [
        "# **Casting**"
      ],
      "metadata": {
        "id": "liYsXt3jLc1-"
      }
    },
    {
      "cell_type": "code",
      "source": [
        "x = int(1)   # x will be 1\n",
        "y = int(2.8) # y will be 2\n",
        "z = int(\"3\") # z will be 3\n",
        "\n",
        "print(x)\n",
        "print(y)\n",
        "print(z)"
      ],
      "metadata": {
        "colab": {
          "base_uri": "https://localhost:8080/"
        },
        "id": "QzJtqOWr4qqK",
        "outputId": "7aa69574-ea9e-4a6e-e3ac-e7b40446ae49"
      },
      "execution_count": null,
      "outputs": [
        {
          "output_type": "stream",
          "name": "stdout",
          "text": [
            "1\n",
            "2\n",
            "3\n"
          ]
        }
      ]
    },
    {
      "cell_type": "code",
      "source": [
        "x = float(1)     # x will be 1.0\n",
        "y = float(2.8)   # y will be 2.8\n",
        "z = float(\"3\")   # z will be 3.0\n",
        "w = float(\"4.2\") # w will be 4.2\n",
        "\n",
        "print(x)\n",
        "print(y)\n",
        "print(z)\n",
        "print(w)"
      ],
      "metadata": {
        "colab": {
          "base_uri": "https://localhost:8080/"
        },
        "id": "BE7x_dAu41f-",
        "outputId": "69e8f96f-9bc7-465d-9581-95a4cc858c44"
      },
      "execution_count": null,
      "outputs": [
        {
          "output_type": "stream",
          "name": "stdout",
          "text": [
            "1.0\n",
            "2.8\n",
            "3.0\n",
            "4.2\n"
          ]
        }
      ]
    },
    {
      "cell_type": "code",
      "source": [
        "x = str(\"s1\") # x will be 's1'\n",
        "y = str(2)    # y will be '2'\n",
        "z = str(3.0)  # z will be '3.0'\n",
        "\n",
        "print(x)\n",
        "print(y)\n",
        "print(z)"
      ],
      "metadata": {
        "colab": {
          "base_uri": "https://localhost:8080/"
        },
        "id": "7vyUkeMX45oZ",
        "outputId": "cbf0481d-9364-4a40-9c44-7d46ae509d36"
      },
      "execution_count": null,
      "outputs": [
        {
          "output_type": "stream",
          "name": "stdout",
          "text": [
            "s1\n",
            "2\n",
            "3.0\n"
          ]
        }
      ]
    },
    {
      "cell_type": "markdown",
      "source": [
        "# **Strings**"
      ],
      "metadata": {
        "id": "dUFyKl5dLitW"
      }
    },
    {
      "cell_type": "code",
      "source": [
        "print(\"Meow 🙀\")\n",
        "print('Meow 🙀')"
      ],
      "metadata": {
        "colab": {
          "base_uri": "https://localhost:8080/"
        },
        "id": "66sgO4wd5Sbd",
        "outputId": "20ebf162-64bf-49dc-a412-141b2d598f4e"
      },
      "execution_count": null,
      "outputs": [
        {
          "output_type": "stream",
          "name": "stdout",
          "text": [
            "Meow 🙀\n",
            "Meow 🙀\n"
          ]
        }
      ]
    },
    {
      "cell_type": "code",
      "source": [
        "print(\"It's alright\")\n",
        "print(\"I am a 'Mad'\")\n",
        "print('I am a \"Mad\"')"
      ],
      "metadata": {
        "colab": {
          "base_uri": "https://localhost:8080/"
        },
        "id": "1wMas1D15uyn",
        "outputId": "385af3e2-4801-4e1a-9615-fca285bb325f"
      },
      "execution_count": null,
      "outputs": [
        {
          "output_type": "stream",
          "name": "stdout",
          "text": [
            "It's alright\n",
            "I am a 'Mad'\n",
            "I am a \"Mad\"\n"
          ]
        }
      ]
    },
    {
      "cell_type": "code",
      "source": [
        "a = \"Default Words\"\n",
        "print(a)\n",
        "\n",
        "a = \"\"\"Lorem ipsum dolor sit amet,\n",
        "consectetur adipiscing elit,\n",
        "sed do eiusmod tempor incididunt\n",
        "ut labore et dolore magna aliqua.\"\"\"\n",
        "print(a)\n",
        "\n",
        "a = '''Lorem ipsum dolor sit amet,\n",
        "consectetur adipiscing elit,\n",
        "sed do eiusmod tempor incididunt\n",
        "ut labore et dolore magna aliqua.'''\n",
        "print(a)"
      ],
      "metadata": {
        "colab": {
          "base_uri": "https://localhost:8080/"
        },
        "id": "di8kjypw5-Jq",
        "outputId": "dfdbcd39-7ac3-4425-b107-d5b215de7b14"
      },
      "execution_count": null,
      "outputs": [
        {
          "output_type": "stream",
          "name": "stdout",
          "text": [
            "Default Words\n",
            "Lorem ipsum dolor sit amet,\n",
            "consectetur adipiscing elit,\n",
            "sed do eiusmod tempor incididunt\n",
            "ut labore et dolore magna aliqua.\n",
            "Lorem ipsum dolor sit amet,\n",
            "consectetur adipiscing elit,\n",
            "sed do eiusmod tempor incididunt\n",
            "ut labore et dolore magna aliqua.\n"
          ]
        }
      ]
    },
    {
      "cell_type": "code",
      "source": [
        "a = \"Nishat, the, Tasnim!\"\n",
        "print(a[1])"
      ],
      "metadata": {
        "colab": {
          "base_uri": "https://localhost:8080/"
        },
        "id": "tLhd5WbI7EqU",
        "outputId": "9c8f2687-82b1-4e79-dabb-357b17f5b167"
      },
      "execution_count": null,
      "outputs": [
        {
          "output_type": "stream",
          "name": "stdout",
          "text": [
            "i\n"
          ]
        }
      ]
    },
    {
      "cell_type": "code",
      "source": [
        "for x in \"banana\":\n",
        "  print(x)"
      ],
      "metadata": {
        "colab": {
          "base_uri": "https://localhost:8080/"
        },
        "id": "u-PzzUvG7NsB",
        "outputId": "20500886-1006-496b-9e7c-2567f25f44f0"
      },
      "execution_count": null,
      "outputs": [
        {
          "output_type": "stream",
          "name": "stdout",
          "text": [
            "b\n",
            "a\n",
            "n\n",
            "a\n",
            "n\n",
            "a\n"
          ]
        }
      ]
    },
    {
      "cell_type": "code",
      "source": [
        "a = \"Persian\"\n",
        "print(len(a))"
      ],
      "metadata": {
        "colab": {
          "base_uri": "https://localhost:8080/"
        },
        "id": "6IJPMlSe7Z3r",
        "outputId": "f94b31d1-ba6e-41dd-ad8c-99cb301b193c"
      },
      "execution_count": null,
      "outputs": [
        {
          "output_type": "stream",
          "name": "stdout",
          "text": [
            "7\n"
          ]
        }
      ]
    },
    {
      "cell_type": "code",
      "source": [
        "a = \"Cat\"\n",
        "print(len(a))"
      ],
      "metadata": {
        "colab": {
          "base_uri": "https://localhost:8080/"
        },
        "id": "XIXRNHNo7nzM",
        "outputId": "c6c7794b-963f-4342-80b5-851e41c6e2b9"
      },
      "execution_count": null,
      "outputs": [
        {
          "output_type": "stream",
          "name": "stdout",
          "text": [
            "3\n"
          ]
        }
      ]
    },
    {
      "cell_type": "code",
      "source": [
        "a = \"Persian Cat\"\n",
        "print(len(a))  #counts space also"
      ],
      "metadata": {
        "colab": {
          "base_uri": "https://localhost:8080/"
        },
        "id": "G8bl54HE7wvj",
        "outputId": "b324210c-9bbb-4278-f3d5-88ea744d23a7"
      },
      "execution_count": null,
      "outputs": [
        {
          "output_type": "stream",
          "name": "stdout",
          "text": [
            "11\n"
          ]
        }
      ]
    },
    {
      "cell_type": "code",
      "source": [
        "txt = \"The best things in life are free!\"\n",
        "print(\"free\" in txt)"
      ],
      "metadata": {
        "colab": {
          "base_uri": "https://localhost:8080/"
        },
        "id": "PSCslcqs72ME",
        "outputId": "5d12883d-2e6e-4d10-c799-6060bb2ebc69"
      },
      "execution_count": null,
      "outputs": [
        {
          "output_type": "stream",
          "name": "stdout",
          "text": [
            "True\n"
          ]
        }
      ]
    },
    {
      "cell_type": "code",
      "source": [
        "txt = \"The best things in life are free!\"\n",
        "if \"free\" in txt:\n",
        "  print(\"Yes, 'free' is present.\")"
      ],
      "metadata": {
        "colab": {
          "base_uri": "https://localhost:8080/"
        },
        "id": "5ImwxA5z75tP",
        "outputId": "7c523068-ca14-4d70-d9cf-22cb8d4faabb"
      },
      "execution_count": null,
      "outputs": [
        {
          "output_type": "stream",
          "name": "stdout",
          "text": [
            "Yes, 'free' is present.\n"
          ]
        }
      ]
    },
    {
      "cell_type": "code",
      "source": [
        "txt = \"The best things in life are free!\"\n",
        "print(\"expensive\" not in txt)"
      ],
      "metadata": {
        "colab": {
          "base_uri": "https://localhost:8080/"
        },
        "id": "BwWSZHwL79kF",
        "outputId": "2b99e9fa-3eae-4706-d77e-cc5d8b62735b"
      },
      "execution_count": null,
      "outputs": [
        {
          "output_type": "stream",
          "name": "stdout",
          "text": [
            "True\n"
          ]
        }
      ]
    },
    {
      "cell_type": "code",
      "source": [
        "txt = \"The best things in life are free!\"\n",
        "if \"expensive\" not in txt:\n",
        "  print(\"No, 'expensive' is NOT present.\")"
      ],
      "metadata": {
        "colab": {
          "base_uri": "https://localhost:8080/"
        },
        "id": "oaw9CokP7-nW",
        "outputId": "10484d00-10de-49cf-eb36-949e2933022d"
      },
      "execution_count": null,
      "outputs": [
        {
          "output_type": "stream",
          "name": "stdout",
          "text": [
            "No, 'expensive' is NOT present.\n"
          ]
        }
      ]
    },
    {
      "cell_type": "markdown",
      "source": [
        "## **Slicing Strings**"
      ],
      "metadata": {
        "id": "Ev0Q9yw8L9wR"
      }
    },
    {
      "cell_type": "code",
      "source": [
        "b = \"Hello, World!\"\n",
        "print(b[2:5])"
      ],
      "metadata": {
        "colab": {
          "base_uri": "https://localhost:8080/"
        },
        "id": "QDW-Npv18Bmj",
        "outputId": "4258f55a-9856-481a-9c6a-75d91e26078c"
      },
      "execution_count": null,
      "outputs": [
        {
          "output_type": "stream",
          "name": "stdout",
          "text": [
            "llo\n"
          ]
        }
      ]
    },
    {
      "cell_type": "code",
      "source": [
        "b = \"Hello, World!\"\n",
        "print(b[:5])"
      ],
      "metadata": {
        "colab": {
          "base_uri": "https://localhost:8080/"
        },
        "id": "-KYj6Oa68G1_",
        "outputId": "5a56c958-acc4-4190-fa42-618928936a35"
      },
      "execution_count": null,
      "outputs": [
        {
          "output_type": "stream",
          "name": "stdout",
          "text": [
            "Hello\n"
          ]
        }
      ]
    },
    {
      "cell_type": "code",
      "source": [
        "b = \"Hello, World!\"\n",
        "print(b[2:])"
      ],
      "metadata": {
        "colab": {
          "base_uri": "https://localhost:8080/"
        },
        "id": "ctq5Z_lk8Lce",
        "outputId": "8d34859a-3c4c-4e2f-b447-2b8998963c4a"
      },
      "execution_count": null,
      "outputs": [
        {
          "output_type": "stream",
          "name": "stdout",
          "text": [
            "llo, World!\n"
          ]
        }
      ]
    },
    {
      "cell_type": "code",
      "source": [
        "b = \"Hello, World!\"\n",
        "print(b[-5:-2])"
      ],
      "metadata": {
        "colab": {
          "base_uri": "https://localhost:8080/"
        },
        "id": "invJf0wZ8Ngo",
        "outputId": "ff8479cf-de53-4cc1-d0d3-7b1b0e3354f6"
      },
      "execution_count": null,
      "outputs": [
        {
          "output_type": "stream",
          "name": "stdout",
          "text": [
            "orl\n"
          ]
        }
      ]
    },
    {
      "cell_type": "markdown",
      "source": [
        "## **Modify Strings**"
      ],
      "metadata": {
        "id": "kCaT0F9SMExB"
      }
    },
    {
      "cell_type": "code",
      "source": [
        "a = \"Hello, World!\"\n",
        "print(a.upper())\n",
        "\n",
        "a = \"Hello, World!\"\n",
        "print(a.lower())\n",
        "\n",
        "a = \" Hello, World! \"\n",
        "print(a.strip()) # returns \"Hello, World!\"\n",
        "\n",
        "a = \"Hello, World!\"\n",
        "print(a.replace(\"H\", \"J\"))\n",
        "\n",
        "a = \"Hello, World!\"\n",
        "print(a.split(\",\")) # returns ['Hello', ' World!']"
      ],
      "metadata": {
        "colab": {
          "base_uri": "https://localhost:8080/"
        },
        "id": "J3eooTGk8S2_",
        "outputId": "2f62cd84-7527-48b4-820f-794c40b4d06b"
      },
      "execution_count": null,
      "outputs": [
        {
          "output_type": "stream",
          "name": "stdout",
          "text": [
            "HELLO, WORLD!\n",
            "hello, world!\n",
            "Hello, World!\n",
            "Jello, World!\n",
            "['Hello', ' World!']\n"
          ]
        }
      ]
    },
    {
      "cell_type": "markdown",
      "source": [
        "## **String Concatenation**"
      ],
      "metadata": {
        "id": "oSt6nKjaMaH3"
      }
    },
    {
      "cell_type": "code",
      "source": [
        "a = \"Hello\"\n",
        "b = \"World\"\n",
        "c = a + b\n",
        "print(c)"
      ],
      "metadata": {
        "colab": {
          "base_uri": "https://localhost:8080/"
        },
        "id": "lE2wigXl8mxN",
        "outputId": "d3530a59-25d0-444e-e75d-17134957512f"
      },
      "execution_count": null,
      "outputs": [
        {
          "output_type": "stream",
          "name": "stdout",
          "text": [
            "HelloWorld\n"
          ]
        }
      ]
    },
    {
      "cell_type": "code",
      "source": [
        "a = \"Hello\"\n",
        "b = \"World\"\n",
        "c = a + \" \" + b\n",
        "print(c)"
      ],
      "metadata": {
        "colab": {
          "base_uri": "https://localhost:8080/"
        },
        "id": "IHdpqFgo9enf",
        "outputId": "20591d4c-b582-4e82-b1d9-292bb60aaa8a"
      },
      "execution_count": null,
      "outputs": [
        {
          "output_type": "stream",
          "name": "stdout",
          "text": [
            "Hello World\n"
          ]
        }
      ]
    },
    {
      "cell_type": "markdown",
      "source": [
        "## **String Format**"
      ],
      "metadata": {
        "id": "qvbjiY3VM1Qi"
      }
    },
    {
      "cell_type": "code",
      "source": [
        "age = 23\n",
        "txt = \"My name is Nishat, I am \" + age\n",
        "print(txt)"
      ],
      "metadata": {
        "colab": {
          "base_uri": "https://localhost:8080/",
          "height": 176
        },
        "id": "J8PkbmR19kMw",
        "outputId": "e8721432-8651-4882-d9be-e621cbd8db6f"
      },
      "execution_count": null,
      "outputs": [
        {
          "output_type": "error",
          "ename": "TypeError",
          "evalue": "can only concatenate str (not \"int\") to str",
          "traceback": [
            "\u001b[0;31m---------------------------------------------------------------------------\u001b[0m",
            "\u001b[0;31mTypeError\u001b[0m                                 Traceback (most recent call last)",
            "\u001b[0;32m<ipython-input-83-e9d4c642ca5a>\u001b[0m in \u001b[0;36m<cell line: 2>\u001b[0;34m()\u001b[0m\n\u001b[1;32m      1\u001b[0m \u001b[0mage\u001b[0m \u001b[0;34m=\u001b[0m \u001b[0;36m23\u001b[0m\u001b[0;34m\u001b[0m\u001b[0;34m\u001b[0m\u001b[0m\n\u001b[0;32m----> 2\u001b[0;31m \u001b[0mtxt\u001b[0m \u001b[0;34m=\u001b[0m \u001b[0;34m\"My name is Nishat, I am \"\u001b[0m \u001b[0;34m+\u001b[0m \u001b[0mage\u001b[0m\u001b[0;34m\u001b[0m\u001b[0;34m\u001b[0m\u001b[0m\n\u001b[0m\u001b[1;32m      3\u001b[0m \u001b[0mprint\u001b[0m\u001b[0;34m(\u001b[0m\u001b[0mtxt\u001b[0m\u001b[0;34m)\u001b[0m\u001b[0;34m\u001b[0m\u001b[0;34m\u001b[0m\u001b[0m\n",
            "\u001b[0;31mTypeError\u001b[0m: can only concatenate str (not \"int\") to str"
          ]
        }
      ]
    },
    {
      "cell_type": "code",
      "source": [
        "age = 23\n",
        "txt = f\"My name is Nishat, I am {age}\"\n",
        "print(txt)"
      ],
      "metadata": {
        "id": "P94Dwpdv9nO4",
        "outputId": "8d0ea5dc-bb37-4038-b0a2-6032668f1310",
        "colab": {
          "base_uri": "https://localhost:8080/"
        }
      },
      "execution_count": null,
      "outputs": [
        {
          "output_type": "stream",
          "name": "stdout",
          "text": [
            "My name is Nishat, I am 23\n"
          ]
        }
      ]
    },
    {
      "cell_type": "code",
      "source": [
        "price = 59\n",
        "txt = f\"The price is {price} dollars\"\n",
        "print(txt)"
      ],
      "metadata": {
        "id": "4u53JZ9X9q1x",
        "outputId": "a48c6cae-c9b2-4d79-8786-aa50a9394f8d",
        "colab": {
          "base_uri": "https://localhost:8080/"
        }
      },
      "execution_count": null,
      "outputs": [
        {
          "output_type": "stream",
          "name": "stdout",
          "text": [
            "The price is 59 dollars\n"
          ]
        }
      ]
    },
    {
      "cell_type": "code",
      "source": [
        "price = 59\n",
        "txt = f\"The price is {price:.2f} dollars\"\n",
        "print(txt)"
      ],
      "metadata": {
        "id": "E6kHqNCE9std",
        "colab": {
          "base_uri": "https://localhost:8080/"
        },
        "outputId": "6d528a30-b4eb-4af6-fda9-c86ad6d2c8c9"
      },
      "execution_count": null,
      "outputs": [
        {
          "output_type": "stream",
          "name": "stdout",
          "text": [
            "The price is 59.00 dollars\n"
          ]
        }
      ]
    },
    {
      "cell_type": "code",
      "source": [
        "txt = f\"The price is {20 * 59} dollars\"\n",
        "print(txt)"
      ],
      "metadata": {
        "colab": {
          "base_uri": "https://localhost:8080/"
        },
        "id": "2aw9xPDF-LpO",
        "outputId": "a47fd052-6785-4aa3-967b-7c7deaee2193"
      },
      "execution_count": null,
      "outputs": [
        {
          "output_type": "stream",
          "name": "stdout",
          "text": [
            "The price is 1180 dollars\n"
          ]
        }
      ]
    },
    {
      "cell_type": "markdown",
      "source": [
        "## **Escape Character**"
      ],
      "metadata": {
        "id": "_7h5T3AvNAL6"
      }
    },
    {
      "cell_type": "code",
      "source": [
        "txt = \"We are the so-called \"Vikings\" from the north.\""
      ],
      "metadata": {
        "colab": {
          "base_uri": "https://localhost:8080/",
          "height": 106
        },
        "id": "sqI7kTtF-Nog",
        "outputId": "b6ab0004-5dc8-4c9e-a268-07b5691097bc"
      },
      "execution_count": null,
      "outputs": [
        {
          "output_type": "error",
          "ename": "SyntaxError",
          "evalue": "invalid syntax (<ipython-input-88-56cdf4283a8e>, line 1)",
          "traceback": [
            "\u001b[0;36m  File \u001b[0;32m\"<ipython-input-88-56cdf4283a8e>\"\u001b[0;36m, line \u001b[0;32m1\u001b[0m\n\u001b[0;31m    txt = \"We are the so-called \"Vikings\" from the north.\"\u001b[0m\n\u001b[0m                                 ^\u001b[0m\n\u001b[0;31mSyntaxError\u001b[0m\u001b[0;31m:\u001b[0m invalid syntax\n"
          ]
        }
      ]
    },
    {
      "cell_type": "code",
      "source": [
        "txt = \"We are the so-called \\\"Vikings\\\" from the north.\""
      ],
      "metadata": {
        "id": "uXEyh0VZ-T0X"
      },
      "execution_count": null,
      "outputs": []
    },
    {
      "cell_type": "code",
      "source": [
        "txt = 'It\\'s alright.'\n",
        "print(txt)\n",
        "\n",
        "txt = \"This will insert one \\\\ (backslash).\"\n",
        "print(txt)\n",
        "\n",
        "txt = \"Hello\\nWorld!\"\n",
        "print(txt)\n",
        "\n",
        "txt = \"Hello\\rWorld!\"\n",
        "print(txt)\n",
        "\n",
        "txt = \"Hello\\tWorld!\"\n",
        "print(txt)\n",
        "\n",
        "txt = \"Hello \\bWorld!\"\n",
        "print(txt)\n",
        "\n",
        "txt = \"\\110\\145\\154\\154\\157\"\n",
        "print(txt)\n",
        "\n",
        "txt = \"\\x48\\x65\\x6c\\x6c\\x6f\"\n",
        "print(txt)"
      ],
      "metadata": {
        "colab": {
          "base_uri": "https://localhost:8080/"
        },
        "id": "MRuasYI4-W4B",
        "outputId": "9049b8a4-ae37-4a61-de23-9a271a9fe999"
      },
      "execution_count": null,
      "outputs": [
        {
          "output_type": "stream",
          "name": "stdout",
          "text": [
            "It's alright.\n",
            "This will insert one \\ (backslash).\n",
            "Hello\n",
            "World!\n",
            "Hello\rWorld!\n",
            "Hello\tWorld!\n",
            "Hello \bWorld!\n",
            "Hello\n",
            "Hello\n"
          ]
        }
      ]
    },
    {
      "cell_type": "markdown",
      "source": [
        "## **String Methods**"
      ],
      "metadata": {
        "id": "eUMcr1gUNFSJ"
      }
    },
    {
      "cell_type": "code",
      "source": [
        "# capitalize()\n",
        "s = \"hello world\"\n",
        "print(s.capitalize())\n",
        "\n",
        "# casefold()\n",
        "s = \"HELLO\"\n",
        "print(s.casefold())\n",
        "\n",
        "# center()\n",
        "s = \"hello\"\n",
        "print(s.center(10))\n",
        "\n",
        "# count()\n",
        "s = \"hello world\"\n",
        "print(s.count('l'))\n",
        "\n",
        "# encode()\n",
        "s = \"hello\"\n",
        "print(s.encode())\n",
        "\n",
        "# endswith()\n",
        "s = \"hello world\"\n",
        "print(s.endswith(\"world\"))\n",
        "\n",
        "# expandtabs()\n",
        "s = \"Hello\\tWorld\"\n",
        "print(s.expandtabs(4))\n",
        "\n",
        "# find()\n",
        "s = \"hello world\"\n",
        "print(s.find('world'))\n",
        "\n",
        "# format()\n",
        "s = \"Hello {}\"\n",
        "print(s.format(\"World\"))\n",
        "\n",
        "# format_map()\n",
        "data = {'name': 'Alice'}\n",
        "s = \"Hello {name}\"\n",
        "print(s.format_map(data))\n",
        "\n",
        "# index()\n",
        "s = \"hello world\"\n",
        "print(s.index('world'))\n",
        "\n",
        "# isalnum()\n",
        "s = \"Hello123\"\n",
        "print(s.isalnum())\n",
        "\n",
        "# isalpha()\n",
        "s = \"Hello\"\n",
        "print(s.isalpha())\n",
        "\n",
        "# isascii()\n",
        "s = \"Hello\"\n",
        "print(s.isascii())\n",
        "\n",
        "# isdecimal()\n",
        "s = \"12345\"\n",
        "print(s.isdecimal())\n",
        "\n",
        "# isdigit()\n",
        "s = \"12345\"\n",
        "print(s.isdigit())\n",
        "\n",
        "# isidentifier()\n",
        "s = \"var_1\"\n",
        "print(s.isidentifier())\n",
        "\n",
        "# islower()\n",
        "s = \"hello\"\n",
        "print(s.islower())\n",
        "\n",
        "# isnumeric()\n",
        "s = \"12345\"\n",
        "print(s.isnumeric())\n",
        "\n",
        "# isprintable()\n",
        "s = \"Hello\\nWorld\"\n",
        "print(s.isprintable())\n",
        "\n",
        "# isspace()\n",
        "s = \"   \"\n",
        "print(s.isspace())\n",
        "\n",
        "# istitle()\n",
        "s = \"Hello World\"\n",
        "print(s.istitle())\n",
        "\n",
        "# isupper()\n",
        "s = \"HELLO\"\n",
        "print(s.isupper())\n",
        "\n",
        "# join()\n",
        "s = \"-\"\n",
        "print(s.join(['a', 'b', 'c']))\n",
        "\n",
        "# ljust()\n",
        "s = \"hello\"\n",
        "print(s.ljust(10))\n",
        "\n",
        "# lower()\n",
        "s = \"HELLO\"\n",
        "print(s.lower())\n",
        "\n",
        "# lstrip()\n",
        "s = \"   hello\"\n",
        "print(s.lstrip())\n",
        "\n",
        "# maketrans() & translate()\n",
        "s = \"hello\"\n",
        "table = s.maketrans('h', 'y')\n",
        "print(s.translate(table))\n",
        "\n",
        "# partition()\n",
        "s = \"hello world\"\n",
        "print(s.partition(' '))\n",
        "\n",
        "# replace()\n",
        "s = \"hello world\"\n",
        "print(s.replace(\"world\", \"there\"))\n",
        "\n",
        "# rfind()\n",
        "s = \"hello hello\"\n",
        "print(s.rfind('hello'))\n",
        "\n",
        "# rindex()\n",
        "s = \"hello hello\"\n",
        "print(s.rindex('hello'))\n",
        "\n",
        "# rjust()\n",
        "s = \"hello\"\n",
        "print(s.rjust(10))\n",
        "\n",
        "# rpartition()\n",
        "s = \"hello world\"\n",
        "print(s.rpartition(' '))\n",
        "\n",
        "# rsplit()\n",
        "s = \"a,b,c\"\n",
        "print(s.rsplit(','))\n",
        "\n",
        "# rstrip()\n",
        "s = \"hello   \"\n",
        "print(s.rstrip())\n",
        "\n",
        "# split()\n",
        "s = \"a,b,c\"\n",
        "print(s.split(','))\n",
        "\n",
        "# splitlines()\n",
        "s = \"hello\\nworld\"\n",
        "print(s.splitlines())\n",
        "\n",
        "# startswith()\n",
        "s = \"hello world\"\n",
        "print(s.startswith(\"hello\"))\n",
        "\n",
        "# strip()\n",
        "s = \"   hello   \"\n",
        "print(s.strip())\n",
        "\n",
        "# swapcase()\n",
        "s = \"Hello World\"\n",
        "print(s.swapcase())\n",
        "\n",
        "# title()\n",
        "s = \"hello world\"\n",
        "print(s.title())\n",
        "\n",
        "# upper()\n",
        "s = \"hello\"\n",
        "print(s.upper())\n",
        "\n",
        "# zfill()\n",
        "s = \"42\"\n",
        "print(s.zfill(5))"
      ],
      "metadata": {
        "colab": {
          "base_uri": "https://localhost:8080/"
        },
        "id": "IDKp6eIq-ul5",
        "outputId": "56e18242-6a97-4dfe-9be5-b59600dad0ff"
      },
      "execution_count": null,
      "outputs": [
        {
          "output_type": "stream",
          "name": "stdout",
          "text": [
            "Hello world\n",
            "hello\n",
            "  hello   \n",
            "3\n",
            "b'hello'\n",
            "True\n",
            "Hello   World\n",
            "6\n",
            "Hello World\n",
            "Hello Alice\n",
            "6\n",
            "True\n",
            "True\n",
            "True\n",
            "True\n",
            "True\n",
            "True\n",
            "True\n",
            "True\n",
            "False\n",
            "True\n",
            "True\n",
            "True\n",
            "a-b-c\n",
            "hello     \n",
            "hello\n",
            "hello\n",
            "yello\n",
            "('hello', ' ', 'world')\n",
            "hello there\n",
            "6\n",
            "6\n",
            "     hello\n",
            "('hello', ' ', 'world')\n",
            "['a', 'b', 'c']\n",
            "hello\n",
            "['a', 'b', 'c']\n",
            "['hello', 'world']\n",
            "True\n",
            "hello\n",
            "hELLO wORLD\n",
            "Hello World\n",
            "HELLO\n",
            "00042\n"
          ]
        }
      ]
    },
    {
      "cell_type": "markdown",
      "source": [
        "# **Booleans**"
      ],
      "metadata": {
        "id": "geTY1reaNNTc"
      }
    },
    {
      "cell_type": "code",
      "source": [
        "print(10 > 9)\n",
        "print(10 == 9)\n",
        "print(10 < 9)"
      ],
      "metadata": {
        "colab": {
          "base_uri": "https://localhost:8080/"
        },
        "id": "QnLMIfw7AHjQ",
        "outputId": "67397142-3e0a-4b34-f3d2-7981ce313977"
      },
      "execution_count": null,
      "outputs": [
        {
          "output_type": "stream",
          "name": "stdout",
          "text": [
            "True\n",
            "False\n",
            "False\n"
          ]
        }
      ]
    },
    {
      "cell_type": "code",
      "source": [
        "a = 200\n",
        "b = 33\n",
        "\n",
        "if b > a:\n",
        "  print(\"b is greater than a\")\n",
        "else:\n",
        "  print(\"b is not greater than a\")"
      ],
      "metadata": {
        "colab": {
          "base_uri": "https://localhost:8080/"
        },
        "id": "eioYZDH9C8a3",
        "outputId": "3d09d34e-bba3-4117-81c0-7d148608667e"
      },
      "execution_count": null,
      "outputs": [
        {
          "output_type": "stream",
          "name": "stdout",
          "text": [
            "b is not greater than a\n"
          ]
        }
      ]
    },
    {
      "cell_type": "code",
      "source": [
        "print(bool(\"Hello\"))\n",
        "print(bool(15))"
      ],
      "metadata": {
        "colab": {
          "base_uri": "https://localhost:8080/"
        },
        "id": "vy0JtPRqDb-1",
        "outputId": "2863a570-a8c6-4fcf-d4e3-2d28c43a1795"
      },
      "execution_count": null,
      "outputs": [
        {
          "output_type": "stream",
          "name": "stdout",
          "text": [
            "True\n",
            "True\n"
          ]
        }
      ]
    },
    {
      "cell_type": "markdown",
      "source": [
        "## **Evaluate Values and Variables**"
      ],
      "metadata": {
        "id": "FseJcVvQONpX"
      }
    },
    {
      "cell_type": "code",
      "source": [
        "x = \"Hello\"\n",
        "y = 15\n",
        "\n",
        "print(bool(x))\n",
        "print(bool(y))"
      ],
      "metadata": {
        "colab": {
          "base_uri": "https://localhost:8080/"
        },
        "id": "pKWx32K2DiOy",
        "outputId": "0d7ef5b8-4694-4e72-acd8-c15fcde4dcb0"
      },
      "execution_count": null,
      "outputs": [
        {
          "output_type": "stream",
          "name": "stdout",
          "text": [
            "True\n",
            "True\n"
          ]
        }
      ]
    },
    {
      "cell_type": "markdown",
      "source": [
        "## **Most Values are True**"
      ],
      "metadata": {
        "id": "07y9GfAqOCZ8"
      }
    },
    {
      "cell_type": "code",
      "source": [
        "bool(\"abc\")\n",
        "bool(123)\n",
        "bool([\"apple\", \"cherry\", \"banana\"])"
      ],
      "metadata": {
        "colab": {
          "base_uri": "https://localhost:8080/"
        },
        "id": "kxLhD7_FDlRI",
        "outputId": "5bb958f5-71d7-4667-baf5-41a70fb99a0c"
      },
      "execution_count": null,
      "outputs": [
        {
          "output_type": "execute_result",
          "data": {
            "text/plain": [
              "True"
            ]
          },
          "metadata": {},
          "execution_count": 96
        }
      ]
    },
    {
      "cell_type": "markdown",
      "source": [
        "## **Some Values are False**"
      ],
      "metadata": {
        "id": "sWgZClJsOG84"
      }
    },
    {
      "cell_type": "code",
      "source": [
        "bool(False)\n",
        "bool(None)\n",
        "bool(0)\n",
        "bool(\"\")\n",
        "bool(())\n",
        "bool([])\n",
        "bool({})"
      ],
      "metadata": {
        "colab": {
          "base_uri": "https://localhost:8080/"
        },
        "id": "6MmxEaHMEFoH",
        "outputId": "813b07b3-28e9-4e99-8550-001b301768eb"
      },
      "execution_count": null,
      "outputs": [
        {
          "output_type": "execute_result",
          "data": {
            "text/plain": [
              "False"
            ]
          },
          "metadata": {},
          "execution_count": 99
        }
      ]
    },
    {
      "cell_type": "code",
      "source": [
        "class myclass():\n",
        "  def __len__(self):\n",
        "    return 0\n",
        "\n",
        "myobj = myclass()\n",
        "print(bool(myobj))"
      ],
      "metadata": {
        "colab": {
          "base_uri": "https://localhost:8080/"
        },
        "id": "13Fv0JPbF-lX",
        "outputId": "fd828f4d-e391-49b1-9d63-85aea89a5fd9"
      },
      "execution_count": null,
      "outputs": [
        {
          "output_type": "stream",
          "name": "stdout",
          "text": [
            "False\n"
          ]
        }
      ]
    },
    {
      "cell_type": "markdown",
      "source": [
        "## **Functions can Return a Boolean**"
      ],
      "metadata": {
        "id": "urno33RMOXSA"
      }
    },
    {
      "cell_type": "code",
      "source": [
        "def myFunction() :\n",
        "  return True\n",
        "\n",
        "print(myFunction())"
      ],
      "metadata": {
        "colab": {
          "base_uri": "https://localhost:8080/"
        },
        "id": "RUPLUS--OehA",
        "outputId": "827f534a-3ada-4102-ebd2-c63c94ccba34"
      },
      "execution_count": null,
      "outputs": [
        {
          "output_type": "stream",
          "name": "stdout",
          "text": [
            "True\n"
          ]
        }
      ]
    },
    {
      "cell_type": "code",
      "source": [
        "def myFunction() :\n",
        "  return True\n",
        "\n",
        "if myFunction():\n",
        "  print(\"YES!\")\n",
        "else:\n",
        "  print(\"NO!\")"
      ],
      "metadata": {
        "colab": {
          "base_uri": "https://localhost:8080/"
        },
        "id": "NpUCThFjOuzi",
        "outputId": "2a8a9600-acdb-4778-ce10-571916b8f56b"
      },
      "execution_count": null,
      "outputs": [
        {
          "output_type": "stream",
          "name": "stdout",
          "text": [
            "YES!\n"
          ]
        }
      ]
    },
    {
      "cell_type": "code",
      "source": [
        "x = 200\n",
        "print(isinstance(x, int))"
      ],
      "metadata": {
        "colab": {
          "base_uri": "https://localhost:8080/"
        },
        "id": "XBjDJq39Ow6Y",
        "outputId": "842bdeeb-3cac-4db4-d703-9a6a25660dd3"
      },
      "execution_count": null,
      "outputs": [
        {
          "output_type": "stream",
          "name": "stdout",
          "text": [
            "True\n"
          ]
        }
      ]
    },
    {
      "cell_type": "markdown",
      "source": [
        "# **Operators**"
      ],
      "metadata": {
        "id": "qF7IEhazO1D0"
      }
    },
    {
      "cell_type": "code",
      "source": [
        "print(10 + 5)"
      ],
      "metadata": {
        "colab": {
          "base_uri": "https://localhost:8080/"
        },
        "id": "AM4dVC1CO31N",
        "outputId": "a6f3c6df-5654-4b5c-8ed4-0579e46af860"
      },
      "execution_count": null,
      "outputs": [
        {
          "output_type": "stream",
          "name": "stdout",
          "text": [
            "15\n"
          ]
        }
      ]
    },
    {
      "cell_type": "markdown",
      "source": [
        "## **Arithmetic Operators**"
      ],
      "metadata": {
        "id": "sVIptw32Pai4"
      }
    },
    {
      "cell_type": "code",
      "source": [
        "x = 10\n",
        "y = 3\n",
        "\n",
        "addition = x + y\n",
        "print(\"Addition:\", addition)\n",
        "\n",
        "subtraction = x - y\n",
        "print(\"Subtraction:\", subtraction)\n",
        "\n",
        "multiplication = x * y\n",
        "print(\"Multiplication:\", multiplication)\n",
        "\n",
        "division = x / y\n",
        "print(\"Division:\", division)\n",
        "\n",
        "modulus = x % y\n",
        "print(\"Modulus:\", modulus)\n",
        "\n",
        "exponentiation = x ** y\n",
        "print(\"Exponentiation:\", exponentiation)\n",
        "\n",
        "floor_division = x // y\n",
        "print(\"Floor Division:\", floor_division)"
      ],
      "metadata": {
        "id": "4Q0-z8cRO_Ie",
        "colab": {
          "base_uri": "https://localhost:8080/"
        },
        "outputId": "269ddd62-0e2e-4210-cb93-058dc480a8bc"
      },
      "execution_count": null,
      "outputs": [
        {
          "output_type": "stream",
          "name": "stdout",
          "text": [
            "Addition: 13\n",
            "Subtraction: 7\n",
            "Multiplication: 30\n",
            "Division: 3.3333333333333335\n",
            "Modulus: 1\n",
            "Exponentiation: 1000\n",
            "Floor Division: 3\n"
          ]
        }
      ]
    },
    {
      "cell_type": "markdown",
      "source": [
        "## **Assignment Operators**"
      ],
      "metadata": {
        "id": "fjXCXpxpPegS"
      }
    },
    {
      "cell_type": "code",
      "source": [
        "# 1. Assignment (=)\n",
        "x = 5\n",
        "print(\"x =\", x)\n",
        "\n",
        "# 2. Add and Assign (+=)\n",
        "x += 3\n",
        "print(\"x += 3 -->\", x)\n",
        "\n",
        "# 3. Subtract and Assign (-=)\n",
        "x -= 3\n",
        "print(\"x -= 3 -->\", x)\n",
        "\n",
        "# 4. Multiply and Assign (*=)\n",
        "x *= 3\n",
        "print(\"x *= 3 -->\", x)\n",
        "\n",
        "# 5. Divide and Assign (/=)\n",
        "x /= 3\n",
        "print(\"x /= 3 -->\", x)\n",
        "\n",
        "# 6. Modulus and Assign (%=)\n",
        "x %= 3\n",
        "print(\"x %= 3 -->\", x)\n",
        "\n",
        "# 7. Floor Divide and Assign (//=)\n",
        "x //= 3\n",
        "print(\"x //= 3 -->\", x)\n",
        "\n",
        "# 8. Exponent and Assign (**=)\n",
        "x = 5  # Reset x to 5\n",
        "x **= 3\n",
        "print(\"x **= 3 -->\", x)\n",
        "\n",
        "# 9. Bitwise AND and Assign (&=)\n",
        "x &= 3\n",
        "print(\"x &= 3 -->\", x)\n",
        "\n",
        "# 10. Bitwise OR and Assign (|=)\n",
        "x |= 3\n",
        "print(\"x |= 3 -->\", x)\n",
        "\n",
        "# 11. Bitwise XOR and Assign (^=)\n",
        "x ^= 3\n",
        "print(\"x ^= 3 -->\", x)\n",
        "\n",
        "# 12. Bitwise Right Shift and Assign (>>=)\n",
        "x = 8  # Reset x to 8\n",
        "x >>= 3\n",
        "print(\"x >>= 3 -->\", x)\n",
        "\n",
        "# 13. Bitwise Left Shift and Assign (<<=)\n",
        "x <<= 3\n",
        "print(\"x <<= 3 -->\", x)\n",
        "\n",
        "# 14. Walrus Operator (:=)\n",
        "print(x := 3)\n",
        "print(\"x =\", x)"
      ],
      "metadata": {
        "colab": {
          "base_uri": "https://localhost:8080/"
        },
        "id": "n0LVE4PnPjDk",
        "outputId": "4e071228-e557-4beb-eca0-fbcd43cb09e2"
      },
      "execution_count": null,
      "outputs": [
        {
          "output_type": "stream",
          "name": "stdout",
          "text": [
            "x = 5\n",
            "x += 3 --> 8\n",
            "x -= 3 --> 5\n",
            "x *= 3 --> 15\n",
            "x /= 3 --> 5.0\n",
            "x %= 3 --> 2.0\n",
            "x //= 3 --> 0.0\n",
            "x **= 3 --> 125\n",
            "x &= 3 --> 1\n",
            "x |= 3 --> 3\n",
            "x ^= 3 --> 0\n",
            "x >>= 3 --> 1\n",
            "x <<= 3 --> 8\n",
            "3\n",
            "x = 3\n"
          ]
        }
      ]
    },
    {
      "cell_type": "markdown",
      "source": [
        "## **Comparison Operators**"
      ],
      "metadata": {
        "id": "HDpnkLifSTd3"
      }
    },
    {
      "cell_type": "code",
      "source": [
        "x = 5\n",
        "y = 5\n",
        "print(\"x == y:\", x == y)\n",
        "\n",
        "x = 5\n",
        "y = 3\n",
        "print(\"x != y:\", x != y)\n",
        "\n",
        "x = 5\n",
        "y = 3\n",
        "print(\"x > y:\", x > y)\n",
        "\n",
        "x = 5\n",
        "y = 7\n",
        "print(\"x < y:\", x < y)\n",
        "\n",
        "x = 5\n",
        "y = 5\n",
        "print(\"x >= y:\", x >= y)\n",
        "\n",
        "x = 5\n",
        "y = 7\n",
        "print(\"x <= y:\", x <= y)"
      ],
      "metadata": {
        "colab": {
          "base_uri": "https://localhost:8080/"
        },
        "id": "H1EtoQmRSWph",
        "outputId": "ffa78b77-72ef-4232-d06c-389f6cf8f179"
      },
      "execution_count": null,
      "outputs": [
        {
          "output_type": "stream",
          "name": "stdout",
          "text": [
            "x == y: True\n",
            "x != y: True\n",
            "x > y: True\n",
            "x < y: True\n",
            "x >= y: True\n",
            "x <= y: True\n"
          ]
        }
      ]
    },
    {
      "cell_type": "markdown",
      "source": [
        "## **Logical Operators**"
      ],
      "metadata": {
        "id": "eHzaaJUASubE"
      }
    },
    {
      "cell_type": "code",
      "source": [
        "x = 3\n",
        "print(\"x < 5 and x < 10:\", x < 5 and x < 10)\n",
        "\n",
        "x = 3\n",
        "print(\"x < 5 or x < 4:\", x < 5 or x < 4)\n",
        "\n",
        "x = 7\n",
        "print(\"not(x < 5 and x < 10):\", not(x < 5 and x < 10))"
      ],
      "metadata": {
        "colab": {
          "base_uri": "https://localhost:8080/"
        },
        "id": "l3uC6P5nSxG9",
        "outputId": "84ab35c8-5258-4ad3-dccf-e769b07f89dc"
      },
      "execution_count": null,
      "outputs": [
        {
          "output_type": "stream",
          "name": "stdout",
          "text": [
            "x < 5 and x < 10: True\n",
            "x < 5 or x < 4: True\n",
            "not(x < 5 and x < 10): True\n"
          ]
        }
      ]
    },
    {
      "cell_type": "markdown",
      "source": [
        "## **Identity Operators**"
      ],
      "metadata": {
        "id": "HD5h6uP8TExN"
      }
    },
    {
      "cell_type": "code",
      "source": [
        "x = [1, 2, 3]\n",
        "y = x\n",
        "print(\"x is y:\", x is y)\n",
        "\n",
        "x = [1, 2, 3]\n",
        "y = [1, 2, 3]\n",
        "print(\"x is not y:\", x is not y)"
      ],
      "metadata": {
        "colab": {
          "base_uri": "https://localhost:8080/"
        },
        "id": "ocSVQnzbTEBV",
        "outputId": "57874d7e-92e6-492d-9b7c-3e4d5cffce11"
      },
      "execution_count": null,
      "outputs": [
        {
          "output_type": "stream",
          "name": "stdout",
          "text": [
            "x is y: True\n",
            "x is not y: True\n"
          ]
        }
      ]
    },
    {
      "cell_type": "markdown",
      "source": [
        "## **Membership Operators**"
      ],
      "metadata": {
        "id": "OzNzQMJFTTNZ"
      }
    },
    {
      "cell_type": "code",
      "source": [
        "x = 3\n",
        "y = [1, 2, 3, 4, 5]\n",
        "print(\"x in y:\", x in y)\n",
        "\n",
        "x = 6\n",
        "y = [1, 2, 3, 4, 5]\n",
        "print(\"x not in y:\", x not in y)"
      ],
      "metadata": {
        "colab": {
          "base_uri": "https://localhost:8080/"
        },
        "id": "UJbFDZebTW4n",
        "outputId": "0ce2bc37-fe64-407d-d1fc-51c946e4fd38"
      },
      "execution_count": null,
      "outputs": [
        {
          "output_type": "stream",
          "name": "stdout",
          "text": [
            "x in y: True\n",
            "x not in y: True\n"
          ]
        }
      ]
    },
    {
      "cell_type": "markdown",
      "source": [
        "## **Bitwise Operators**"
      ],
      "metadata": {
        "id": "4p4ErPe-TiZn"
      }
    },
    {
      "cell_type": "code",
      "source": [
        "# 1. AND (&)\n",
        "x = 5  # Binary: 0101\n",
        "y = 3  # Binary: 0011\n",
        "print(\"x & y:\", x & y)  # Result: 0001 (1 in decimal)\n",
        "\n",
        "# 2. OR (|)\n",
        "x = 5  # Binary: 0101\n",
        "y = 3  # Binary: 0011\n",
        "print(\"x | y:\", x | y)  # Result: 0111 (7 in decimal)\n",
        "\n",
        "# 3. XOR (^)\n",
        "x = 5  # Binary: 0101\n",
        "y = 3  # Binary: 0011\n",
        "print(\"x ^ y:\", x ^ y)  # Result: 0110 (6 in decimal)\n",
        "\n",
        "# 4. NOT (~)\n",
        "x = 5  # Binary: 0101\n",
        "print(\"~x:\", ~x)  # Result: -0110 (Inverted binary: 1010, which is -6 in decimal)\n",
        "\n",
        "# 5. Zero fill left shift (<<)\n",
        "x = 5  # Binary: 0101\n",
        "print(\"x << 2:\", x << 2)  # Result: 0001 0100 (20 in decimal)\n",
        "\n",
        "# 6. Signed right shift (>>)\n",
        "x = 20  # Binary: 0001 0100\n",
        "print(\"x >> 2:\", x >> 2)  # Result: 0000 0101 (5 in decimal)"
      ],
      "metadata": {
        "colab": {
          "base_uri": "https://localhost:8080/"
        },
        "id": "W5fxcoXQTk-L",
        "outputId": "074f4acb-3ac5-4db0-d128-54cb6aedb92d"
      },
      "execution_count": null,
      "outputs": [
        {
          "output_type": "stream",
          "name": "stdout",
          "text": [
            "x & y: 1\n",
            "x | y: 7\n",
            "x ^ y: 6\n",
            "~x: -6\n",
            "x << 2: 20\n",
            "x >> 2: 5\n"
          ]
        }
      ]
    },
    {
      "cell_type": "markdown",
      "source": [
        "## **Operator Precedence**"
      ],
      "metadata": {
        "id": "XKiUbLZtT6r3"
      }
    },
    {
      "cell_type": "code",
      "source": [
        "# Parentheses\n",
        "print((6 + 3) - (6 + 3))  # Parentheses have the highest precedence\n",
        "\n",
        "# Exponentiation\n",
        "print(2 ** 3)  # Exponentiation has higher precedence than addition\n",
        "\n",
        "# Unary plus, unary minus, and bitwise NOT\n",
        "x = 5\n",
        "print(+x)  # Unary plus\n",
        "print(-x)  # Unary minus\n",
        "print(~x)  # Bitwise NOT\n",
        "\n",
        "# Multiplication, division, floor division, and modulus\n",
        "print(100 + 5 * 3)  # Multiplication has higher precedence than addition\n",
        "print(100 / 5 * 3)  # Division has higher precedence than multiplication\n",
        "print(100 // 5)     # Floor division\n",
        "print(100 % 3)      # Modulus\n",
        "\n",
        "# Addition and subtraction\n",
        "print(5 + 4 - 7 + 3)  # Addition and subtraction have the same precedence, evaluated from left to right\n",
        "\n",
        "# Bitwise left and right shifts\n",
        "x = 4  # Binary: 0100\n",
        "print(x << 2)  # Left shift\n",
        "print(x >> 1)  # Right shift\n",
        "\n",
        "# Bitwise AND, XOR, and OR\n",
        "print(5 & 3)   # Bitwise AND\n",
        "print(5 ^ 3)   # Bitwise XOR\n",
        "print(5 | 3)   # Bitwise OR\n",
        "\n",
        "# Comparisons, identity, and membership operators\n",
        "x = 5\n",
        "y = 3\n",
        "print(x == y)  # Comparison\n",
        "print(x != y)  # Comparison\n",
        "print(x > y)   # Comparison\n",
        "print(x < y)   # Comparison\n",
        "print(x is y)  # Identity\n",
        "print(x is not y)  # Identity\n",
        "print(x in [1, 2, 3, 5])  # Membership\n",
        "print(x not in [1, 2, 3, 4])  # Membership\n",
        "\n",
        "# Logical NOT, AND, and OR\n",
        "print(not (x > y))\n",
        "print(x > y and x != y)\n",
        "print(x > y or x == y)"
      ],
      "metadata": {
        "colab": {
          "base_uri": "https://localhost:8080/"
        },
        "id": "snkjb0a1UTIs",
        "outputId": "81ca92e1-22be-477c-836c-b009c6cc3fb0"
      },
      "execution_count": null,
      "outputs": [
        {
          "output_type": "stream",
          "name": "stdout",
          "text": [
            "0\n",
            "8\n",
            "5\n",
            "-5\n",
            "-6\n",
            "115\n",
            "60.0\n",
            "20\n",
            "1\n",
            "5\n",
            "16\n",
            "2\n",
            "1\n",
            "6\n",
            "7\n",
            "False\n",
            "True\n",
            "True\n",
            "False\n",
            "False\n",
            "True\n",
            "True\n",
            "True\n",
            "False\n",
            "True\n",
            "True\n"
          ]
        }
      ]
    },
    {
      "cell_type": "markdown",
      "source": [
        "# **Python If ... Else**"
      ],
      "metadata": {
        "id": "6QUvPllsU_7e"
      }
    },
    {
      "cell_type": "markdown",
      "source": [
        "## **If**"
      ],
      "metadata": {
        "id": "qnCV-cAAjas-"
      }
    },
    {
      "cell_type": "code",
      "source": [
        "a = 33\n",
        "b = 200\n",
        "if b > a:\n",
        "  print(\"b is greater than a\")"
      ],
      "metadata": {
        "colab": {
          "base_uri": "https://localhost:8080/"
        },
        "id": "bh-PCpC0gPor",
        "outputId": "26d6ac99-ff27-434a-da1a-b05c5783bed0"
      },
      "execution_count": null,
      "outputs": [
        {
          "output_type": "stream",
          "name": "stdout",
          "text": [
            "b is greater than a\n"
          ]
        }
      ]
    },
    {
      "cell_type": "code",
      "source": [
        "a = 5\n",
        "b = 10\n",
        "\n",
        "if a == b:\n",
        "    print(\"a is equal to b\")\n",
        "\n",
        "if a != b:\n",
        "    print(\"a is not equal to b\")\n",
        "\n",
        "if a < b:\n",
        "    print(\"a is less than b\")\n",
        "\n",
        "if a <= b:\n",
        "    print(\"a is less than or equal to b\")\n",
        "\n",
        "if a > b:\n",
        "    print(\"a is greater than b\")\n",
        "\n",
        "if a >= b:\n",
        "    print(\"a is greater than or equal to b\")"
      ],
      "metadata": {
        "id": "OM8Y9LHeVFfJ",
        "colab": {
          "base_uri": "https://localhost:8080/"
        },
        "outputId": "0787d12e-ba2d-4995-da81-205d4130a75b"
      },
      "execution_count": null,
      "outputs": [
        {
          "output_type": "stream",
          "name": "stdout",
          "text": [
            "a is not equal to b\n",
            "a is less than b\n",
            "a is less than or equal to b\n"
          ]
        }
      ]
    },
    {
      "cell_type": "markdown",
      "source": [
        "## **Elif**"
      ],
      "metadata": {
        "id": "NAskBHXNjeXo"
      }
    },
    {
      "cell_type": "code",
      "source": [
        "a = 33\n",
        "b = 33\n",
        "if b > a:\n",
        "  print(\"b is greater than a\")\n",
        "elif a == b:\n",
        "  print(\"a and b are equal\")"
      ],
      "metadata": {
        "colab": {
          "base_uri": "https://localhost:8080/"
        },
        "id": "xo62dz2ugQcf",
        "outputId": "4e94cc6d-8940-4723-c68c-1931bec60fb8"
      },
      "execution_count": null,
      "outputs": [
        {
          "output_type": "stream",
          "name": "stdout",
          "text": [
            "a and b are equal\n"
          ]
        }
      ]
    },
    {
      "cell_type": "code",
      "source": [
        "a = 5\n",
        "b = 10\n",
        "\n",
        "if a == b:\n",
        "    print(\"a is equal to b\")\n",
        "elif a != b:\n",
        "    print(\"a is not equal to b\")\n",
        "    if a < b:\n",
        "        print(\"a is less than b\")\n",
        "    elif a > b:\n",
        "        print(\"a is greater than b\")\n",
        "\n",
        "if a <= b:\n",
        "    print(\"a is less than or equal to b\")\n",
        "elif a >= b:\n",
        "    print(\"a is greater than or equal to b\")"
      ],
      "metadata": {
        "colab": {
          "base_uri": "https://localhost:8080/"
        },
        "id": "hlI4o6riez6H",
        "outputId": "c518f513-d904-444f-a97b-69da02acb82b"
      },
      "execution_count": null,
      "outputs": [
        {
          "output_type": "stream",
          "name": "stdout",
          "text": [
            "a is not equal to b\n",
            "a is less than b\n",
            "a is less than or equal to b\n"
          ]
        }
      ]
    },
    {
      "cell_type": "markdown",
      "source": [
        "## **Else**"
      ],
      "metadata": {
        "id": "8222rLT0jhnu"
      }
    },
    {
      "cell_type": "code",
      "source": [
        "a = 200\n",
        "b = 33\n",
        "if b > a:\n",
        "  print(\"b is greater than a\")\n",
        "else:\n",
        "  print(\"b is not greater than a\")"
      ],
      "metadata": {
        "colab": {
          "base_uri": "https://localhost:8080/"
        },
        "id": "rbDIqG2EgXb2",
        "outputId": "ece9f1c0-f8ae-4055-915a-4378dba1ba6e"
      },
      "execution_count": null,
      "outputs": [
        {
          "output_type": "stream",
          "name": "stdout",
          "text": [
            "b is not greater than a\n"
          ]
        }
      ]
    },
    {
      "cell_type": "markdown",
      "source": [
        "## **If..Elif...Else**"
      ],
      "metadata": {
        "id": "x5ucmccgj4he"
      }
    },
    {
      "cell_type": "code",
      "source": [
        "a = 200\n",
        "b = 33\n",
        "if b > a:\n",
        "  print(\"b is greater than a\")\n",
        "elif a == b:\n",
        "  print(\"a and b are equal\")\n",
        "else:\n",
        "  print(\"a is greater than b\")"
      ],
      "metadata": {
        "colab": {
          "base_uri": "https://localhost:8080/"
        },
        "id": "nCKvVdFWgS1G",
        "outputId": "72c7c5ca-8141-41e9-eef3-962bd5292125"
      },
      "execution_count": null,
      "outputs": [
        {
          "output_type": "stream",
          "name": "stdout",
          "text": [
            "a is greater than b\n"
          ]
        }
      ]
    },
    {
      "cell_type": "code",
      "source": [
        "a = 5\n",
        "b = 10\n",
        "\n",
        "if a == b:\n",
        "    print(\"a is equal to b\")\n",
        "elif a != b:\n",
        "    print(\"a is not equal to b\")\n",
        "\n",
        "    if a < b:\n",
        "        print(\"a is less than b\")\n",
        "    elif a > b:\n",
        "        print(\"a is greater than b\")\n",
        "\n",
        "if a <= b:\n",
        "    print(\"a is less than or equal to b\")\n",
        "elif a >= b:\n",
        "    print(\"a is greater than or equal to b\")\n",
        "else:\n",
        "    print(\"This condition is not possible!\")"
      ],
      "metadata": {
        "colab": {
          "base_uri": "https://localhost:8080/"
        },
        "id": "0eTlATeUfOYJ",
        "outputId": "24f21b50-ee18-4402-9084-c8ca2e54ab26"
      },
      "execution_count": null,
      "outputs": [
        {
          "output_type": "stream",
          "name": "stdout",
          "text": [
            "a is not equal to b\n",
            "a is less than b\n",
            "a is less than or equal to b\n"
          ]
        }
      ]
    },
    {
      "cell_type": "markdown",
      "source": [
        "## **Short Hand If**"
      ],
      "metadata": {
        "id": "J_DNu-6bkEE3"
      }
    },
    {
      "cell_type": "code",
      "source": [
        "a = 7\n",
        "b = 3\n",
        "\n",
        "if a > b: print(\"a is greater than b\")"
      ],
      "metadata": {
        "colab": {
          "base_uri": "https://localhost:8080/"
        },
        "id": "HlxueIWvgay6",
        "outputId": "3362ddf9-f51f-46bf-a5cc-b22c3bb2b2c6"
      },
      "execution_count": null,
      "outputs": [
        {
          "output_type": "stream",
          "name": "stdout",
          "text": [
            "a is greater than b\n"
          ]
        }
      ]
    },
    {
      "cell_type": "markdown",
      "source": [
        "## **Short Hand If..Else**"
      ],
      "metadata": {
        "id": "UzfxegwGkHmE"
      }
    },
    {
      "cell_type": "code",
      "source": [
        "a = 2\n",
        "b = 330\n",
        "print(\"A\") if a > b else print(\"B\")"
      ],
      "metadata": {
        "colab": {
          "base_uri": "https://localhost:8080/"
        },
        "id": "QRHGI1F5ghaI",
        "outputId": "7033e544-9f08-421a-9c5c-253293de3575"
      },
      "execution_count": null,
      "outputs": [
        {
          "output_type": "stream",
          "name": "stdout",
          "text": [
            "B\n"
          ]
        }
      ]
    },
    {
      "cell_type": "code",
      "source": [
        "a = 330\n",
        "b = 330\n",
        "print(\"A\") if a > b else print(\"=\") if a == b else print(\"B\")"
      ],
      "metadata": {
        "colab": {
          "base_uri": "https://localhost:8080/"
        },
        "id": "I3X3Fnntgn_9",
        "outputId": "74700664-63d2-4954-d602-8c36ed3f1f3c"
      },
      "execution_count": null,
      "outputs": [
        {
          "output_type": "stream",
          "name": "stdout",
          "text": [
            "=\n"
          ]
        }
      ]
    },
    {
      "cell_type": "markdown",
      "source": [
        "## **And**"
      ],
      "metadata": {
        "id": "9E2N0U-ykMjh"
      }
    },
    {
      "cell_type": "code",
      "source": [
        "a = 200\n",
        "b = 33\n",
        "c = 500\n",
        "if a > b and c > a:\n",
        "  print(\"Both conditions are True\")"
      ],
      "metadata": {
        "colab": {
          "base_uri": "https://localhost:8080/"
        },
        "id": "viJsdeEdgpPa",
        "outputId": "ce118d10-c48d-471d-d0e9-b4267cdfefbe"
      },
      "execution_count": null,
      "outputs": [
        {
          "output_type": "stream",
          "name": "stdout",
          "text": [
            "Both conditions are True\n"
          ]
        }
      ]
    },
    {
      "cell_type": "markdown",
      "source": [
        "## **Or**"
      ],
      "metadata": {
        "id": "EKXHv8mgkPFa"
      }
    },
    {
      "cell_type": "code",
      "source": [
        "a = 200\n",
        "b = 33\n",
        "c = 500\n",
        "if a > b or a > c:\n",
        "  print(\"At least one of the conditions is True\")"
      ],
      "metadata": {
        "colab": {
          "base_uri": "https://localhost:8080/"
        },
        "id": "IDyTcOmcgtRD",
        "outputId": "c92a793e-f2ee-46cb-ca1a-e24d39baee6a"
      },
      "execution_count": null,
      "outputs": [
        {
          "output_type": "stream",
          "name": "stdout",
          "text": [
            "At least one of the conditions is True\n"
          ]
        }
      ]
    },
    {
      "cell_type": "markdown",
      "source": [
        "## **Not**"
      ],
      "metadata": {
        "id": "AJYQt68lkSM0"
      }
    },
    {
      "cell_type": "code",
      "source": [
        "a = 33\n",
        "b = 200\n",
        "if not a > b:\n",
        "  print(\"a is NOT greater than b\")"
      ],
      "metadata": {
        "colab": {
          "base_uri": "https://localhost:8080/"
        },
        "id": "7eaPgB9YgvTF",
        "outputId": "39c31250-bbe8-47fa-acf8-98866500fd80"
      },
      "execution_count": null,
      "outputs": [
        {
          "output_type": "stream",
          "name": "stdout",
          "text": [
            "a is NOT greater than b\n"
          ]
        }
      ]
    },
    {
      "cell_type": "markdown",
      "source": [
        "## **Nested If**"
      ],
      "metadata": {
        "id": "qY6cr973kWVC"
      }
    },
    {
      "cell_type": "code",
      "source": [
        "x = 41\n",
        "\n",
        "if x > 10:\n",
        "  print(\"Above ten,\")\n",
        "  if x > 20:\n",
        "    print(\"and also above 20!\")\n",
        "  else:\n",
        "    print(\"but not above 20.\")"
      ],
      "metadata": {
        "colab": {
          "base_uri": "https://localhost:8080/"
        },
        "id": "KeduICowgxgk",
        "outputId": "17e6e284-054c-4c96-b9c9-c974db1cd964"
      },
      "execution_count": null,
      "outputs": [
        {
          "output_type": "stream",
          "name": "stdout",
          "text": [
            "Above ten,\n",
            "and also above 20!\n"
          ]
        }
      ]
    },
    {
      "cell_type": "markdown",
      "source": [
        "## **Pass**"
      ],
      "metadata": {
        "id": "hCwUHRRGkZi0"
      }
    },
    {
      "cell_type": "code",
      "source": [
        "a = 33\n",
        "b = 200\n",
        "\n",
        "if b > a:\n",
        "  pass"
      ],
      "metadata": {
        "id": "tAl-rIdegzbj"
      },
      "execution_count": null,
      "outputs": []
    },
    {
      "cell_type": "markdown",
      "source": [
        "# **Python Loops**"
      ],
      "metadata": {
        "id": "oqkBWaQEg_Mx"
      }
    },
    {
      "cell_type": "markdown",
      "source": [
        "# **For Loop**"
      ],
      "metadata": {
        "id": "IKcnuqSlhCqJ"
      }
    },
    {
      "cell_type": "code",
      "source": [
        "fruits = [\"apple\", \"banana\", \"cherry\"]\n",
        "for x in fruits:\n",
        "  print(x)"
      ],
      "metadata": {
        "colab": {
          "base_uri": "https://localhost:8080/"
        },
        "id": "V_kKIZyZg2sC",
        "outputId": "a0fea6c4-ae1a-45d3-ef1b-4a26b6db3e2c"
      },
      "execution_count": null,
      "outputs": [
        {
          "output_type": "stream",
          "name": "stdout",
          "text": [
            "apple\n",
            "banana\n",
            "cherry\n"
          ]
        }
      ]
    },
    {
      "cell_type": "code",
      "source": [
        "for x in \"banana\":\n",
        "  print(x)"
      ],
      "metadata": {
        "colab": {
          "base_uri": "https://localhost:8080/"
        },
        "id": "VIZk-mFkhL1r",
        "outputId": "35c8eab8-a466-41b5-a9c9-adcf0e6f2893"
      },
      "execution_count": null,
      "outputs": [
        {
          "output_type": "stream",
          "name": "stdout",
          "text": [
            "b\n",
            "a\n",
            "n\n",
            "a\n",
            "n\n",
            "a\n"
          ]
        }
      ]
    },
    {
      "cell_type": "code",
      "source": [
        "fruits = [\"apple\", \"banana\", \"cherry\"]\n",
        "for x in fruits:\n",
        "  print(x)\n",
        "  if x == \"banana\":\n",
        "    break              #break statement we can stop the loop before it has looped through all the items"
      ],
      "metadata": {
        "colab": {
          "base_uri": "https://localhost:8080/"
        },
        "id": "5IFg1uU7hOQ2",
        "outputId": "e94e4136-e668-4aac-83b3-cd3f1b2ec67b"
      },
      "execution_count": null,
      "outputs": [
        {
          "output_type": "stream",
          "name": "stdout",
          "text": [
            "apple\n",
            "banana\n"
          ]
        }
      ]
    },
    {
      "cell_type": "code",
      "source": [
        "fruits = [\"apple\", \"banana\", \"cherry\"]\n",
        "for x in fruits:\n",
        "  if x == \"banana\":\n",
        "    break\n",
        "  print(x)"
      ],
      "metadata": {
        "colab": {
          "base_uri": "https://localhost:8080/"
        },
        "id": "iEhaKWnMhQw1",
        "outputId": "9466f282-ac10-49bc-de9d-7f40610b7b56"
      },
      "execution_count": null,
      "outputs": [
        {
          "output_type": "stream",
          "name": "stdout",
          "text": [
            "apple\n"
          ]
        }
      ]
    },
    {
      "cell_type": "code",
      "source": [
        "fruits = [\"apple\", \"banana\", \"cherry\"]\n",
        "for x in fruits:\n",
        "  if x == \"banana\":\n",
        "    continue          #continue statement we can stop the current iteration of the loop, and continue with the next\n",
        "  print(x)"
      ],
      "metadata": {
        "colab": {
          "base_uri": "https://localhost:8080/"
        },
        "id": "LdRbyycLhTKX",
        "outputId": "896c35a2-460f-4f7e-a759-5430b1eda05a"
      },
      "execution_count": null,
      "outputs": [
        {
          "output_type": "stream",
          "name": "stdout",
          "text": [
            "apple\n",
            "cherry\n"
          ]
        }
      ]
    },
    {
      "cell_type": "code",
      "source": [
        "for x in range(6):\n",
        "  print(x)"
      ],
      "metadata": {
        "colab": {
          "base_uri": "https://localhost:8080/"
        },
        "id": "es_Y2OKrhU54",
        "outputId": "8d462752-1cec-437b-81a3-2dd63dba1eb3"
      },
      "execution_count": null,
      "outputs": [
        {
          "output_type": "stream",
          "name": "stdout",
          "text": [
            "0\n",
            "1\n",
            "2\n",
            "3\n",
            "4\n",
            "5\n"
          ]
        }
      ]
    },
    {
      "cell_type": "code",
      "source": [
        "for x in range(2, 6):\n",
        "  print(x)"
      ],
      "metadata": {
        "colab": {
          "base_uri": "https://localhost:8080/"
        },
        "id": "R0AmFakmhYm_",
        "outputId": "aaac0939-a3b9-484b-c6e0-ad333bc12687"
      },
      "execution_count": null,
      "outputs": [
        {
          "output_type": "stream",
          "name": "stdout",
          "text": [
            "2\n",
            "3\n",
            "4\n",
            "5\n"
          ]
        }
      ]
    },
    {
      "cell_type": "code",
      "source": [
        "for x in range(2, 30, 3):\n",
        "  print(x)"
      ],
      "metadata": {
        "colab": {
          "base_uri": "https://localhost:8080/"
        },
        "id": "G9CQqN5yha2I",
        "outputId": "ccd5adcc-41c8-4f61-a9d4-d6defda21f16"
      },
      "execution_count": null,
      "outputs": [
        {
          "output_type": "stream",
          "name": "stdout",
          "text": [
            "2\n",
            "5\n",
            "8\n",
            "11\n",
            "14\n",
            "17\n",
            "20\n",
            "23\n",
            "26\n",
            "29\n"
          ]
        }
      ]
    },
    {
      "cell_type": "code",
      "source": [
        "for x in range(6):\n",
        "  print(x)\n",
        "else:\n",
        "  print(\"Finally finished!\")"
      ],
      "metadata": {
        "colab": {
          "base_uri": "https://localhost:8080/"
        },
        "id": "XXAtESvVhcYZ",
        "outputId": "c75f0d32-a023-42f0-a54a-455e0aa29eaf"
      },
      "execution_count": null,
      "outputs": [
        {
          "output_type": "stream",
          "name": "stdout",
          "text": [
            "0\n",
            "1\n",
            "2\n",
            "3\n",
            "4\n",
            "5\n",
            "Finally finished!\n"
          ]
        }
      ]
    },
    {
      "cell_type": "code",
      "source": [
        "for x in range(6):\n",
        "  if x == 3: break\n",
        "  print(x)\n",
        "else:\n",
        "  print(\"Finally finished!\")"
      ],
      "metadata": {
        "colab": {
          "base_uri": "https://localhost:8080/"
        },
        "id": "t1Mp02QThgbP",
        "outputId": "b0738d0b-c905-4e2d-b948-9102e5414a4d"
      },
      "execution_count": null,
      "outputs": [
        {
          "output_type": "stream",
          "name": "stdout",
          "text": [
            "0\n",
            "1\n",
            "2\n"
          ]
        }
      ]
    },
    {
      "cell_type": "code",
      "source": [
        "adj = [\"red\", \"big\", \"tasty\"]\n",
        "fruits = [\"apple\", \"banana\", \"cherry\"]\n",
        "\n",
        "for x in adj:\n",
        "  for y in fruits:\n",
        "    print(x, y)"
      ],
      "metadata": {
        "colab": {
          "base_uri": "https://localhost:8080/"
        },
        "id": "wxoUgkXPhiGN",
        "outputId": "d21625b4-e51b-4dd8-b7e8-b6a1be9b16ce"
      },
      "execution_count": null,
      "outputs": [
        {
          "output_type": "stream",
          "name": "stdout",
          "text": [
            "red apple\n",
            "red banana\n",
            "red cherry\n",
            "big apple\n",
            "big banana\n",
            "big cherry\n",
            "tasty apple\n",
            "tasty banana\n",
            "tasty cherry\n"
          ]
        }
      ]
    },
    {
      "cell_type": "code",
      "source": [
        "for x in [0, 1, 2]:\n",
        "  pass"
      ],
      "metadata": {
        "id": "dThDYOSfhrqv"
      },
      "execution_count": null,
      "outputs": []
    },
    {
      "cell_type": "markdown",
      "source": [
        "# **While Loops**"
      ],
      "metadata": {
        "id": "ycYfvWYAhwcu"
      }
    },
    {
      "cell_type": "code",
      "source": [
        "i = 1\n",
        "while i < 6:\n",
        "  print(i)\n",
        "  i += 1"
      ],
      "metadata": {
        "colab": {
          "base_uri": "https://localhost:8080/"
        },
        "id": "UjSwa51vhzgI",
        "outputId": "be5d6c78-241a-4f8d-8d02-fec3f46b6e39"
      },
      "execution_count": null,
      "outputs": [
        {
          "output_type": "stream",
          "name": "stdout",
          "text": [
            "1\n",
            "2\n",
            "3\n",
            "4\n",
            "5\n"
          ]
        }
      ]
    },
    {
      "cell_type": "code",
      "source": [
        "i = 1\n",
        "while i < 6:\n",
        "  print(i)\n",
        "  if i == 3:\n",
        "    break\n",
        "  i += 1"
      ],
      "metadata": {
        "colab": {
          "base_uri": "https://localhost:8080/"
        },
        "id": "_XO47uBBh160",
        "outputId": "df8d9702-004c-4a1a-8404-444e6d69a8ac"
      },
      "execution_count": null,
      "outputs": [
        {
          "output_type": "stream",
          "name": "stdout",
          "text": [
            "1\n",
            "2\n",
            "3\n"
          ]
        }
      ]
    },
    {
      "cell_type": "code",
      "source": [
        "i = 0\n",
        "while i < 6:\n",
        "  i += 1\n",
        "  if i == 3:\n",
        "    continue\n",
        "  print(i)"
      ],
      "metadata": {
        "colab": {
          "base_uri": "https://localhost:8080/"
        },
        "id": "XF5QuKW7h4fA",
        "outputId": "4ceb8969-2c72-4a50-c1ea-cba1e7509d54"
      },
      "execution_count": null,
      "outputs": [
        {
          "output_type": "stream",
          "name": "stdout",
          "text": [
            "1\n",
            "2\n",
            "4\n",
            "5\n",
            "6\n"
          ]
        }
      ]
    },
    {
      "cell_type": "code",
      "source": [
        "i = 1\n",
        "while i < 6:\n",
        "  print(i)\n",
        "  i += 1\n",
        "else:\n",
        "  print(\"i is no longer less than 6\")"
      ],
      "metadata": {
        "colab": {
          "base_uri": "https://localhost:8080/"
        },
        "id": "7Wv4hULkh9Cy",
        "outputId": "ff9cba4b-9e56-40bd-bb64-939bbab806e2"
      },
      "execution_count": null,
      "outputs": [
        {
          "output_type": "stream",
          "name": "stdout",
          "text": [
            "1\n",
            "2\n",
            "3\n",
            "4\n",
            "5\n",
            "i is no longer less than 6\n"
          ]
        }
      ]
    },
    {
      "cell_type": "markdown",
      "source": [
        "#### **Practice:**"
      ],
      "metadata": {
        "id": "1Ipv6YMPwcb8"
      }
    },
    {
      "cell_type": "code",
      "source": [
        "DS_Topics = [\"Python\", \"OOP\", \"Machine Learning\", \"Deep Learning\", \"NLP\"]\n",
        "\n",
        "print(\"Data Science Topics :\")\n",
        "for topic in DS_Topics:\n",
        "    print(topic)"
      ],
      "metadata": {
        "colab": {
          "base_uri": "https://localhost:8080/"
        },
        "id": "qSd7zxK4vVWl",
        "outputId": "13a6aa15-3eac-4ac5-d368-d5ea1d7f60a5"
      },
      "execution_count": 8,
      "outputs": [
        {
          "output_type": "stream",
          "name": "stdout",
          "text": [
            "Data Science Topics :\n",
            "Python\n",
            "OOP\n",
            "Machine Learning\n",
            "Deep Learning\n",
            "NLP\n"
          ]
        }
      ]
    },
    {
      "cell_type": "code",
      "source": [
        "DS_Topics = [\"Python\", \"OOP\", \"Machine Learning\"]\n",
        "\n",
        "print(\"Data Science Topics Nishat Completed :\")\n",
        "i = 0\n",
        "while i < len(DS_Topics):\n",
        "    print(DS_Topics[i])\n",
        "    i += 1"
      ],
      "metadata": {
        "colab": {
          "base_uri": "https://localhost:8080/"
        },
        "id": "6Wy4gKYEvmb7",
        "outputId": "9d32ba92-1e47-4ea5-f811-9a110e4bee9e"
      },
      "execution_count": 9,
      "outputs": [
        {
          "output_type": "stream",
          "name": "stdout",
          "text": [
            "Data Science Topics Nishat Completed :\n",
            "Python\n",
            "OOP\n",
            "Machine Learning\n"
          ]
        }
      ]
    },
    {
      "cell_type": "markdown",
      "source": [
        "### **To Be Continued....**"
      ],
      "metadata": {
        "id": "ArLOZmySmRVc"
      }
    }
  ]
}